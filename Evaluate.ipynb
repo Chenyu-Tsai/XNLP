{
 "cells": [
  {
   "cell_type": "code",
   "execution_count": 1,
   "metadata": {},
   "outputs": [],
   "source": [
    "import torch\n",
    "from torch import nn\n",
    "from torch.utils.data import DataLoader\n",
    "from transformers.modeling_utils import (WEIGHTS_NAME, PretrainedConfig, PreTrainedModel,\n",
    "                             SequenceSummary, PoolerAnswerClass, PoolerEndLogits, PoolerStartLogits)\n",
    "from transformers import XLNetTokenizer, XLNetForSequenceClassification, XLNetPreTrainedModel, XLNetModel\n",
    "from torch.nn import CrossEntropyLoss, BCEWithLogitsLoss\n",
    "from transformers import get_linear_schedule_with_warmup\n",
    "from sklearn.metrics import f1_score, precision_score, recall_score, accuracy_score\n",
    "from XLNet import XLNetForMultiSequenceClassification\n",
    "\n",
    "\n",
    "import pandas as pd\n",
    "import numpy as np\n",
    "import random\n",
    "from IPython.display import clear_output\n",
    "import re\n",
    "from utils import *\n",
    "from tqdm.notebook import tqdm\n",
    "device = torch.device(\"cpu\")"
   ]
  },
  {
   "cell_type": "code",
   "execution_count": 64,
   "metadata": {},
   "outputs": [],
   "source": [
    "class Dataset_MRR(Dataset):\n",
    "    def __init__(self, mode, tokenizer):\n",
    "        assert mode in [\"data/RTE5_test_topk\"]\n",
    "        self.mode = mode\n",
    "        self.df = pd.read_csv(mode + \".tsv\", sep=\"\\t\").fillna(\"\")\n",
    "        self.len = len(self.df)\n",
    "        self.tokenizer = tokenizer\n",
    "        self.task = torch.tensor([0])\n",
    "        \n",
    "    def __getitem__(self, idx):\n",
    "        text_a, text_b, text_eval, label, t3, t5, t7 = self.df.iloc[idx, :].values\n",
    "        label_tensor = torch.tensor(label)\n",
    "        task = self.task\n",
    "            \n",
    "        inputs = tokenizer.encode_plus(text_a, text_b, return_tensors='pt', add_special_tokens=True)\n",
    "        tokens_tensor = inputs['input_ids']\n",
    "        segments_tensor = inputs['token_type_ids']\n",
    "        masks_tensor = inputs['attention_mask']\n",
    "        \n",
    "        return (task, tokens_tensor, segments_tensor, masks_tensor, label_tensor, text_a, text_b, text_eval, t3, t5, t7)\n",
    "    \n",
    "    def __len__(self):\n",
    "        return self.len\n",
    "    \n",
    "tokenizer = XLNetTokenizer.from_pretrained('xlnet-base-cased')"
   ]
  },
  {
   "cell_type": "code",
   "execution_count": 65,
   "metadata": {},
   "outputs": [],
   "source": [
    "dataset = Dataset_MRR(\"data/RTE5_test_topk\", tokenizer=tokenizer)"
   ]
  },
  {
   "cell_type": "code",
   "execution_count": 69,
   "metadata": {},
   "outputs": [],
   "source": [
    "def calculate(model, dataset, tokenizer, unique=False, in_un=False, top_k=None):\n",
    "    total = len(dataset)\n",
    "    entail_total = 0\n",
    "    entail_total_len = 0\n",
    "    neutral_total = 0\n",
    "    neutral_total_len = 0\n",
    "    contradict_total = 0\n",
    "    contradict_total_len = 0\n",
    "    \n",
    "    entail_correct = 0\n",
    "    entail_correct_len = 0\n",
    "    neutral_correct = 0\n",
    "    neutral_correct_len = 0\n",
    "    contradict_correct = 0\n",
    "    contradict_correct_len = 0\n",
    "    \n",
    "    entail_MRR_c = 0.\n",
    "    neutral_MRR_c = 0.\n",
    "    contradict_MRR_c = 0.\n",
    "    \n",
    "    entail_MRR_inc = 0.\n",
    "    neutral_MRR_inc = 0.\n",
    "    contradict_MRR_inc = 0.\n",
    "    \n",
    "    model.eval()\n",
    "    with torch.no_grad():\n",
    "        data_iterator = tqdm(dataset, desc='Iteration')\n",
    "        for data in data_iterator:\n",
    "            if next(model.parameters()).is_cuda:\n",
    "                data = [t.to(\"cuda:0\") for t in data if t is not None]\n",
    "            # predict\n",
    "            task, tokens_tensors, segments_tensors, masks_tensors = data[:4]\n",
    "            sentence_a = data[5]\n",
    "            sentence_b = data[6]\n",
    "            if top_k == 3:\n",
    "                eval_sentence = data[8]\n",
    "            elif top_k == 5:\n",
    "                eval_sentence = data[9]\n",
    "            elif top_k == 7:\n",
    "                eval_sentence = data[10]\n",
    "            else:\n",
    "                eval_sentence = data[7]\n",
    "                \n",
    "            outputs = model(input_ids=tokens_tensors, \n",
    "                            token_type_ids=segments_tensors, \n",
    "                            attention_mask=masks_tensors,\n",
    "                            task=task)\n",
    "            logits = outputs[0]\n",
    "            _, pred = torch.max(logits.data, 1)\n",
    "            \n",
    "            # divide 3 class\n",
    "            label = data[4]\n",
    "            MRR, length = explainability_compare(model,\n",
    "                                                 tokenizer,\n",
    "                                                 sentence_a,\n",
    "                                                 sentence_b,\n",
    "                                                 eval_sentence,\n",
    "                                                 unique=unique,\n",
    "                                                 in_un=in_un,\n",
    "                                                 top_k=top_k,\n",
    "                                                )\n",
    "\n",
    "            if label == torch.tensor([0]):\n",
    "                entail_total += 1\n",
    "                entail_total_len += length\n",
    "                if pred == label:\n",
    "                    entail_correct += 1\n",
    "                    entail_correct_len += length\n",
    "                    entail_MRR_c += MRR\n",
    "                else:\n",
    "                    entail_MRR_inc += MRR\n",
    "            elif label == torch.tensor([1]):\n",
    "                neutral_total += 1\n",
    "                neutral_total_len += length\n",
    "                if pred == label:\n",
    "                    neutral_correct += 1\n",
    "                    neutral_correct_len += length\n",
    "                    neutral_MRR_c += MRR\n",
    "                else:\n",
    "                    neutral_MRR_inc += MRR\n",
    "            else:\n",
    "                contradict_total += 1\n",
    "                contradict_total_len += length\n",
    "                if pred == label:\n",
    "                    contradict_correct += 1\n",
    "                    contradict_correct_len += length\n",
    "                    contradict_MRR_c += MRR\n",
    "                else:\n",
    "                    contradict_MRR_inc += MRR\n",
    "    if contradict_correct_len == 0:\n",
    "        contradict_correct += 1\n",
    "        \n",
    "                    \n",
    "    \n",
    "    return {\n",
    "        'total':total,\n",
    "        'total_MRR':round((entail_MRR_c+entail_MRR_inc+\n",
    "                           neutral_MRR_c+neutral_MRR_inc+\n",
    "                           contradict_MRR_c+contradict_MRR_inc)/total, 4),\n",
    "        'total_acc':round((entail_correct+neutral_correct+contradict_correct)/total, 2),\n",
    "        'total_mean_len':round((entail_total_len+neutral_total_len+contradict_total_len)/total, 1),\n",
    "        'entail_total':entail_total,\n",
    "        'entail_acc':round(entail_correct/entail_total, 2),\n",
    "        'entail_mean_len':round(entail_total_len/entail_total, 1),\n",
    "        'entail_MRR':round((entail_MRR_c+entail_MRR_inc)/entail_total, 4),\n",
    "        'entail_correct':entail_correct,\n",
    "        'entail_correct_mean_len':round(entail_correct_len/entail_correct, 1),\n",
    "        'entail_MRR_c':round(entail_MRR_c/entail_correct, 4),\n",
    "        'entail_incorrect':entail_total-entail_correct,\n",
    "        'entail_incorrect_mean_len':round((entail_total_len-entail_correct_len)/(entail_total-entail_correct), 2),\n",
    "        'entail_MRR_inc':round(entail_MRR_inc/(entail_total-entail_correct), 4),\n",
    "        'neutral_total':neutral_total,\n",
    "        'neutral_acc':round(neutral_correct/neutral_total, 2),\n",
    "        'neutral_mean_len':round(neutral_total_len/neutral_total, 1),\n",
    "        'neutral_MRR':round((neutral_MRR_c+neutral_MRR_inc)/neutral_total, 4),\n",
    "        'neutral_correct':neutral_correct,\n",
    "        'neutral_correct_mean_len':round(neutral_correct_len/neutral_correct, 1),\n",
    "        'neutral_MRR_c':round(neutral_MRR_c/neutral_correct, 4),\n",
    "        'neutral_incorrect':neutral_total-neutral_correct,\n",
    "        'neutral_incorrect_mean_len':round((neutral_total_len-neutral_correct_len)/(neutral_total-neutral_correct), 2),\n",
    "        'neutral_MRR_inc':round(neutral_MRR_inc/(neutral_total-neutral_correct), 4),\n",
    "        'contradict_total':contradict_total,\n",
    "        'contradict_acc':round(contradict_correct/contradict_total, 2),\n",
    "        'contradict_mean_len':round(contradict_total_len/contradict_total, 1),\n",
    "        'contradict_MRR':round((contradict_MRR_c+contradict_MRR_inc)/contradict_total, 4),\n",
    "        'contradict_correct':contradict_correct,\n",
    "        'contradict_correct_mean_len':round(contradict_correct_len/contradict_correct, 1),\n",
    "        'contradict_MRR_c':round(contradict_MRR_c/contradict_correct, 4),\n",
    "        'contradict_incorrect':contradict_total-contradict_correct,\n",
    "        'contradict_incorrect_mean_len':round((contradict_total_len-contradict_correct_len)/(contradict_total-contradict_correct), 2),\n",
    "        'contradict_MRR_inc':round(contradict_MRR_inc/(contradict_total-contradict_correct), 4),\n",
    "    }\n",
    "        "
   ]
  },
  {
   "cell_type": "markdown",
   "metadata": {},
   "source": [
    "# Multi"
   ]
  },
  {
   "cell_type": "code",
   "execution_count": 6,
   "metadata": {
    "collapsed": true
   },
   "outputs": [
    {
     "data": {
      "application/vnd.jupyter.widget-view+json": {
       "model_id": "8c2a9a998efd492cad28996eb7792bd7",
       "version_major": 2,
       "version_minor": 0
      },
      "text/plain": [
       "HBox(children=(IntProgress(value=0, description='Iteration', max=600, style=ProgressStyle(description_width='i…"
      ]
     },
     "metadata": {},
     "output_type": "display_data"
    },
    {
     "name": "stderr",
     "output_type": "stream",
     "text": [
      "/Users/chenyutsai/opt/anaconda3/lib/python3.7/site-packages/torch/nn/functional.py:1340: UserWarning: nn.functional.tanh is deprecated. Use torch.tanh instead.\n",
      "  warnings.warn(\"nn.functional.tanh is deprecated. Use torch.tanh instead.\")\n"
     ]
    },
    {
     "name": "stdout",
     "output_type": "stream",
     "text": [
      "\n",
      "CPU times: user 45min 58s, sys: 32.1 s, total: 46min 30s\n",
      "Wall time: 25min 54s\n"
     ]
    },
    {
     "data": {
      "text/plain": [
       "{'total': 600,\n",
       " 'total_MRR': 0.1842,\n",
       " 'total_acc': 0.56,\n",
       " 'total_mean_len': 15.0,\n",
       " 'entail_total': 300,\n",
       " 'entail_acc': 0.62,\n",
       " 'entail_mean_len': 15.5,\n",
       " 'entail_MRR': 0.2048,\n",
       " 'entail_correct': 185,\n",
       " 'entail_correct_mean_len': 14.9,\n",
       " 'entail_MRR_c': 0.2122,\n",
       " 'entail_incorrect': 115,\n",
       " 'entail_incorrect_mean_len': 16.65,\n",
       " 'entail_MRR_inc': 0.1928,\n",
       " 'neutral_total': 210,\n",
       " 'neutral_acc': 0.62,\n",
       " 'neutral_mean_len': 13.7,\n",
       " 'neutral_MRR': 0.1621,\n",
       " 'neutral_correct': 130,\n",
       " 'neutral_correct_mean_len': 13.7,\n",
       " 'neutral_MRR_c': 0.1619,\n",
       " 'neutral_incorrect': 80,\n",
       " 'neutral_incorrect_mean_len': 13.62,\n",
       " 'neutral_MRR_inc': 0.1624,\n",
       " 'contradict_total': 90,\n",
       " 'contradict_acc': 0.21,\n",
       " 'contradict_mean_len': 16.4,\n",
       " 'contradict_MRR': 0.1671,\n",
       " 'contradict_correct': 19,\n",
       " 'contradict_correct_mean_len': 13.7,\n",
       " 'contradict_MRR_c': 0.1834,\n",
       " 'contradict_incorrect': 71,\n",
       " 'contradict_incorrect_mean_len': 17.13,\n",
       " 'contradict_MRR_inc': 0.1627}"
      ]
     },
     "execution_count": 6,
     "metadata": {},
     "output_type": "execute_result"
    }
   ],
   "source": [
    "%%time\n",
    "model = torch.load('contra_63_24.pkl', map_location=torch.device('cpu'))\n",
    "model_multi_result = calculate(model, testloader, tokenizer, unique=True)"
   ]
  },
  {
   "cell_type": "code",
   "execution_count": 64,
   "metadata": {
    "collapsed": true
   },
   "outputs": [
    {
     "data": {
      "application/vnd.jupyter.widget-view+json": {
       "model_id": "c5dd16fb5f3a4ff597eb4e31272b413a",
       "version_major": 2,
       "version_minor": 0
      },
      "text/plain": [
       "HBox(children=(IntProgress(value=0, description='Iteration', max=600, style=ProgressStyle(description_width='i…"
      ]
     },
     "metadata": {},
     "output_type": "display_data"
    },
    {
     "name": "stdout",
     "output_type": "stream",
     "text": [
      "\n",
      "CPU times: user 47min 13s, sys: 34.1 s, total: 47min 47s\n",
      "Wall time: 27min 2s\n"
     ]
    },
    {
     "data": {
      "text/plain": [
       "{'total': 600,\n",
       " 'total_MRR': 0.4666,\n",
       " 'total_acc': 0.56,\n",
       " 'total_mean_len': 15.0,\n",
       " 'entail_total': 300,\n",
       " 'entail_acc': 0.62,\n",
       " 'entail_mean_len': 15.5,\n",
       " 'entail_MRR': 0.5621,\n",
       " 'entail_correct': 185,\n",
       " 'entail_correct_mean_len': 14.9,\n",
       " 'entail_MRR_c': 0.5755,\n",
       " 'entail_incorrect': 115,\n",
       " 'entail_incorrect_mean_len': 16.65,\n",
       " 'entail_MRR_inc': 0.5405,\n",
       " 'neutral_total': 210,\n",
       " 'neutral_acc': 0.62,\n",
       " 'neutral_mean_len': 13.7,\n",
       " 'neutral_MRR': 0.3305,\n",
       " 'neutral_correct': 130,\n",
       " 'neutral_correct_mean_len': 13.7,\n",
       " 'neutral_MRR_c': 0.3187,\n",
       " 'neutral_incorrect': 80,\n",
       " 'neutral_incorrect_mean_len': 13.62,\n",
       " 'neutral_MRR_inc': 0.3497,\n",
       " 'contradict_total': 90,\n",
       " 'contradict_acc': 0.21,\n",
       " 'contradict_mean_len': 16.4,\n",
       " 'contradict_MRR': 0.4655,\n",
       " 'contradict_correct': 19,\n",
       " 'contradict_correct_mean_len': 13.7,\n",
       " 'contradict_MRR_c': 0.4719,\n",
       " 'contradict_incorrect': 71,\n",
       " 'contradict_incorrect_mean_len': 17.13,\n",
       " 'contradict_MRR_inc': 0.4638}"
      ]
     },
     "execution_count": 64,
     "metadata": {},
     "output_type": "execute_result"
    }
   ],
   "source": [
    "%%time\n",
    "model = torch.load('contra_63_24.pkl', map_location=torch.device('cpu'))\n",
    "model_multi_result_in_un = calculate(model, testloader, tokenizer, unique=True, in_un=True)\n",
    "model_multi_result_in_un"
   ]
  },
  {
   "cell_type": "code",
   "execution_count": 70,
   "metadata": {
    "collapsed": true
   },
   "outputs": [
    {
     "data": {
      "application/vnd.jupyter.widget-view+json": {
       "model_id": "1d956aa1c3574cb1b4539cca4c6b3be7",
       "version_major": 2,
       "version_minor": 0
      },
      "text/plain": [
       "HBox(children=(IntProgress(value=0, description='Iteration', max=600, style=ProgressStyle(description_width='i…"
      ]
     },
     "metadata": {},
     "output_type": "display_data"
    },
    {
     "name": "stdout",
     "output_type": "stream",
     "text": [
      "\n"
     ]
    },
    {
     "data": {
      "text/plain": [
       "{'total': 600,\n",
       " 'total_MRR': 0.0248,\n",
       " 'total_acc': 0.56,\n",
       " 'total_mean_len': 245.8,\n",
       " 'entail_total': 300,\n",
       " 'entail_acc': 0.62,\n",
       " 'entail_mean_len': 262.5,\n",
       " 'entail_MRR': 0.0282,\n",
       " 'entail_correct': 185,\n",
       " 'entail_correct_mean_len': 253.2,\n",
       " 'entail_MRR_c': 0.0302,\n",
       " 'entail_incorrect': 115,\n",
       " 'entail_incorrect_mean_len': 277.53,\n",
       " 'entail_MRR_inc': 0.0249,\n",
       " 'neutral_total': 210,\n",
       " 'neutral_acc': 0.62,\n",
       " 'neutral_mean_len': 209.0,\n",
       " 'neutral_MRR': 0.0217,\n",
       " 'neutral_correct': 130,\n",
       " 'neutral_correct_mean_len': 211.1,\n",
       " 'neutral_MRR_c': 0.0213,\n",
       " 'neutral_incorrect': 80,\n",
       " 'neutral_incorrect_mean_len': 205.65,\n",
       " 'neutral_MRR_inc': 0.0223,\n",
       " 'contradict_total': 90,\n",
       " 'contradict_acc': 0.21,\n",
       " 'contradict_mean_len': 275.6,\n",
       " 'contradict_MRR': 0.0213,\n",
       " 'contradict_correct': 19,\n",
       " 'contradict_correct_mean_len': 230.4,\n",
       " 'contradict_MRR_c': 0.0249,\n",
       " 'contradict_incorrect': 71,\n",
       " 'contradict_incorrect_mean_len': 287.69,\n",
       " 'contradict_MRR_inc': 0.0203}"
      ]
     },
     "execution_count": 70,
     "metadata": {},
     "output_type": "execute_result"
    }
   ],
   "source": [
    "model = torch.load('contra_63_24.pkl', map_location=torch.device('cpu'))\n",
    "model_multi_result_non_unique = calculate(model, testloader, tokenizer)\n",
    "model_multi_result_non_unique"
   ]
  },
  {
   "cell_type": "code",
   "execution_count": 19,
   "metadata": {
    "collapsed": true
   },
   "outputs": [
    {
     "data": {
      "application/vnd.jupyter.widget-view+json": {
       "model_id": "12a5d33cbf224f7ab362777ce45722b7",
       "version_major": 2,
       "version_minor": 0
      },
      "text/plain": [
       "HBox(children=(IntProgress(value=0, description='Iteration', max=600, style=ProgressStyle(description_width='i…"
      ]
     },
     "metadata": {},
     "output_type": "display_data"
    },
    {
     "name": "stdout",
     "output_type": "stream",
     "text": [
      "\n"
     ]
    },
    {
     "data": {
      "text/plain": [
       "{'total': 600,\n",
       " 'total_MRR': 0.0286,\n",
       " 'total_acc': 0.58,\n",
       " 'total_mean_len': 158.8,\n",
       " 'entail_total': 300,\n",
       " 'entail_acc': 0.78,\n",
       " 'entail_mean_len': 171.2,\n",
       " 'entail_MRR': 0.0322,\n",
       " 'entail_correct': 233,\n",
       " 'entail_correct_mean_len': 168.4,\n",
       " 'entail_MRR_c': 0.0339,\n",
       " 'entail_incorrect': 67,\n",
       " 'entail_incorrect_mean_len': 181.19,\n",
       " 'entail_MRR_inc': 0.0262,\n",
       " 'neutral_total': 210,\n",
       " 'neutral_acc': 0.44,\n",
       " 'neutral_mean_len': 134.8,\n",
       " 'neutral_MRR': 0.0247,\n",
       " 'neutral_correct': 93,\n",
       " 'neutral_correct_mean_len': 132.2,\n",
       " 'neutral_MRR_c': 0.0243,\n",
       " 'neutral_incorrect': 117,\n",
       " 'neutral_incorrect_mean_len': 136.88,\n",
       " 'neutral_MRR_inc': 0.0249,\n",
       " 'contradict_total': 90,\n",
       " 'contradict_acc': 0.27,\n",
       " 'contradict_mean_len': 173.7,\n",
       " 'contradict_MRR': 0.026,\n",
       " 'contradict_correct': 24,\n",
       " 'contradict_correct_mean_len': 157.3,\n",
       " 'contradict_MRR_c': 0.0248,\n",
       " 'contradict_incorrect': 66,\n",
       " 'contradict_incorrect_mean_len': 179.62,\n",
       " 'contradict_MRR_inc': 0.0264}"
      ]
     },
     "execution_count": 19,
     "metadata": {},
     "output_type": "execute_result"
    }
   ],
   "source": [
    "model = torch.load('multi_0.59, 31.pkl', map_location=torch.device('cpu'))\n",
    "model_multi_result_non_unique = calculate(model, testloader, tokenizer)\n",
    "model_multi_result_non_unique"
   ]
  },
  {
   "cell_type": "code",
   "execution_count": 20,
   "metadata": {
    "collapsed": true
   },
   "outputs": [
    {
     "data": {
      "application/vnd.jupyter.widget-view+json": {
       "model_id": "cf56a5375cbe49d79eedc6a96574f8bc",
       "version_major": 2,
       "version_minor": 0
      },
      "text/plain": [
       "HBox(children=(IntProgress(value=0, description='Iteration', max=600, style=ProgressStyle(description_width='i…"
      ]
     },
     "metadata": {},
     "output_type": "display_data"
    },
    {
     "name": "stdout",
     "output_type": "stream",
     "text": [
      "\n"
     ]
    },
    {
     "data": {
      "text/plain": [
       "{'total': 600,\n",
       " 'total_MRR': 0.0292,\n",
       " 'total_acc': 0.61,\n",
       " 'total_mean_len': 158.8,\n",
       " 'entail_total': 300,\n",
       " 'entail_acc': 0.85,\n",
       " 'entail_mean_len': 171.2,\n",
       " 'entail_MRR': 0.0329,\n",
       " 'entail_correct': 255,\n",
       " 'entail_correct_mean_len': 170.3,\n",
       " 'entail_MRR_c': 0.0341,\n",
       " 'entail_incorrect': 45,\n",
       " 'entail_incorrect_mean_len': 176.42,\n",
       " 'entail_MRR_inc': 0.0258,\n",
       " 'neutral_total': 210,\n",
       " 'neutral_acc': 0.45,\n",
       " 'neutral_mean_len': 134.8,\n",
       " 'neutral_MRR': 0.0251,\n",
       " 'neutral_correct': 94,\n",
       " 'neutral_correct_mean_len': 132.2,\n",
       " 'neutral_MRR_c': 0.0249,\n",
       " 'neutral_incorrect': 116,\n",
       " 'neutral_incorrect_mean_len': 136.93,\n",
       " 'neutral_MRR_inc': 0.0252,\n",
       " 'contradict_total': 90,\n",
       " 'contradict_acc': 0.18,\n",
       " 'contradict_mean_len': 173.7,\n",
       " 'contradict_MRR': 0.0266,\n",
       " 'contradict_correct': 16,\n",
       " 'contradict_correct_mean_len': 148.9,\n",
       " 'contradict_MRR_c': 0.0261,\n",
       " 'contradict_incorrect': 74,\n",
       " 'contradict_incorrect_mean_len': 179.03,\n",
       " 'contradict_MRR_inc': 0.0267}"
      ]
     },
     "execution_count": 20,
     "metadata": {},
     "output_type": "execute_result"
    }
   ],
   "source": [
    "model = torch.load('multi_0.58, 21.pkl', map_location=torch.device('cpu'))\n",
    "model_multi_result_non_unique2 = calculate(model, testloader, tokenizer)\n",
    "model_multi_result_non_unique2"
   ]
  },
  {
   "cell_type": "code",
   "execution_count": 21,
   "metadata": {
    "collapsed": true
   },
   "outputs": [
    {
     "data": {
      "application/vnd.jupyter.widget-view+json": {
       "model_id": "de2f1da7bc3a458c8daf4bcee844ac0c",
       "version_major": 2,
       "version_minor": 0
      },
      "text/plain": [
       "HBox(children=(IntProgress(value=0, description='Iteration', max=600, style=ProgressStyle(description_width='i…"
      ]
     },
     "metadata": {},
     "output_type": "display_data"
    },
    {
     "name": "stdout",
     "output_type": "stream",
     "text": [
      "\n"
     ]
    },
    {
     "data": {
      "text/plain": [
       "{'total': 600,\n",
       " 'total_MRR': 0.029,\n",
       " 'total_acc': 0.6,\n",
       " 'total_mean_len': 158.8,\n",
       " 'entail_total': 300,\n",
       " 'entail_acc': 0.87,\n",
       " 'entail_mean_len': 171.2,\n",
       " 'entail_MRR': 0.0327,\n",
       " 'entail_correct': 260,\n",
       " 'entail_correct_mean_len': 169.4,\n",
       " 'entail_MRR_c': 0.0342,\n",
       " 'entail_incorrect': 40,\n",
       " 'entail_incorrect_mean_len': 183.25,\n",
       " 'entail_MRR_inc': 0.023,\n",
       " 'neutral_total': 210,\n",
       " 'neutral_acc': 0.4,\n",
       " 'neutral_mean_len': 134.8,\n",
       " 'neutral_MRR': 0.0248,\n",
       " 'neutral_correct': 83,\n",
       " 'neutral_correct_mean_len': 131.4,\n",
       " 'neutral_MRR_c': 0.0247,\n",
       " 'neutral_incorrect': 127,\n",
       " 'neutral_incorrect_mean_len': 137.06,\n",
       " 'neutral_MRR_inc': 0.0249,\n",
       " 'contradict_total': 90,\n",
       " 'contradict_acc': 0.17,\n",
       " 'contradict_mean_len': 173.7,\n",
       " 'contradict_MRR': 0.0263,\n",
       " 'contradict_correct': 15,\n",
       " 'contradict_correct_mean_len': 132.8,\n",
       " 'contradict_MRR_c': 0.0267,\n",
       " 'contradict_incorrect': 75,\n",
       " 'contradict_incorrect_mean_len': 181.84,\n",
       " 'contradict_MRR_inc': 0.0263}"
      ]
     },
     "execution_count": 21,
     "metadata": {},
     "output_type": "execute_result"
    }
   ],
   "source": [
    "model = torch.load('multi_0.58, 26.pkl', map_location=torch.device('cpu'))\n",
    "model_multi_result_non_unique3 = calculate(model, testloader, tokenizer)\n",
    "model_multi_result_non_unique3"
   ]
  },
  {
   "cell_type": "code",
   "execution_count": 17,
   "metadata": {
    "collapsed": true
   },
   "outputs": [
    {
     "data": {
      "application/vnd.jupyter.widget-view+json": {
       "model_id": "50413c6daade440d8861ed8c577482d6",
       "version_major": 2,
       "version_minor": 0
      },
      "text/plain": [
       "HBox(children=(IntProgress(value=0, description='Iteration', max=600, style=ProgressStyle(description_width='i…"
      ]
     },
     "metadata": {},
     "output_type": "display_data"
    },
    {
     "name": "stdout",
     "output_type": "stream",
     "text": [
      "\n"
     ]
    },
    {
     "data": {
      "text/plain": [
       "{'total': 600,\n",
       " 'total_MRR': 0.0223,\n",
       " 'total_acc': 0.6,\n",
       " 'total_mean_len': 158.8,\n",
       " 'entail_total': 300,\n",
       " 'entail_acc': 0.85,\n",
       " 'entail_mean_len': 171.2,\n",
       " 'entail_MRR': 0.0247,\n",
       " 'entail_correct': 254,\n",
       " 'entail_correct_mean_len': 169.3,\n",
       " 'entail_MRR_c': 0.0252,\n",
       " 'entail_incorrect': 46,\n",
       " 'entail_incorrect_mean_len': 181.85,\n",
       " 'entail_MRR_inc': 0.0223,\n",
       " 'neutral_total': 210,\n",
       " 'neutral_acc': 0.42,\n",
       " 'neutral_mean_len': 134.8,\n",
       " 'neutral_MRR': 0.0196,\n",
       " 'neutral_correct': 88,\n",
       " 'neutral_correct_mean_len': 132.4,\n",
       " 'neutral_MRR_c': 0.0198,\n",
       " 'neutral_incorrect': 122,\n",
       " 'neutral_incorrect_mean_len': 136.59,\n",
       " 'neutral_MRR_inc': 0.0194,\n",
       " 'contradict_total': 90,\n",
       " 'contradict_acc': 0.21,\n",
       " 'contradict_mean_len': 173.7,\n",
       " 'contradict_MRR': 0.0203,\n",
       " 'contradict_correct': 19,\n",
       " 'contradict_correct_mean_len': 106.8,\n",
       " 'contradict_MRR_c': 0.0226,\n",
       " 'contradict_incorrect': 71,\n",
       " 'contradict_incorrect_mean_len': 191.56,\n",
       " 'contradict_MRR_inc': 0.0197}"
      ]
     },
     "execution_count": 17,
     "metadata": {},
     "output_type": "execute_result"
    }
   ],
   "source": [
    "model = torch.load('multi_0.6, 22, 15.pkl', map_location=torch.device('cpu'))\n",
    "model_multi_result_non_unique4 = calculate(model, testloader, tokenizer)\n",
    "model_multi_result_non_unique4"
   ]
  },
  {
   "cell_type": "code",
   "execution_count": 18,
   "metadata": {
    "collapsed": true
   },
   "outputs": [
    {
     "data": {
      "application/vnd.jupyter.widget-view+json": {
       "model_id": "bd9ee1c85b444c6eb3845cb28bca67cd",
       "version_major": 2,
       "version_minor": 0
      },
      "text/plain": [
       "HBox(children=(IntProgress(value=0, description='Iteration', max=600, style=ProgressStyle(description_width='i…"
      ]
     },
     "metadata": {},
     "output_type": "display_data"
    },
    {
     "name": "stdout",
     "output_type": "stream",
     "text": [
      "\n"
     ]
    },
    {
     "data": {
      "text/plain": [
       "{'total': 600,\n",
       " 'total_MRR': 0.0236,\n",
       " 'total_acc': 0.6,\n",
       " 'total_mean_len': 158.8,\n",
       " 'entail_total': 300,\n",
       " 'entail_acc': 0.85,\n",
       " 'entail_mean_len': 171.2,\n",
       " 'entail_MRR': 0.0262,\n",
       " 'entail_correct': 255,\n",
       " 'entail_correct_mean_len': 170.2,\n",
       " 'entail_MRR_c': 0.0271,\n",
       " 'entail_incorrect': 45,\n",
       " 'entail_incorrect_mean_len': 177.31,\n",
       " 'entail_MRR_inc': 0.0212,\n",
       " 'neutral_total': 210,\n",
       " 'neutral_acc': 0.42,\n",
       " 'neutral_mean_len': 134.8,\n",
       " 'neutral_MRR': 0.0206,\n",
       " 'neutral_correct': 88,\n",
       " 'neutral_correct_mean_len': 135.6,\n",
       " 'neutral_MRR_c': 0.0207,\n",
       " 'neutral_incorrect': 122,\n",
       " 'neutral_incorrect_mean_len': 134.28,\n",
       " 'neutral_MRR_inc': 0.0205,\n",
       " 'contradict_total': 90,\n",
       " 'contradict_acc': 0.21,\n",
       " 'contradict_mean_len': 173.7,\n",
       " 'contradict_MRR': 0.0217,\n",
       " 'contradict_correct': 19,\n",
       " 'contradict_correct_mean_len': 171.4,\n",
       " 'contradict_MRR_c': 0.0211,\n",
       " 'contradict_incorrect': 71,\n",
       " 'contradict_incorrect_mean_len': 174.27,\n",
       " 'contradict_MRR_inc': 0.0219}"
      ]
     },
     "execution_count": 18,
     "metadata": {},
     "output_type": "execute_result"
    }
   ],
   "source": [
    "model = torch.load('multi_0.6, 26, 13.pkl', map_location=torch.device('cpu'))\n",
    "model_multi_result_non_unique5 = calculate(model, testloader, tokenizer)\n",
    "model_multi_result_non_unique5"
   ]
  },
  {
   "cell_type": "code",
   "execution_count": 22,
   "metadata": {
    "collapsed": true
   },
   "outputs": [
    {
     "data": {
      "application/vnd.jupyter.widget-view+json": {
       "model_id": "4489fad9ae8244359d870891b778d9a9",
       "version_major": 2,
       "version_minor": 0
      },
      "text/plain": [
       "HBox(children=(IntProgress(value=0, description='Iteration', max=600, style=ProgressStyle(description_width='i…"
      ]
     },
     "metadata": {},
     "output_type": "display_data"
    },
    {
     "name": "stdout",
     "output_type": "stream",
     "text": [
      "\n"
     ]
    },
    {
     "data": {
      "text/plain": [
       "{'total': 600,\n",
       " 'total_MRR': 0.0347,\n",
       " 'total_acc': 0.61,\n",
       " 'total_mean_len': 158.8,\n",
       " 'entail_total': 300,\n",
       " 'entail_acc': 0.81,\n",
       " 'entail_mean_len': 171.2,\n",
       " 'entail_MRR': 0.0386,\n",
       " 'entail_correct': 242,\n",
       " 'entail_correct_mean_len': 170.5,\n",
       " 'entail_MRR_c': 0.0408,\n",
       " 'entail_incorrect': 58,\n",
       " 'entail_incorrect_mean_len': 174.21,\n",
       " 'entail_MRR_inc': 0.0294,\n",
       " 'neutral_total': 210,\n",
       " 'neutral_acc': 0.43,\n",
       " 'neutral_mean_len': 134.8,\n",
       " 'neutral_MRR': 0.0305,\n",
       " 'neutral_correct': 90,\n",
       " 'neutral_correct_mean_len': 135.2,\n",
       " 'neutral_MRR_c': 0.03,\n",
       " 'neutral_incorrect': 120,\n",
       " 'neutral_incorrect_mean_len': 134.53,\n",
       " 'neutral_MRR_inc': 0.0308,\n",
       " 'contradict_total': 90,\n",
       " 'contradict_acc': 0.36,\n",
       " 'contradict_mean_len': 173.7,\n",
       " 'contradict_MRR': 0.0313,\n",
       " 'contradict_correct': 32,\n",
       " 'contradict_correct_mean_len': 173.1,\n",
       " 'contradict_MRR_c': 0.0297,\n",
       " 'contradict_incorrect': 58,\n",
       " 'contradict_incorrect_mean_len': 173.97,\n",
       " 'contradict_MRR_inc': 0.0321}"
      ]
     },
     "execution_count": 22,
     "metadata": {},
     "output_type": "execute_result"
    }
   ],
   "source": [
    "model = torch.load('multi_0.59, 43, 18.pkl', map_location=torch.device('cpu'))\n",
    "model_multi_result_non_unique59_43 = calculate(model, testloader, tokenizer)\n",
    "model_multi_result_non_unique59_43"
   ]
  },
  {
   "cell_type": "code",
   "execution_count": 14,
   "metadata": {
    "collapsed": true
   },
   "outputs": [
    {
     "data": {
      "application/vnd.jupyter.widget-view+json": {
       "model_id": "42517b22c8394375a319feac0a88942e",
       "version_major": 2,
       "version_minor": 0
      },
      "text/plain": [
       "HBox(children=(IntProgress(value=0, description='Iteration', max=600, style=ProgressStyle(description_width='i…"
      ]
     },
     "metadata": {},
     "output_type": "display_data"
    },
    {
     "name": "stdout",
     "output_type": "stream",
     "text": [
      "\n"
     ]
    },
    {
     "data": {
      "text/plain": [
       "{'total': 600,\n",
       " 'total_MRR': 0.0347,\n",
       " 'total_acc': 0.63,\n",
       " 'total_mean_len': 158.8,\n",
       " 'entail_total': 300,\n",
       " 'entail_acc': 0.84,\n",
       " 'entail_mean_len': 171.2,\n",
       " 'entail_MRR': 0.0391,\n",
       " 'entail_correct': 251,\n",
       " 'entail_correct_mean_len': 167.0,\n",
       " 'entail_MRR_c': 0.0409,\n",
       " 'entail_incorrect': 49,\n",
       " 'entail_incorrect_mean_len': 192.71,\n",
       " 'entail_MRR_inc': 0.0299,\n",
       " 'neutral_total': 210,\n",
       " 'neutral_acc': 0.54,\n",
       " 'neutral_mean_len': 134.8,\n",
       " 'neutral_MRR': 0.0297,\n",
       " 'neutral_correct': 113,\n",
       " 'neutral_correct_mean_len': 139.9,\n",
       " 'neutral_MRR_c': 0.0275,\n",
       " 'neutral_incorrect': 97,\n",
       " 'neutral_incorrect_mean_len': 128.87,\n",
       " 'neutral_MRR_inc': 0.0323,\n",
       " 'contradict_total': 90,\n",
       " 'contradict_acc': 0.13,\n",
       " 'contradict_mean_len': 173.7,\n",
       " 'contradict_MRR': 0.0315,\n",
       " 'contradict_correct': 12,\n",
       " 'contradict_correct_mean_len': 148.6,\n",
       " 'contradict_MRR_c': 0.0317,\n",
       " 'contradict_incorrect': 78,\n",
       " 'contradict_incorrect_mean_len': 177.53,\n",
       " 'contradict_MRR_inc': 0.0314}"
      ]
     },
     "execution_count": 14,
     "metadata": {},
     "output_type": "execute_result"
    }
   ],
   "source": [
    "model = torch.load('3multi_task/multi_0.6, 24, 7.pkl', map_location=torch.device('cpu'))\n",
    "model_3multi_result_non_unique = calculate(model, dataset, tokenizer)\n",
    "model_3multi_result_non_unique"
   ]
  },
  {
   "cell_type": "code",
   "execution_count": 38,
   "metadata": {
    "collapsed": true
   },
   "outputs": [
    {
     "data": {
      "application/vnd.jupyter.widget-view+json": {
       "model_id": "2f3a85c08836432a87495633ee36c4c3",
       "version_major": 2,
       "version_minor": 0
      },
      "text/plain": [
       "HBox(children=(IntProgress(value=0, description='Iteration', max=600, style=ProgressStyle(description_width='i…"
      ]
     },
     "metadata": {},
     "output_type": "display_data"
    },
    {
     "name": "stdout",
     "output_type": "stream",
     "text": [
      "\n"
     ]
    },
    {
     "data": {
      "text/plain": [
       "{'total': 600,\n",
       " 'total_MRR': 0.0353,\n",
       " 'total_acc': 0.61,\n",
       " 'total_mean_len': 158.8,\n",
       " 'entail_total': 300,\n",
       " 'entail_acc': 0.85,\n",
       " 'entail_mean_len': 171.2,\n",
       " 'entail_MRR': 0.0399,\n",
       " 'entail_correct': 254,\n",
       " 'entail_correct_mean_len': 170.0,\n",
       " 'entail_MRR_c': 0.0415,\n",
       " 'entail_incorrect': 46,\n",
       " 'entail_incorrect_mean_len': 177.78,\n",
       " 'entail_MRR_inc': 0.0309,\n",
       " 'neutral_total': 210,\n",
       " 'neutral_acc': 0.47,\n",
       " 'neutral_mean_len': 134.8,\n",
       " 'neutral_MRR': 0.0304,\n",
       " 'neutral_correct': 98,\n",
       " 'neutral_correct_mean_len': 140.2,\n",
       " 'neutral_MRR_c': 0.0292,\n",
       " 'neutral_incorrect': 112,\n",
       " 'neutral_incorrect_mean_len': 130.11,\n",
       " 'neutral_MRR_inc': 0.0315,\n",
       " 'contradict_total': 90,\n",
       " 'contradict_acc': 0.18,\n",
       " 'contradict_mean_len': 173.7,\n",
       " 'contradict_MRR': 0.0318,\n",
       " 'contradict_correct': 16,\n",
       " 'contradict_correct_mean_len': 159.1,\n",
       " 'contradict_MRR_c': 0.0268,\n",
       " 'contradict_incorrect': 74,\n",
       " 'contradict_incorrect_mean_len': 176.82,\n",
       " 'contradict_MRR_inc': 0.0329}"
      ]
     },
     "execution_count": 38,
     "metadata": {},
     "output_type": "execute_result"
    }
   ],
   "source": [
    "model = torch.load('3multi_task/multi_0.6, 25, 15.pkl', map_location=torch.device('cpu'))\n",
    "model_3multi_result_non_unique2 = calculate(model, dataset, tokenizer)\n",
    "model_3multi_result_non_unique2"
   ]
  },
  {
   "cell_type": "markdown",
   "metadata": {},
   "source": [
    "top3測試拉"
   ]
  },
  {
   "cell_type": "code",
   "execution_count": 68,
   "metadata": {},
   "outputs": [
    {
     "data": {
      "application/vnd.jupyter.widget-view+json": {
       "model_id": "eda9182d569a4cf6afca60e24c36b399",
       "version_major": 2,
       "version_minor": 0
      },
      "text/plain": [
       "HBox(children=(IntProgress(value=0, description='Iteration', max=600, style=ProgressStyle(description_width='i…"
      ]
     },
     "metadata": {},
     "output_type": "display_data"
    },
    {
     "name": "stdout",
     "output_type": "stream",
     "text": [
      "rain MotoGP cancelled\n",
      "11 euro cents\n",
      "Johnson more cases\n",
      "Johnson death Santana\n",
      "rational basis driving\n",
      "Porcela respected healer\n",
      "double Sun's 4.97\n",
      "Juventus coach Claudio Ranieri\n",
      "par Eritrea Burkina\n",
      "Jahche Broughton murdered\n",
      "billionaire Charles Simonyi\n",
      "Dunham nine German\n",
      "Honolulu Mayor Mufi Hannemann\n",
      "Three bombings Baghdad\n",
      "Groening defense plot\n",
      "Egan Catholic York\n",
      "Chinese YouTube twice\n",
      "Lewis lightning controversy\n",
      "bushfires first time\n",
      "Ian Tomlinson newsagent\n",
      "Houdini performed Hippodrome\n",
      "Grapes Wrath Steinbeck\n",
      "malaria parasite warmer\n",
      "Robinson the bishop\n",
      "14 35 Akuressa\n",
      "Guantanamo detainees 240\n",
      "Papua Indonesia 1969\n",
      "leader Ntaganda active\n",
      "dictator leader Gaddafi\n",
      "hijacked passenger plane\n",
      "York Aquarium Coney\n",
      "Surgical castration control\n",
      "Neruda Chilean poet\n",
      "Green disclosed officers\n",
      "40 years Eta\n",
      "States Korea satellite\n",
      "100 died Mexico\n",
      "Katrina formed 2005\n",
      "Madonna 4 girl\n",
      "Kim chairman Commission\n",
      "Sanjay crash aerobatics\n",
      "Vinci Lisa painting\n",
      "Edward Egan 76\n",
      "re-elected chairman Commission\n",
      "Pope condoms Aids\n",
      "Maoist Minister Pushpa\n",
      "taken IMF's SDR\n",
      "Tarek Ferdinand Heim\n",
      "earthquake magnitude tremor\n",
      "Kivu Rwanda Congo\n",
      "Trafalgar Square London\n",
      "Nabozny arrested intoxication\n",
      "Rajoelina new president\n",
      "Schwartz creator Gossip\n",
      "Mumbai's reservoir dead\n",
      "She octuplets six\n",
      "Metsamor built 1970s\n",
      "anti-corruption activist Manirumva\n",
      "wildfires roaring Oklahoma\n",
      "Apple its iPhone\n",
      "Children killed 17\n",
      "Fifth Amendment rights\n",
      "MotoGP champion Rossi\n",
      "Knox studying university\n",
      "music producer Phil\n",
      "nine officers 19\n",
      "Holzer wrote books\n",
      "74-year-old Dalai Lama\n",
      "Yad Vashem Jerusalem\n",
      "Richardson married Liam\n",
      "Ford debt costs\n",
      "4315000 children born 2007 births\n",
      "Mauricio won presidential\n",
      "Italian scientist Rita\n",
      "Rihanna pre-Grammy Awards\n",
      "Yale argue England\n",
      "iPhone Wall Street\n",
      "Crippa died mushrooms\n",
      "time unemployed East\n",
      "death London seven\n",
      "pope Onna homeless\n",
      "dengue after malaria\n",
      "Ugandan spy Teddy\n",
      "Sheik immigrant Persian\n",
      "Philip MarkoffCraigslist killer\n",
      "Kerkorian shareholder General\n",
      "Fifth refused reveal\n",
      "Falun not Vietnamese\n",
      "26 second throne\n",
      "movie starring Humphrey\n",
      "Emily \"Wuthering Heights\"\n",
      "rejected Coca-Cola buy\n",
      "diver 25 times\n",
      "Japanese pop Tsuyoshi\n",
      "Tomlinson was captured\n",
      "President Vladimir Putin\n",
      "Bouton faced criticism\n",
      "Life 544313 yea\n",
      "Pritzker praised materials\n",
      "mistrust Japan Chinese\n",
      "McDonald's largest hamburger\n",
      "Phil no reaction\n",
      "35-year-old Cannavaro\n",
      "Salvador defeated Rodrigo\n",
      "1912 Titanic sail\n",
      "diver died Geelong\n",
      "fishermen protesting quotas\n",
      "Alistair Darling Chancellor\n",
      "Starbucks Corp posted\n",
      "Marwoto jailed two\n",
      "Chacaltaya Lake Titicaca\n",
      "13 now 19\n",
      "Sigurdardottir Democratic Alliance\n",
      "Starbucks first companies\n",
      "Giuliani evacuate posted\n",
      "Unemployment Olympics pin\n",
      "Institute receive billion\n",
      "Meinl scion Viennese\n",
      "Government attending function\n",
      "Disney CEO Bob Iger\n",
      "dog gift Obama\n",
      "Petrini founded Slow\n",
      "Talent Susan Boyle\n",
      "Yamadayev former general\n",
      "Mexico Felipe cracking\n",
      "Fiat wants Chrysler\n",
      "Governor Kathleen Sebelius\n",
      "Pope Benedict XVI\n",
      "Sigurdardottir first minister\n",
      "2m informers Mexico\n",
      "Collier poverty guru\n",
      "accused killing Zapata\n",
      "Obama retire Hampshire\n",
      "Catholic 158 Africa\n",
      "diminishing Paris Hilton\n",
      "Prejean same-sex marriage\n",
      "Atomic inspectors ordered\n",
      "The Pirate Bay\n",
      "Panetta told agency\n",
      "York host Olympics\n",
      "Gordonville biggest Amish\n",
      "Onna destruction earthquake\n",
      "India malnourished children\n",
      "Richard Falk Gaza\n",
      "multiple sclerosis stem\n",
      "teenager murder Carroll\n",
      "MN4's assessed risk\n",
      "Lugo Paraguay's president\n",
      "Falun Gong protest\n",
      "GlaxoSmithKline dermatology products\n",
      "Fiji President Iloilo\n",
      "megamouth shark rarest\n",
      "China rejected Coca-Cola\n",
      "Castro power 1959\n",
      "broccoli protect cancer\n",
      "NGO accused Israel\n",
      "Slumdog director Boyle\n",
      "atomic Japanese 1945\n",
      "mobster Al Capone\n",
      "Klerk Africa's president\n",
      "India 47 mal-nourished\n",
      "27 jail Hodgson\n",
      "550-seat A380 Airbus\n",
      "Hodgson killing Simone\n",
      "U.S.-Cuba 47 embargo\n",
      "Malinowski director Rights\n",
      "Apple Executive Steve\n",
      "third Mayor Bloomberg\n",
      "oceans acidic dioxide\n",
      "warming human diseases\n",
      "Titanic sink 1912\n",
      "Arnold signed legislation\n",
      "flu cases Mexico\n",
      "Dunham sergeant WarII\n",
      "Patricia Page immediately\n",
      "Gibson Australian actor\n",
      "world champion Rossi\n",
      "Jordan N.B.A. titles\n",
      "Giuliani technician technician\n",
      "Swiss Minister Calmy-Rey\n",
      "Tunisian suspicion assaulting\n",
      "1988 Preservation announced\n",
      "Hajj Hamdan guard\n",
      "flu pigs caused\n",
      "drug-resistant tuberculosis XDR-TB\n",
      "broadcaster Clement Freud\n",
      "mangrove trees\n",
      "Blagojevich no Illinois\n",
      "Madonna adopt second\n",
      "Groening show's creator\n",
      "Barnes football player\n",
      "Lieberman hawkish party\n",
      "Murphy 39 old\n",
      "North leader Jong\n",
      "Obaid F1 medical\n",
      "IAEA nuclear watchdog\n",
      "Niger rebels MNJ\n",
      "Tomlinson not protesting\n",
      "Swiss prohibit naked\n",
      "Republican John McCain\n",
      "Bevilacqua back Rae\n",
      "Democratic Alliance Left-Green\n",
      "69 safely Vnukovo\n",
      "imprisonment Daniel Paiva\n",
      "European American Gliese\n",
      "supports President Silva\n",
      "Beirut Broummana half-hour\n",
      "Fitzpatrick guilty fraud\n",
      "arrested James Saquarema\n",
      "Emerald occupied Green\n",
      "Gunn Queensland centre\n",
      "Stanton manager Worth\n",
      "Bond British spy\n",
      "NAOSC Alberta-based\n",
      "Writers of America\n",
      "Australia Narrandera NSW\n",
      "Turabi Pakistani Muslim\n",
      "Romanian Nadia Comaneci\n",
      "PepsiCo acquired Star\n",
      "Garnett Timberwolves taking\n",
      "spokeswoman Michelle Steele\n",
      "Socialist Saunders secretary\n",
      "Edlington northern England\n",
      "Cardinal Tarcisio Pope\n",
      "murdered man Adalberto\n",
      "Elmwood Avenue Buffalo\n",
      "Conservation petitions Program\n",
      "Julianna parents Julia\n",
      "reporter Peter Clottey\n",
      "Steel City Diner\n",
      "survivors impairments treatment\n",
      "Stelmach lead Alberta\n",
      "Governor wife Jenna\n",
      "Gonzales requese court\n",
      "Swedish Foreign Ministry\n",
      "Ramzan son Akhmad\n",
      "States linked Qaeda\n",
      "NSW Premier Iemma\n",
      "Soyuz carry crew\n",
      "Guckert reporter Talon\n",
      "Heritage candidate Ron\n",
      "memoir written Mulroney\n",
      "Henan province registered\n",
      "Koirala leader rebel\n",
      "Picasso Painter Model\n",
      "Gonzalez U.S. Latino\n",
      "Reporters Paris-based\n",
      "Allen ordering girlfriend\n",
      "Harper Civil Marriage\n",
      "Trisha married Gerald\n",
      "Wolfson worked Liberta\n",
      "Singapore China turned\n",
      "Ferez telecommunication\n",
      "Williams heart surgery\n",
      "Wikimedia Foundation Florida\n",
      "Krasnov spcae programs\n",
      "Dover boys collars\n",
      "Chesapeake Bay Foundation\n",
      "quake south-southeast\n",
      "50 sponsored Foundation\n",
      "Emmy Award Getty\n",
      "daughter died fever\n",
      "boyfriend is married\n",
      "owner Santika Setsawat\n",
      "former actor Tylo\n",
      "Norway U.S. Finland\n",
      "Arndt reservist Peers\n",
      "Madagascan Marc Ravalomanana\n",
      "eruptions Mount Redoubt\n",
      "Thaksin Shinawatra Thailand\n",
      "Raymond Leblanc Medical\n",
      "Bello argentine maintainer\n",
      "MeK Saddam Hussein\n",
      "Pita Sharples gangs\n",
      "Paris Hilton jail\n",
      "Button Formula Malaysian\n",
      "NASA Orion spacecraft\n",
      "Australian Port Douglas\n",
      "Dax higher start\n",
      "Baltasar Spanish judge\n",
      "Spector shooting Clarkson\n",
      "Indian Minister Singh\n",
      "Senator Dunn started\n",
      "minister Tagro killed\n",
      "former President Clinton\n",
      "Grace native Georgia\n",
      "Hubble Space Telescope\n",
      "died 2004 Hunt\n",
      "Bill McMaster running\n",
      "Bush administration refusal\n",
      "President Georgia Saakashvili\n",
      "Magna dedicated Isis\n",
      "Pittsburgh David Lawrence\n",
      "Kate Haley dead\n",
      "Mechelen stronghold Antwerp\n",
      "Doohan owner Tory\n",
      "Sarkozy married Bruni\n",
      "Moronuki from Fisheries\n",
      "Romanian Prima TV\n",
      "Joba father 55\n",
      "Founded Woltman GIMPS\n",
      "Obama US President\n",
      "Japanese capital of Tokyo\n",
      "Poplawski killed Sciullo\n",
      "Tesla Motors Model S\n",
      "Mount Redoubt a volcano in Alaska\n",
      "Mitchell the Shakespearean\n",
      "Graef virtual businesses\n",
      "MacIntyre killed McTaggart\n",
      "Newseum Memorial journalists\n",
      "Meg adopt Korean\n",
      "Guadeloupe department France\n",
      "Gulf Aden Somali\n",
      "Heritage candidate Gray\n",
      "Brampton Joyce Rodriguez\n",
      "Amir assassinated Rabin\n",
      "CBS airs United\n",
      "Qalyubia province Nile\n",
      "Stucky Green Party\n",
      "Centennial New Hampshire\n",
      "Steven Spielberg withdrew\n",
      "victim Dominador Luna\n",
      "Thompson author Spiral\n",
      "University Sydney Oxford\n",
      "Horta explained Maubisse\n",
      "Boston small Massachusetts\n",
      "Indonesia Vice Kalla\n",
      "California claim tax\n",
      "Leon stole Cessna\n",
      "Bull owner Mateschitz\n",
      "border Wisconsin Illinois\n",
      "Gillette razors dental\n",
      "hijacking Norwegian Somali\n",
      "NASDAQ risen 2248\n",
      "Greenpeace Chesapeake Bay\n",
      "Toronto Mayor Miller\n",
      "Börjesson friend Jansson\n",
      "Sciences doctor Kadhem\n",
      "Reservoir recorded rainfall\n",
      "Land Claims Commission\n",
      "against Red River\n",
      "Mack Center Vegas\n",
      "Bush Heisman Trophy\n",
      "Emma eldest child\n",
      "Spears divorce Federline\n",
      "carried to Aguiar\n",
      "McAlister witnessed objects\n",
      "Cairo Egypt\n",
      "Quiznos sandwiches 4\n",
      "government buying loans\n",
      "suicide found Duckett\n",
      "Japan Narita Airport\n",
      "Peru Ubinas volcano\n",
      "Denver roles Gilligan\n",
      "December 2006 Aboudihaj\n",
      "Wiz not running\n",
      "Poetry founder Holman\n",
      "Costellobe opposition Beazley\n",
      "Tokyo Metropolitan Police\n",
      "Wilsoncon servative governor\n",
      "MEC agreement Cuban\n",
      "ACS developed agencies\n"
     ]
    },
    {
     "name": "stdout",
     "output_type": "stream",
     "text": [
      "Bode Liverpool University\n",
      "Basel in Switzerland\n",
      "Virgílio Minister Amorim\n",
      "Casa-212 disappeared Salak\n",
      "Tethong Director Tibet\n",
      "Mitchell daughter dropped\n",
      "Olav Koss divorced\n",
      "Cabinet Minister Fadzir\n",
      "Chris Lee Republican\n",
      "Hakeem North-West Province\n",
      "Sali Tagliamonte Toronto\n",
      "South African Xingwana\n",
      "teacher Portillo Lucie\n",
      "Professor Reiss director\n",
      "Lady Chatterley Lawrence\n",
      "Jones 2000 Sydney\n",
      "two women yelled\n",
      "husband north Chicago\n",
      "Sydney Opera Australia\n",
      "Shinawatra planning reshuffle\n",
      "General Store explosion\n",
      "Kausner sister Elise\n",
      "Benedict XVI's Paris\n",
      "Jessica adopt trying\n",
      "sons Ali Moutasim\n",
      "mother Margaret Poplawski\n",
      "Aeronautics Space Administration\n",
      "York Times Square\n",
      "Maria professor University\n",
      "Zahedan bombing Ahwaz\n",
      "William County Virginia\n",
      "Ganley successful Lisbon\n",
      "Earth Hour Empire\n",
      "Iran Uzbekistan 9-0\n",
      "Brinkley divorced Cook\n",
      "Queensland Robbie Fowler\n",
      "tanker exploded Salford\n",
      "Rico Daniels France\n",
      "Morgan killing five\n",
      "Yushchenko assert invalid\n",
      "Reagan attracted voters\n",
      "woman riots Cronulla\n",
      "need food Program\n",
      "EB edit entries\n",
      "Williams triumphed over\n",
      "Lessing 2007 Nobel\n",
      "Sierra devote time\n",
      "Italy Russia conflicts\n",
      "Copyright kind monopoly\n",
      "Hovind guilty 58\n",
      "Fiddle dangerous road\n",
      "Victoria married 2010\n",
      "Campbell fatal attack\n",
      "television transition digital\n",
      "injured taken hospitals\n",
      "schools Montgomery lockdown\n",
      "Apple their iPod\n",
      "Australia showdown Cup\n",
      "Hill elected Senate\n",
      "Zidane off Materazzi\n",
      "Department of Health DOH\n",
      "Prime Minister Mulroney\n",
      "British writer Upward\n",
      "Gonçalves died of pneumonia\n",
      "Ike former Tina\n",
      "Evil Cabel blog\n",
      "bill student Australian\n",
      "Church Scientology website\n",
      "Ankola Bigg Boss\n",
      "Bashir crimes humanity\n",
      "Cathal helped Ryanir\n",
      "decline sales manufacturers\n",
      "Hilary Clinton crowdt\n",
      "Lycos anti-spam\n",
      "Japanese Nikkei drop\n",
      "Souza mother Robinho\n",
      "ferry Samarinda Kalimantan\n",
      "Leona Lewis Choir\n",
      "Disney Hong Kong\n",
      "Three hung Guantanamo\n",
      "Jesus died 115\n",
      "Prince Harry home\n",
      "Both men shot\n",
      "Pupils Zealand orange\n",
      "Dube prominent reggae\n",
      "Chirac was admitted\n",
      "Jump5 were heard\n",
      "Archbishop Angelo Amato\n",
      "San different tigers\n",
      "Russian President Dmitry\n",
      "defendant Deanna not\n",
      "teenager arrested Australia\n",
      "Al-Bashir spoke calling\n",
      "Ernesto tropical storm\n",
      "Coast not McDonald\n",
      "Zealand daylight saving\n",
      "country block YouTube\n",
      "Nepalese foreign currency\n",
      "Ma founder Alibaba\n",
      "Apablaza suspected kidnapping\n",
      "fossilized forest Illinois\n",
      "Gene died heart\n",
      "copyright benefit society\n",
      "McJob low-paid job\n",
      "Katrina landfall Florida\n",
      "Patriots won playoff\n",
      "bridge collapsed Mississippi\n",
      "mother Paula Radcliffe\n",
      "Greenpeace promote whaling\n",
      "orangutan lives 40-50\n",
      "Kyushu nicknamed Kyuhaku\n",
      "Program Learners Clara\n",
      "Olympic Winter Turin\n",
      "China favorably Japan\n",
      "Donnell Motherwell captain\n",
      "Scientology religious Spain\n",
      "Greece social revolution\n",
      "Georgiev Bulgarian grandmaster\n",
      "Queensland Senator Joyce\n",
      "Rao Indian economic\n",
      "Manchester defeating Lille\n",
      "Iraq equality sexes\n",
      "Angel challenge Callahan\n",
      "tropical storm Ernesto\n",
      "Zambian been criticised\n",
      "Islamic barbarity women\n",
      "Yuschenko Ukraine conflict\n",
      "Politkovskaya acquitted jury\n",
      "Mafia boss Piccolo\n",
      "closure camp Turkey\n",
      "sons Cathal eldest\n",
      "Queen Commonwealth Realms\n",
      "reacting Russian bombings\n",
      "Lewis number one\n",
      "Harper budget support\n",
      "Smith no confidence\n",
      "Putin accept Medvedev\n",
      "Honda Car Awards\n",
      "Kennedy suffered medical\n",
      "mathematical Turkey closed\n",
      "Harvey American broadcasters\n",
      "Scientology opposition psychiatry\n",
      "Gonda excellent brewers\n",
      "Seven killed coal\n",
      "James Bond Pinewood\n",
      "Erwood return job\n",
      "Parks died Monday\n",
      "Aerosmith cancellation Maui\n",
      "Australian senator Joyce\n",
      "Bolivian President Morales\n",
      "Brownback formerly chairman\n",
      "Swedish manufacturer Volvo\n",
      "BELFAST UNITED KINGDOM\n",
      "Volvo Adventure Award\n",
      "China protesting Japan's\n",
      "US government missing\n",
      "Tavern manager Gonda\n",
      "London Charing Cross\n",
      "Mavericks owner Cuban\n",
      "Jackson never Line\n",
      "Satanic member Gilmore\n",
      "CNET editor Kim\n",
      "Yelenic found dead\n",
      "Netherlands War II\n",
      "28 confirmed dead\n",
      "aircraft crashed ground\n",
      "allows edit movie\n",
      "EU leaders Commission\n",
      "Burger King faster\n",
      "Hasina Minister Bangladesh\n",
      "British soldiers killed\n",
      "Prime Minister Mulroney\n",
      "genetic disease neurofibromatosis\n",
      "President Barack Obama\n",
      "Lankan cricket injured\n",
      "Baldry blues legend\n",
      "Harper party against\n",
      "Reed Hitchens Ladenist\n",
      "Scientists examine substance\n",
      "Blair Catholic Church\n",
      "railway accident cryptic\n",
      "Carnival Minnesota thaw\n",
      "Solis Secretary Labor\n",
      "Chilean President Pinochet\n",
      "Sierra reached final\n",
      "benefits would reduced\n",
      "detainees emain starvation\n",
      "bodies five Kingdom\n",
      "Lu suffered injuries\n",
      "threw shoe minister\n",
      "neurofibromatosis victim Coler\n",
      "Uribe asked Castro\n",
      "Simpson sentenced prision\n",
      "Djibouti war Eritrea\n",
      "Greenpeace Australian whaling\n",
      "users remove Explorer\n",
      "Yelenic friendly neighbor\n",
      "Manchester defeated Lille\n",
      "Zidane headbutting Materazzi\n",
      "Sam Brownback stunning\n",
      "Celebrity Brother Goody\n",
      "CBBA Federal commit\n",
      "Robinho the best\n",
      "Rao passed cardiac\n",
      "Kennedy good condition\n",
      "trees found York\n",
      "Pitt and Jolie\n",
      "lawsuit Chambers God\n",
      "Russia nuclear Iran\n",
      "Condoleezza Rice visit Nova Scotia\n",
      "Oxfam estimated countries\n",
      "Wikipedia anyone edit\n",
      "Politkovskaya shot dead\n",
      "group Co-founder PETA\n",
      "killed African Somalia\n",
      "Twenty-four killed Brazil\n",
      "whale Thames died\n",
      "incident reached scale\n",
      "medal Zealand Special\n",
      "Statfjord east Bergen\n",
      "War II talkers\n",
      "inception People Ethical\n",
      "woman raped Norfolk\n",
      "Brown succeeds Blair\n",
      "attendants lose jobs\n",
      "Sam Brownback Republican\n",
      "Danes film Stardust\n",
      "Simpsons television States\n",
      "witnesses prove Yelenic\n",
      "Arafat PLO HIV\n",
      "Alan Johnston freed\n",
      "IRA gun attack\n",
      "States show Jeopardy\n",
      "assassination Benazir Bhutto\n",
      "Talabani said Hussein\n",
      "Rowling author Potter\n",
      "forest contain tree\n",
      "115 passengers perished\n",
      "\n"
     ]
    },
    {
     "data": {
      "text/plain": [
       "{'total': 600,\n",
       " 'total_MRR': 0.0581,\n",
       " 'total_acc': 0.61,\n",
       " 'total_mean_len': 45.9,\n",
       " 'entail_total': 300,\n",
       " 'entail_acc': 0.85,\n",
       " 'entail_mean_len': 47.7,\n",
       " 'entail_MRR': 0.0608,\n",
       " 'entail_correct': 254,\n",
       " 'entail_correct_mean_len': 47.3,\n",
       " 'entail_MRR_c': 0.0621,\n",
       " 'entail_incorrect': 46,\n",
       " 'entail_incorrect_mean_len': 50.48,\n",
       " 'entail_MRR_inc': 0.0532,\n",
       " 'neutral_total': 210,\n",
       " 'neutral_acc': 0.47,\n",
       " 'neutral_mean_len': 43.5,\n",
       " 'neutral_MRR': 0.058,\n",
       " 'neutral_correct': 98,\n",
       " 'neutral_correct_mean_len': 44.8,\n",
       " 'neutral_MRR_c': 0.0649,\n",
       " 'neutral_incorrect': 112,\n",
       " 'neutral_incorrect_mean_len': 42.29,\n",
       " 'neutral_MRR_inc': 0.052,\n",
       " 'contradict_total': 90,\n",
       " 'contradict_acc': 0.18,\n",
       " 'contradict_mean_len': 45.6,\n",
       " 'contradict_MRR': 0.0496,\n",
       " 'contradict_correct': 16,\n",
       " 'contradict_correct_mean_len': 43.7,\n",
       " 'contradict_MRR_c': 0.0664,\n",
       " 'contradict_incorrect': 74,\n",
       " 'contradict_incorrect_mean_len': 46.07,\n",
       " 'contradict_MRR_inc': 0.046}"
      ]
     },
     "execution_count": 68,
     "metadata": {},
     "output_type": "execute_result"
    }
   ],
   "source": [
    "model = torch.load('3multi_task/multi_0.6, 25, 15.pkl', map_location=torch.device('cpu'))\n",
    "model_3multi_result_non_unique_top3_2 = calculate(model, dataset, tokenizer, top_k=3)\n",
    "model_3multi_result_non_unique_top3_2"
   ]
  },
  {
   "cell_type": "code",
   "execution_count": 70,
   "metadata": {},
   "outputs": [
    {
     "data": {
      "application/vnd.jupyter.widget-view+json": {
       "model_id": "d431b1b4ae0941b896f84c326f931dd5",
       "version_major": 2,
       "version_minor": 0
      },
      "text/plain": [
       "HBox(children=(IntProgress(value=0, description='Iteration', max=600, style=ProgressStyle(description_width='i…"
      ]
     },
     "metadata": {},
     "output_type": "display_data"
    },
    {
     "name": "stdout",
     "output_type": "stream",
     "text": [
      "\n"
     ]
    },
    {
     "data": {
      "text/plain": [
       "{'total': 600,\n",
       " 'total_MRR': 0.0503,\n",
       " 'total_acc': 0.64,\n",
       " 'total_mean_len': 45.9,\n",
       " 'entail_total': 300,\n",
       " 'entail_acc': 0.87,\n",
       " 'entail_mean_len': 47.7,\n",
       " 'entail_MRR': 0.0592,\n",
       " 'entail_correct': 261,\n",
       " 'entail_correct_mean_len': 48.4,\n",
       " 'entail_MRR_c': 0.0585,\n",
       " 'entail_incorrect': 39,\n",
       " 'entail_incorrect_mean_len': 43.44,\n",
       " 'entail_MRR_inc': 0.0636,\n",
       " 'neutral_total': 210,\n",
       " 'neutral_acc': 0.51,\n",
       " 'neutral_mean_len': 43.5,\n",
       " 'neutral_MRR': 0.0349,\n",
       " 'neutral_correct': 108,\n",
       " 'neutral_correct_mean_len': 43.6,\n",
       " 'neutral_MRR_c': 0.0392,\n",
       " 'neutral_incorrect': 102,\n",
       " 'neutral_incorrect_mean_len': 43.36,\n",
       " 'neutral_MRR_inc': 0.0304,\n",
       " 'contradict_total': 90,\n",
       " 'contradict_acc': 0.13,\n",
       " 'contradict_mean_len': 45.6,\n",
       " 'contradict_MRR': 0.0568,\n",
       " 'contradict_correct': 12,\n",
       " 'contradict_correct_mean_len': 37.3,\n",
       " 'contradict_MRR_c': 0.043,\n",
       " 'contradict_incorrect': 78,\n",
       " 'contradict_incorrect_mean_len': 46.92,\n",
       " 'contradict_MRR_inc': 0.0589}"
      ]
     },
     "execution_count": 70,
     "metadata": {},
     "output_type": "execute_result"
    }
   ],
   "source": [
    "model = torch.load('2multi_task/2multi_0.611667, 25.pkl', map_location=torch.device('cpu'))\n",
    "model_2multi_result_non_unique_top3 = calculate(model, dataset, tokenizer, top_k=3)\n",
    "model_2multi_result_non_unique_top3"
   ]
  },
  {
   "cell_type": "code",
   "execution_count": 71,
   "metadata": {},
   "outputs": [
    {
     "data": {
      "application/vnd.jupyter.widget-view+json": {
       "model_id": "e0fffc904dcf4f778452a3a43612f7ed",
       "version_major": 2,
       "version_minor": 0
      },
      "text/plain": [
       "HBox(children=(IntProgress(value=0, description='Iteration', max=600, style=ProgressStyle(description_width='i…"
      ]
     },
     "metadata": {},
     "output_type": "display_data"
    },
    {
     "name": "stdout",
     "output_type": "stream",
     "text": [
      "\n"
     ]
    },
    {
     "ename": "NameError",
     "evalue": "name 'model_single_result_non_unique_top3' is not defined",
     "output_type": "error",
     "traceback": [
      "\u001b[0;31m---------------------------------------------------------------------------\u001b[0m",
      "\u001b[0;31mNameError\u001b[0m                                 Traceback (most recent call last)",
      "\u001b[0;32m<ipython-input-71-732a835f41f9>\u001b[0m in \u001b[0;36m<module>\u001b[0;34m\u001b[0m\n\u001b[1;32m      1\u001b[0m \u001b[0mmodel_single\u001b[0m \u001b[0;34m=\u001b[0m \u001b[0mtorch\u001b[0m\u001b[0;34m.\u001b[0m\u001b[0mload\u001b[0m\u001b[0;34m(\u001b[0m\u001b[0;34m'single_task/single_task_0.56, 23.3.pkl'\u001b[0m\u001b[0;34m,\u001b[0m\u001b[0mmap_location\u001b[0m\u001b[0;34m=\u001b[0m\u001b[0mtorch\u001b[0m\u001b[0;34m.\u001b[0m\u001b[0mdevice\u001b[0m\u001b[0;34m(\u001b[0m\u001b[0;34m'cpu'\u001b[0m\u001b[0;34m)\u001b[0m\u001b[0;34m)\u001b[0m\u001b[0;34m\u001b[0m\u001b[0;34m\u001b[0m\u001b[0m\n\u001b[1;32m      2\u001b[0m \u001b[0mmodel_sinlge_result_non_unique_top3\u001b[0m \u001b[0;34m=\u001b[0m \u001b[0mcalculate\u001b[0m\u001b[0;34m(\u001b[0m\u001b[0mmodel_single\u001b[0m\u001b[0;34m,\u001b[0m \u001b[0mdataset\u001b[0m\u001b[0;34m,\u001b[0m \u001b[0mtokenizer\u001b[0m\u001b[0;34m,\u001b[0m \u001b[0mtop_k\u001b[0m\u001b[0;34m=\u001b[0m\u001b[0;36m3\u001b[0m\u001b[0;34m)\u001b[0m\u001b[0;34m\u001b[0m\u001b[0;34m\u001b[0m\u001b[0m\n\u001b[0;32m----> 3\u001b[0;31m \u001b[0mmodel_single_result_non_unique_top3\u001b[0m\u001b[0;34m\u001b[0m\u001b[0;34m\u001b[0m\u001b[0m\n\u001b[0m",
      "\u001b[0;31mNameError\u001b[0m: name 'model_single_result_non_unique_top3' is not defined"
     ]
    }
   ],
   "source": [
    "model_single = torch.load('single_task/single_task_0.56, 23.3.pkl',map_location=torch.device('cpu'))\n",
    "model_sinlge_result_non_unique_top3 = calculate(model_single, dataset, tokenizer, top_k=3)\n",
    "model_single_result_non_unique_top3"
   ]
  },
  {
   "cell_type": "code",
   "execution_count": 72,
   "metadata": {},
   "outputs": [
    {
     "data": {
      "text/plain": [
       "{'total': 600,\n",
       " 'total_MRR': 0.0486,\n",
       " 'total_acc': 0.51,\n",
       " 'total_mean_len': 45.9,\n",
       " 'entail_total': 300,\n",
       " 'entail_acc': 0.62,\n",
       " 'entail_mean_len': 47.7,\n",
       " 'entail_MRR': 0.0524,\n",
       " 'entail_correct': 185,\n",
       " 'entail_correct_mean_len': 46.7,\n",
       " 'entail_MRR_c': 0.0588,\n",
       " 'entail_incorrect': 115,\n",
       " 'entail_incorrect_mean_len': 49.43,\n",
       " 'entail_MRR_inc': 0.0421,\n",
       " 'neutral_total': 210,\n",
       " 'neutral_acc': 0.37,\n",
       " 'neutral_mean_len': 43.5,\n",
       " 'neutral_MRR': 0.048,\n",
       " 'neutral_correct': 78,\n",
       " 'neutral_correct_mean_len': 43.0,\n",
       " 'neutral_MRR_c': 0.05,\n",
       " 'neutral_incorrect': 132,\n",
       " 'neutral_incorrect_mean_len': 43.77,\n",
       " 'neutral_MRR_inc': 0.0468,\n",
       " 'contradict_total': 90,\n",
       " 'contradict_acc': 0.48,\n",
       " 'contradict_mean_len': 45.6,\n",
       " 'contradict_MRR': 0.0376,\n",
       " 'contradict_correct': 43,\n",
       " 'contradict_correct_mean_len': 44.0,\n",
       " 'contradict_MRR_c': 0.046,\n",
       " 'contradict_incorrect': 47,\n",
       " 'contradict_incorrect_mean_len': 47.13,\n",
       " 'contradict_MRR_inc': 0.0299}"
      ]
     },
     "execution_count": 72,
     "metadata": {},
     "output_type": "execute_result"
    }
   ],
   "source": [
    "model_sinlge_result_non_unique_top3"
   ]
  },
  {
   "cell_type": "code",
   "execution_count": null,
   "metadata": {},
   "outputs": [],
   "source": [
    "model_pretrained = XLNetForMultiSequenceClassification.from_pretrained(\"xlnet-base-cased\", output_attentions=True,)\n",
    "model_pretrained_result_non_unique_top3 = calculate(model_pretrained, dataset, tokenizer, top_k=3)\n",
    "model_pretrained_result_non_unique_top3"
   ]
  },
  {
   "cell_type": "code",
   "execution_count": 63,
   "metadata": {
    "collapsed": true
   },
   "outputs": [
    {
     "data": {
      "text/plain": [
       "{'total': 600,\n",
       " 'total_MRR': 0.0353,\n",
       " 'total_acc': 0.61,\n",
       " 'total_mean_len': 158.8,\n",
       " 'entail_total': 300,\n",
       " 'entail_acc': 0.85,\n",
       " 'entail_mean_len': 171.2,\n",
       " 'entail_MRR': 0.0399,\n",
       " 'entail_correct': 254,\n",
       " 'entail_correct_mean_len': 170.0,\n",
       " 'entail_MRR_c': 0.0415,\n",
       " 'entail_incorrect': 46,\n",
       " 'entail_incorrect_mean_len': 177.78,\n",
       " 'entail_MRR_inc': 0.0309,\n",
       " 'neutral_total': 210,\n",
       " 'neutral_acc': 0.47,\n",
       " 'neutral_mean_len': 134.8,\n",
       " 'neutral_MRR': 0.0304,\n",
       " 'neutral_correct': 98,\n",
       " 'neutral_correct_mean_len': 140.2,\n",
       " 'neutral_MRR_c': 0.0292,\n",
       " 'neutral_incorrect': 112,\n",
       " 'neutral_incorrect_mean_len': 130.11,\n",
       " 'neutral_MRR_inc': 0.0315,\n",
       " 'contradict_total': 90,\n",
       " 'contradict_acc': 0.18,\n",
       " 'contradict_mean_len': 173.7,\n",
       " 'contradict_MRR': 0.0318,\n",
       " 'contradict_correct': 16,\n",
       " 'contradict_correct_mean_len': 159.1,\n",
       " 'contradict_MRR_c': 0.0268,\n",
       " 'contradict_incorrect': 74,\n",
       " 'contradict_incorrect_mean_len': 176.82,\n",
       " 'contradict_MRR_inc': 0.0329}"
      ]
     },
     "execution_count": 63,
     "metadata": {},
     "output_type": "execute_result"
    }
   ],
   "source": [
    "model_3multi_result_non_unique2"
   ]
  },
  {
   "cell_type": "code",
   "execution_count": 56,
   "metadata": {},
   "outputs": [
    {
     "data": {
      "application/vnd.jupyter.widget-view+json": {
       "model_id": "e86ff3b5b4b84ef690c22f569968369d",
       "version_major": 2,
       "version_minor": 0
      },
      "text/plain": [
       "HBox(children=(IntProgress(value=0, description='Iteration', max=600, style=ProgressStyle(description_width='i…"
      ]
     },
     "metadata": {},
     "output_type": "display_data"
    },
    {
     "name": "stderr",
     "output_type": "stream",
     "text": [
      "/Users/chenyutsai/opt/anaconda3/lib/python3.7/site-packages/torch/nn/functional.py:1340: UserWarning: nn.functional.tanh is deprecated. Use torch.tanh instead.\n",
      "  warnings.warn(\"nn.functional.tanh is deprecated. Use torch.tanh instead.\")\n"
     ]
    },
    {
     "name": "stdout",
     "output_type": "stream",
     "text": [
      "\n"
     ]
    },
    {
     "data": {
      "text/plain": [
       "{'total': 600,\n",
       " 'total_MRR': 0.0365,\n",
       " 'total_acc': 0.61,\n",
       " 'total_mean_len': 158.8,\n",
       " 'entail_total': 300,\n",
       " 'entail_acc': 0.85,\n",
       " 'entail_mean_len': 171.2,\n",
       " 'entail_MRR': 0.0411,\n",
       " 'entail_correct': 254,\n",
       " 'entail_correct_mean_len': 170.0,\n",
       " 'entail_MRR_c': 0.0439,\n",
       " 'entail_incorrect': 46,\n",
       " 'entail_incorrect_mean_len': 177.78,\n",
       " 'entail_MRR_inc': 0.0251,\n",
       " 'neutral_total': 210,\n",
       " 'neutral_acc': 0.47,\n",
       " 'neutral_mean_len': 134.8,\n",
       " 'neutral_MRR': 0.0325,\n",
       " 'neutral_correct': 98,\n",
       " 'neutral_correct_mean_len': 140.2,\n",
       " 'neutral_MRR_c': 0.0348,\n",
       " 'neutral_incorrect': 112,\n",
       " 'neutral_incorrect_mean_len': 130.11,\n",
       " 'neutral_MRR_inc': 0.0304,\n",
       " 'contradict_total': 90,\n",
       " 'contradict_acc': 0.18,\n",
       " 'contradict_mean_len': 173.7,\n",
       " 'contradict_MRR': 0.0305,\n",
       " 'contradict_correct': 16,\n",
       " 'contradict_correct_mean_len': 159.1,\n",
       " 'contradict_MRR_c': 0.0156,\n",
       " 'contradict_incorrect': 74,\n",
       " 'contradict_incorrect_mean_len': 176.82,\n",
       " 'contradict_MRR_inc': 0.0337}"
      ]
     },
     "execution_count": 56,
     "metadata": {},
     "output_type": "execute_result"
    }
   ],
   "source": [
    "model = torch.load('3multi_task/multi_0.6, 25, 15.pkl', map_location=torch.device('cpu'))\n",
    "model_3multi_result_non_unique_top3 = calculate(model, dataset, tokenizer, top_k=3)\n",
    "model_3multi_result_non_unique_top3"
   ]
  },
  {
   "cell_type": "code",
   "execution_count": 13,
   "metadata": {
    "collapsed": true
   },
   "outputs": [
    {
     "data": {
      "application/vnd.jupyter.widget-view+json": {
       "model_id": "f24c35a0d27b404da120973708c25756",
       "version_major": 2,
       "version_minor": 0
      },
      "text/plain": [
       "HBox(children=(IntProgress(value=0, description='Iteration', max=600, style=ProgressStyle(description_width='i…"
      ]
     },
     "metadata": {},
     "output_type": "display_data"
    },
    {
     "name": "stdout",
     "output_type": "stream",
     "text": [
      "\n"
     ]
    },
    {
     "data": {
      "text/plain": [
       "{'total': 600,\n",
       " 'total_MRR': 0.025,\n",
       " 'total_acc': 0.56,\n",
       " 'total_mean_len': 244.5,\n",
       " 'entail_total': 300,\n",
       " 'entail_acc': 0.62,\n",
       " 'entail_mean_len': 261.6,\n",
       " 'entail_MRR': 0.0283,\n",
       " 'entail_correct': 186,\n",
       " 'entail_correct_mean_len': 252.7,\n",
       " 'entail_MRR_c': 0.0303,\n",
       " 'entail_incorrect': 114,\n",
       " 'entail_incorrect_mean_len': 275.93,\n",
       " 'entail_MRR_inc': 0.0251,\n",
       " 'neutral_total': 210,\n",
       " 'neutral_acc': 0.62,\n",
       " 'neutral_mean_len': 208.1,\n",
       " 'neutral_MRR': 0.0217,\n",
       " 'neutral_correct': 131,\n",
       " 'neutral_correct_mean_len': 209.6,\n",
       " 'neutral_MRR_c': 0.0214,\n",
       " 'neutral_incorrect': 79,\n",
       " 'neutral_incorrect_mean_len': 205.58,\n",
       " 'neutral_MRR_inc': 0.0222,\n",
       " 'contradict_total': 90,\n",
       " 'contradict_acc': 0.21,\n",
       " 'contradict_mean_len': 272.8,\n",
       " 'contradict_MRR': 0.0216,\n",
       " 'contradict_correct': 19,\n",
       " 'contradict_correct_mean_len': 230.4,\n",
       " 'contradict_MRR_c': 0.025,\n",
       " 'contradict_incorrect': 71,\n",
       " 'contradict_incorrect_mean_len': 284.1,\n",
       " 'contradict_MRR_inc': 0.0207}"
      ]
     },
     "execution_count": 13,
     "metadata": {},
     "output_type": "execute_result"
    }
   ],
   "source": [
    "model = torch.load('contra_63_24.pkl', map_location=torch.device('cpu'))\n",
    "model_2multi_result_non_unique = calculate(model, testloader, tokenizer)\n",
    "model_2multi_result_non_unique"
   ]
  },
  {
   "cell_type": "code",
   "execution_count": 74,
   "metadata": {},
   "outputs": [
    {
     "ename": "FileNotFoundError",
     "evalue": "[Errno 2] No such file or directory: '2multi_task/2multi_0.601667, 26.pkl'",
     "output_type": "error",
     "traceback": [
      "\u001b[0;31m---------------------------------------------------------------------------\u001b[0m",
      "\u001b[0;31mFileNotFoundError\u001b[0m                         Traceback (most recent call last)",
      "\u001b[0;32m<ipython-input-74-3fe09a9ad1b6>\u001b[0m in \u001b[0;36m<module>\u001b[0;34m\u001b[0m\n\u001b[0;32m----> 1\u001b[0;31m \u001b[0mmodel\u001b[0m \u001b[0;34m=\u001b[0m \u001b[0mtorch\u001b[0m\u001b[0;34m.\u001b[0m\u001b[0mload\u001b[0m\u001b[0;34m(\u001b[0m\u001b[0;34m'2multi_task/2multi_0.601667, 26.pkl'\u001b[0m\u001b[0;34m,\u001b[0m \u001b[0mmap_location\u001b[0m\u001b[0;34m=\u001b[0m\u001b[0mtorch\u001b[0m\u001b[0;34m.\u001b[0m\u001b[0mdevice\u001b[0m\u001b[0;34m(\u001b[0m\u001b[0;34m'cpu'\u001b[0m\u001b[0;34m)\u001b[0m\u001b[0;34m)\u001b[0m\u001b[0;34m\u001b[0m\u001b[0;34m\u001b[0m\u001b[0m\n\u001b[0m\u001b[1;32m      2\u001b[0m \u001b[0mmodel_2multi_result_non_unique1\u001b[0m \u001b[0;34m=\u001b[0m \u001b[0mcalculate\u001b[0m\u001b[0;34m(\u001b[0m\u001b[0mmodel\u001b[0m\u001b[0;34m,\u001b[0m \u001b[0mdataset\u001b[0m\u001b[0;34m,\u001b[0m \u001b[0mtokenizer\u001b[0m\u001b[0;34m)\u001b[0m\u001b[0;34m\u001b[0m\u001b[0;34m\u001b[0m\u001b[0m\n\u001b[1;32m      3\u001b[0m \u001b[0mmodel_2multi_result_non_unique1\u001b[0m\u001b[0;34m\u001b[0m\u001b[0;34m\u001b[0m\u001b[0m\n",
      "\u001b[0;32m~/opt/anaconda3/lib/python3.7/site-packages/torch/serialization.py\u001b[0m in \u001b[0;36mload\u001b[0;34m(f, map_location, pickle_module, **pickle_load_args)\u001b[0m\n\u001b[1;32m    417\u001b[0m             \u001b[0;34m(\u001b[0m\u001b[0msys\u001b[0m\u001b[0;34m.\u001b[0m\u001b[0mversion_info\u001b[0m\u001b[0;34m[\u001b[0m\u001b[0;36m0\u001b[0m\u001b[0;34m]\u001b[0m \u001b[0;34m==\u001b[0m \u001b[0;36m2\u001b[0m \u001b[0;32mand\u001b[0m \u001b[0misinstance\u001b[0m\u001b[0;34m(\u001b[0m\u001b[0mf\u001b[0m\u001b[0;34m,\u001b[0m \u001b[0municode\u001b[0m\u001b[0;34m)\u001b[0m\u001b[0;34m)\u001b[0m\u001b[0;34m:\u001b[0m\u001b[0;34m\u001b[0m\u001b[0;34m\u001b[0m\u001b[0m\n\u001b[1;32m    418\u001b[0m         \u001b[0mnew_fd\u001b[0m \u001b[0;34m=\u001b[0m \u001b[0;32mTrue\u001b[0m\u001b[0;34m\u001b[0m\u001b[0;34m\u001b[0m\u001b[0m\n\u001b[0;32m--> 419\u001b[0;31m         \u001b[0mf\u001b[0m \u001b[0;34m=\u001b[0m \u001b[0mopen\u001b[0m\u001b[0;34m(\u001b[0m\u001b[0mf\u001b[0m\u001b[0;34m,\u001b[0m \u001b[0;34m'rb'\u001b[0m\u001b[0;34m)\u001b[0m\u001b[0;34m\u001b[0m\u001b[0;34m\u001b[0m\u001b[0m\n\u001b[0m\u001b[1;32m    420\u001b[0m     \u001b[0;32melif\u001b[0m \u001b[0;34m(\u001b[0m\u001b[0msys\u001b[0m\u001b[0;34m.\u001b[0m\u001b[0mversion_info\u001b[0m\u001b[0;34m[\u001b[0m\u001b[0;36m0\u001b[0m\u001b[0;34m]\u001b[0m \u001b[0;34m==\u001b[0m \u001b[0;36m3\u001b[0m \u001b[0;32mand\u001b[0m \u001b[0misinstance\u001b[0m\u001b[0;34m(\u001b[0m\u001b[0mf\u001b[0m\u001b[0;34m,\u001b[0m \u001b[0mpathlib\u001b[0m\u001b[0;34m.\u001b[0m\u001b[0mPath\u001b[0m\u001b[0;34m)\u001b[0m\u001b[0;34m)\u001b[0m\u001b[0;34m:\u001b[0m\u001b[0;34m\u001b[0m\u001b[0;34m\u001b[0m\u001b[0m\n\u001b[1;32m    421\u001b[0m         \u001b[0mnew_fd\u001b[0m \u001b[0;34m=\u001b[0m \u001b[0;32mTrue\u001b[0m\u001b[0;34m\u001b[0m\u001b[0;34m\u001b[0m\u001b[0m\n",
      "\u001b[0;31mFileNotFoundError\u001b[0m: [Errno 2] No such file or directory: '2multi_task/2multi_0.601667, 26.pkl'"
     ]
    }
   ],
   "source": [
    "model = torch.load('2multi_task/2multi_0.601667, 26.pkl', map_location=torch.device('cpu'))\n",
    "model_2multi_result_non_unique1 = calculate(model, dataset, tokenizer)\n",
    "model_2multi_result_non_unique1"
   ]
  },
  {
   "cell_type": "code",
   "execution_count": null,
   "metadata": {},
   "outputs": [
    {
     "data": {
      "application/vnd.jupyter.widget-view+json": {
       "model_id": "7c7c4f6fe3594b5a8df69081cb7a3891",
       "version_major": 2,
       "version_minor": 0
      },
      "text/plain": [
       "HBox(children=(IntProgress(value=0, description='Iteration', max=600, style=ProgressStyle(description_width='i…"
      ]
     },
     "metadata": {},
     "output_type": "display_data"
    }
   ],
   "source": [
    "model = torch.load('2multi_task/2multi_0.611667, 25.pkl', map_location=torch.device('cpu'))\n",
    "model_2multi_result_non_unique2 = calculate(model, dataset, tokenizer)\n",
    "model_2multi_result_non_unique2"
   ]
  },
  {
   "cell_type": "markdown",
   "metadata": {},
   "source": [
    "# Single"
   ]
  },
  {
   "cell_type": "code",
   "execution_count": 65,
   "metadata": {
    "collapsed": true
   },
   "outputs": [
    {
     "data": {
      "application/vnd.jupyter.widget-view+json": {
       "model_id": "2f09332e99e54e56803cefb206351f98",
       "version_major": 2,
       "version_minor": 0
      },
      "text/plain": [
       "HBox(children=(IntProgress(value=0, description='Iteration', max=600, style=ProgressStyle(description_width='i…"
      ]
     },
     "metadata": {},
     "output_type": "display_data"
    },
    {
     "name": "stdout",
     "output_type": "stream",
     "text": [
      "\n",
      "CPU times: user 46min 55s, sys: 33.4 s, total: 47min 28s\n",
      "Wall time: 26min 49s\n"
     ]
    },
    {
     "data": {
      "text/plain": [
       "{'total': 600,\n",
       " 'total_MRR': 0.4116,\n",
       " 'total_acc': 0.52,\n",
       " 'total_mean_len': 15.0,\n",
       " 'entail_total': 300,\n",
       " 'entail_acc': 0.44,\n",
       " 'entail_mean_len': 15.5,\n",
       " 'entail_MRR': 0.4951,\n",
       " 'entail_correct': 133,\n",
       " 'entail_correct_mean_len': 13.9,\n",
       " 'entail_MRR_c': 0.5375,\n",
       " 'entail_incorrect': 167,\n",
       " 'entail_incorrect_mean_len': 16.86,\n",
       " 'entail_MRR_inc': 0.4613,\n",
       " 'neutral_total': 210,\n",
       " 'neutral_acc': 0.73,\n",
       " 'neutral_mean_len': 13.7,\n",
       " 'neutral_MRR': 0.3011,\n",
       " 'neutral_correct': 154,\n",
       " 'neutral_correct_mean_len': 13.6,\n",
       " 'neutral_MRR_c': 0.297,\n",
       " 'neutral_incorrect': 56,\n",
       " 'neutral_incorrect_mean_len': 13.82,\n",
       " 'neutral_MRR_inc': 0.3125,\n",
       " 'contradict_total': 90,\n",
       " 'contradict_acc': 0.29,\n",
       " 'contradict_mean_len': 16.4,\n",
       " 'contradict_MRR': 0.3909,\n",
       " 'contradict_correct': 26,\n",
       " 'contradict_correct_mean_len': 17.6,\n",
       " 'contradict_MRR_c': 0.423,\n",
       " 'contradict_incorrect': 64,\n",
       " 'contradict_incorrect_mean_len': 15.92,\n",
       " 'contradict_MRR_inc': 0.3779}"
      ]
     },
     "execution_count": 65,
     "metadata": {},
     "output_type": "execute_result"
    }
   ],
   "source": [
    "%%time\n",
    "model_single = torch.load('single_056.pkl',map_location=torch.device('cpu'))\n",
    "model_single_result_in_un = calculate(model_single, testloader, tokenizer, unique=True, in_un=True)\n",
    "model_single_result_in_un"
   ]
  },
  {
   "cell_type": "code",
   "execution_count": null,
   "metadata": {},
   "outputs": [],
   "source": [
    "model_single = torch.load('single_056.pkl',map_location=torch.device('cpu'))\n",
    "model_single_result = calculate(model_single, testloader, tokenizer, unique=True)\n",
    "model_single_result"
   ]
  },
  {
   "cell_type": "code",
   "execution_count": 36,
   "metadata": {},
   "outputs": [
    {
     "data": {
      "application/vnd.jupyter.widget-view+json": {
       "model_id": "7705b1afa3a34d599cb7fe7aab45d240",
       "version_major": 2,
       "version_minor": 0
      },
      "text/plain": [
       "HBox(children=(IntProgress(value=0, description='Iteration', max=600, style=ProgressStyle(description_width='i…"
      ]
     },
     "metadata": {},
     "output_type": "display_data"
    },
    {
     "name": "stdout",
     "output_type": "stream",
     "text": [
      "\n"
     ]
    },
    {
     "data": {
      "text/plain": [
       "{'total': 600,\n",
       " 'total_MRR': 0.0323,\n",
       " 'total_acc': 0.51,\n",
       " 'total_mean_len': 158.8,\n",
       " 'entail_total': 300,\n",
       " 'entail_acc': 0.62,\n",
       " 'entail_mean_len': 171.2,\n",
       " 'entail_MRR': 0.0363,\n",
       " 'entail_correct': 185,\n",
       " 'entail_correct_mean_len': 163.4,\n",
       " 'entail_MRR_c': 0.0394,\n",
       " 'entail_incorrect': 115,\n",
       " 'entail_incorrect_mean_len': 183.86,\n",
       " 'entail_MRR_inc': 0.0313,\n",
       " 'neutral_total': 210,\n",
       " 'neutral_acc': 0.37,\n",
       " 'neutral_mean_len': 134.8,\n",
       " 'neutral_MRR': 0.0279,\n",
       " 'neutral_correct': 78,\n",
       " 'neutral_correct_mean_len': 142.2,\n",
       " 'neutral_MRR_c': 0.0253,\n",
       " 'neutral_incorrect': 132,\n",
       " 'neutral_incorrect_mean_len': 130.45,\n",
       " 'neutral_MRR_inc': 0.0295,\n",
       " 'contradict_total': 90,\n",
       " 'contradict_acc': 0.48,\n",
       " 'contradict_mean_len': 173.7,\n",
       " 'contradict_MRR': 0.0292,\n",
       " 'contradict_correct': 43,\n",
       " 'contradict_correct_mean_len': 167.6,\n",
       " 'contradict_MRR_c': 0.0284,\n",
       " 'contradict_incorrect': 47,\n",
       " 'contradict_incorrect_mean_len': 179.26,\n",
       " 'contradict_MRR_inc': 0.0299}"
      ]
     },
     "execution_count": 36,
     "metadata": {},
     "output_type": "execute_result"
    }
   ],
   "source": [
    "model_single = torch.load('single_task/single_task_0.56, 23.3.pkl',map_location=torch.device('cpu'))\n",
    "model_single_result_non_unique = calculate(model_single, dataset, tokenizer)\n",
    "model_single_result_non_unique"
   ]
  },
  {
   "cell_type": "markdown",
   "metadata": {},
   "source": [
    "# Pretrained"
   ]
  },
  {
   "cell_type": "code",
   "execution_count": 92,
   "metadata": {},
   "outputs": [
    {
     "data": {
      "application/vnd.jupyter.widget-view+json": {
       "model_id": "be844a6fb7a4427bbeac6d4636a596bb",
       "version_major": 2,
       "version_minor": 0
      },
      "text/plain": [
       "HBox(children=(IntProgress(value=0, description='Iteration', max=600, style=ProgressStyle(description_width='i…"
      ]
     },
     "metadata": {},
     "output_type": "display_data"
    },
    {
     "name": "stdout",
     "output_type": "stream",
     "text": [
      "\n",
      "CPU times: user 46min 27s, sys: 32.4 s, total: 46min 59s\n",
      "Wall time: 26min 27s\n"
     ]
    },
    {
     "data": {
      "text/plain": [
       "{'total': 600,\n",
       " 'total_MRR': 0.1777,\n",
       " 'total_acc': 0.46,\n",
       " 'total_mean_len': 15.0,\n",
       " 'entail_total': 300,\n",
       " 'entail_acc': 0.8,\n",
       " 'entail_mean_len': 15.5,\n",
       " 'entail_MRR': 0.1961,\n",
       " 'entail_correct': 240,\n",
       " 'entail_correct_mean_len': 15.6,\n",
       " 'entail_MRR_c': 0.1987,\n",
       " 'entail_incorrect': 60,\n",
       " 'entail_incorrect_mean_len': 15.53,\n",
       " 'entail_MRR_inc': 0.1857,\n",
       " 'neutral_total': 210,\n",
       " 'neutral_acc': 0.15,\n",
       " 'neutral_mean_len': 13.7,\n",
       " 'neutral_MRR': 0.1584,\n",
       " 'neutral_correct': 31,\n",
       " 'neutral_correct_mean_len': 14.1,\n",
       " 'neutral_MRR_c': 0.1548,\n",
       " 'neutral_incorrect': 179,\n",
       " 'neutral_incorrect_mean_len': 13.59,\n",
       " 'neutral_MRR_inc': 0.159,\n",
       " 'contradict_total': 90,\n",
       " 'contradict_acc': 0.07,\n",
       " 'contradict_mean_len': 16.4,\n",
       " 'contradict_MRR': 0.1613,\n",
       " 'contradict_correct': 6,\n",
       " 'contradict_correct_mean_len': 19.3,\n",
       " 'contradict_MRR_c': 0.1167,\n",
       " 'contradict_incorrect': 84,\n",
       " 'contradict_incorrect_mean_len': 16.19,\n",
       " 'contradict_MRR_inc': 0.1645}"
      ]
     },
     "execution_count": 92,
     "metadata": {},
     "output_type": "execute_result"
    }
   ],
   "source": [
    "%%time\n",
    "model = XLNetForMultiSequenceClassification.from_pretrained(PRETRAINED_MODEL_NAME, output_attentions=True,)\n",
    "model_pretrained_result_unique = calculate(model_pretrained, testloader, tokenizer, unique=True)\n",
    "model_pretrained_result_unique"
   ]
  },
  {
   "cell_type": "code",
   "execution_count": 50,
   "metadata": {},
   "outputs": [
    {
     "ename": "NameError",
     "evalue": "name 'testloader' is not defined",
     "output_type": "error",
     "traceback": [
      "\u001b[0;31m---------------------------------------------------------------------------\u001b[0m",
      "\u001b[0;31mNameError\u001b[0m                                 Traceback (most recent call last)",
      "\u001b[0;32m<ipython-input-50-b1ce39c5e362>\u001b[0m in \u001b[0;36m<module>\u001b[0;34m\u001b[0m\n\u001b[1;32m      1\u001b[0m model_pretrained = XLNetForSequenceClassification.from_pretrained('xlnet-base-cased',output_attentions=True,\n\u001b[1;32m      2\u001b[0m                                                                   num_labels=3)\n\u001b[0;32m----> 3\u001b[0;31m \u001b[0mmodel_pretrained_result_in_un\u001b[0m \u001b[0;34m=\u001b[0m \u001b[0mcalculate\u001b[0m\u001b[0;34m(\u001b[0m\u001b[0mmodel_pretrained\u001b[0m\u001b[0;34m,\u001b[0m \u001b[0mtestloader\u001b[0m\u001b[0;34m,\u001b[0m \u001b[0mtokenizer\u001b[0m\u001b[0;34m,\u001b[0m \u001b[0munique\u001b[0m\u001b[0;34m=\u001b[0m\u001b[0;32mTrue\u001b[0m\u001b[0;34m,\u001b[0m \u001b[0min_un\u001b[0m\u001b[0;34m=\u001b[0m\u001b[0;32mTrue\u001b[0m\u001b[0;34m)\u001b[0m\u001b[0;34m\u001b[0m\u001b[0;34m\u001b[0m\u001b[0m\n\u001b[0m\u001b[1;32m      4\u001b[0m \u001b[0mmodel_pretrained_result_in_un\u001b[0m\u001b[0;34m\u001b[0m\u001b[0;34m\u001b[0m\u001b[0m\n",
      "\u001b[0;31mNameError\u001b[0m: name 'testloader' is not defined"
     ]
    }
   ],
   "source": [
    "model_pretrained = XLNetForSequenceClassification.from_pretrained('xlnet-base-cased',output_attentions=True,\n",
    "                                                                  num_labels=3)\n",
    "model_pretrained_result_in_un = calculate(model_pretrained, testloader, tokenizer, unique=True, in_un=True)\n",
    "model_pretrained_result_in_un"
   ]
  },
  {
   "cell_type": "code",
   "execution_count": 54,
   "metadata": {},
   "outputs": [
    {
     "data": {
      "application/vnd.jupyter.widget-view+json": {
       "model_id": "f41e5b6758074a8ea8d3fa0f8d952bcd",
       "version_major": 2,
       "version_minor": 0
      },
      "text/plain": [
       "HBox(children=(IntProgress(value=0, description='Iteration', max=600, style=ProgressStyle(description_width='i…"
      ]
     },
     "metadata": {},
     "output_type": "display_data"
    },
    {
     "name": "stdout",
     "output_type": "stream",
     "text": [
      "\n"
     ]
    },
    {
     "data": {
      "text/plain": [
       "{'total': 600,\n",
       " 'total_MRR': 0.0313,\n",
       " 'total_acc': 0.38,\n",
       " 'total_mean_len': 158.8,\n",
       " 'entail_total': 300,\n",
       " 'entail_acc': 0.54,\n",
       " 'entail_mean_len': 171.2,\n",
       " 'entail_MRR': 0.0349,\n",
       " 'entail_correct': 163,\n",
       " 'entail_correct_mean_len': 172.2,\n",
       " 'entail_MRR_c': 0.0347,\n",
       " 'entail_incorrect': 137,\n",
       " 'entail_incorrect_mean_len': 170.12,\n",
       " 'entail_MRR_inc': 0.0352,\n",
       " 'neutral_total': 210,\n",
       " 'neutral_acc': 0.2,\n",
       " 'neutral_mean_len': 134.8,\n",
       " 'neutral_MRR': 0.0276,\n",
       " 'neutral_correct': 43,\n",
       " 'neutral_correct_mean_len': 139.8,\n",
       " 'neutral_MRR_c': 0.03,\n",
       " 'neutral_incorrect': 167,\n",
       " 'neutral_incorrect_mean_len': 133.54,\n",
       " 'neutral_MRR_inc': 0.027,\n",
       " 'contradict_total': 90,\n",
       " 'contradict_acc': 0.22,\n",
       " 'contradict_mean_len': 173.7,\n",
       " 'contradict_MRR': 0.0283,\n",
       " 'contradict_correct': 20,\n",
       " 'contradict_correct_mean_len': 227.6,\n",
       " 'contradict_MRR_c': 0.0228,\n",
       " 'contradict_incorrect': 70,\n",
       " 'contradict_incorrect_mean_len': 158.26,\n",
       " 'contradict_MRR_inc': 0.0299}"
      ]
     },
     "execution_count": 54,
     "metadata": {},
     "output_type": "execute_result"
    }
   ],
   "source": [
    "model_pretrained = XLNetForMultiSequenceClassification.from_pretrained(\"xlnet-base-cased\", output_attentions=True,)\n",
    "model_pretrained_result_non_unique = calculate(model_pretrained, dataset, tokenizer)\n",
    "model_pretrained_result_non_unique"
   ]
  },
  {
   "cell_type": "code",
   "execution_count": 96,
   "metadata": {},
   "outputs": [],
   "source": [
    "import csv\n",
    "#with open('output.csv', 'w', newline='') as csvfile:\n",
    "\n",
    "with open('pretrained_non_unique.csv', 'w') as f:\n",
    "    w = csv.DictWriter(f, model_pretrained_result_non_unique.keys())\n",
    "    w.writeheader()\n",
    "    w.writerow(model_pretrained_result_non_unique)\n",
    "\n",
    "with open('pretrained_unique.csv', 'w') as f:\n",
    "    w = csv.DictWriter(f, model_pretrained_result.keys())\n",
    "    w.writeheader()\n",
    "    w.writerow(model_pretrained_result_unique)\n",
    "    \n",
    "with open('pretrained_in_un.csv', 'w') as f:\n",
    "    w = csv.DictWriter(f, model_pretrained_result_in_un.keys())\n",
    "    w.writeheader()\n",
    "    w.writerow(model_pretrained_result_in_un)"
   ]
  },
  {
   "cell_type": "code",
   "execution_count": 10,
   "metadata": {},
   "outputs": [],
   "source": [
    "sentence_a = \"\"\"losail qatar afp torrential rain caused the seasonopening qatar motogp to be cancelled on sunday leaving officials and teams in a frenzy before deciding to race on monday instead at this floodlit desert venue. monsoonlike conditions accompanied by swirling winds arrived just moments before australia's casey stoner on pole position was due to lead defending world champion valentino rossi and the other riders away on the warmup lap. it's just unlucky with the weather said australian ducati rider stoner the 2007 world champion who was bidding for a third successive win here.\"\"\"\n",
    "sentence_b = \"valentino rossi won the seasonopening qatar motogp.\"\n",
    "test_sentence_a = \"\"\"torrential rain caused the seasonopening qatar motogp to be cancelled\"\"\"\n",
    "tokenizer = XLNetTokenizer.from_pretrained('xlnet-base-cased', do_lower_case=True)"
   ]
  },
  {
   "cell_type": "code",
   "execution_count": 11,
   "metadata": {},
   "outputs": [],
   "source": [
    "inputs = tokenizer.encode_plus(sentence_a, sentence_b, return_tensors='pt', add_special_tokens=True)\n",
    "input_ids = inputs['input_ids'].to(device)\n",
    "input_ids.squeeze()\n",
    "tokens = tokenizer.convert_ids_to_tokens(input_ids.squeeze().tolist())\n",
    "token_type_ids = inputs['token_type_ids'].to(device)"
   ]
  },
  {
   "cell_type": "code",
   "execution_count": 84,
   "metadata": {},
   "outputs": [
    {
     "data": {
      "text/plain": [
       "tensor([[-0.0703, -0.0253, -0.0086]])"
      ]
     },
     "execution_count": 84,
     "metadata": {},
     "output_type": "execute_result"
    }
   ],
   "source": [
    "model.eval()\n",
    "with torch.no_grad():\n",
    "    attention = model_pretrained(input_ids, token_type_ids=token_type_ids)[-1]\n",
    "    logits = model_pretrained(input_ids, token_type_ids=token_type_ids)[0]\n",
    "logits"
   ]
  },
  {
   "cell_type": "code",
   "execution_count": 13,
   "metadata": {
    "collapsed": true
   },
   "outputs": [
    {
     "data": {
      "text/plain": [
       "['season',\n",
       " 'p',\n",
       " 'moto',\n",
       " 'opening',\n",
       " 'qa',\n",
       " 'g',\n",
       " 'tar',\n",
       " 'ino',\n",
       " 'ossi',\n",
       " 'r',\n",
       " 'valent',\n",
       " 'win',\n",
       " 'for',\n",
       " 'defending',\n",
       " '.',\n",
       " 'a',\n",
       " 'the',\n",
       " 'bidding',\n",
       " 'world',\n",
       " 'champion',\n",
       " 'rider',\n",
       " 'race',\n",
       " 'pole',\n",
       " 'af',\n",
       " 'lead',\n",
       " 'was',\n",
       " 'riders',\n",
       " 'and',\n",
       " 'who',\n",
       " 'australia',\n",
       " 'up',\n",
       " 'lap',\n",
       " 'cancelled',\n",
       " 'successive',\n",
       " 'third',\n",
       " 'frenzy',\n",
       " 'warm',\n",
       " 'torrential',\n",
       " 'venue',\n",
       " 'deciding',\n",
       " 'ati',\n",
       " 'il',\n",
       " 'officials',\n",
       " 'monsoon',\n",
       " 'stone',\n",
       " '2007',\n",
       " 'case',\n",
       " \"'\",\n",
       " 'flood',\n",
       " 'position',\n",
       " 'desert',\n",
       " 'sun',\n",
       " 'teams',\n",
       " 'mon',\n",
       " 'before',\n",
       " 'lucky',\n",
       " 'instead',\n",
       " 'just',\n",
       " 'conditions',\n",
       " 'n',\n",
       " 'this',\n",
       " 'un',\n",
       " 'duc',\n",
       " 'winds',\n",
       " 'to',\n",
       " 'weather',\n",
       " 'on',\n",
       " 'here',\n",
       " 'it',\n",
       " 'said',\n",
       " 'at',\n",
       " 'los',\n",
       " 'day',\n",
       " 'due',\n",
       " 'rain',\n",
       " 'by',\n",
       " 'arrived',\n",
       " 'y',\n",
       " 'caused',\n",
       " 'other',\n",
       " 'be',\n",
       " 's',\n",
       " 'leaving',\n",
       " 'with',\n",
       " 'lit',\n",
       " 'swirling',\n",
       " 'away',\n",
       " 'moments',\n",
       " 'accompanied',\n",
       " 'like',\n",
       " 'in']"
      ]
     },
     "execution_count": 13,
     "metadata": {},
     "output_type": "execute_result"
    }
   ],
   "source": [
    "attn = format_attention(attention, tokens)  \n",
    "tokens = format_special_chars(tokens)\n",
    "sentence_b_start = token_type_ids[0].tolist().index(1)\n",
    "slice_a = slice(0, sentence_b_start)\n",
    "slice_b = slice(sentence_b_start, len(tokens))\n",
    "attn_data = attn[:, :, slice_a, slice_b]\n",
    "sentence_a_tokens = tokens[slice_a]\n",
    "sentence_b_tokens = tokens[slice_b]\n",
    "pair = pair_match(sentence_a_tokens, sentence_b_tokens, attn_data=attn_data)\n",
    "pair = sorted(pair, key=lambda pair: pair[2], reverse=True)\n",
    "pair = unique_pair_without_score(pair)\n",
    "pair"
   ]
  },
  {
   "cell_type": "code",
   "execution_count": 17,
   "metadata": {},
   "outputs": [],
   "source": [
    "test_inputs = tokenizer.encode_plus(test_sentence_a, sentence_b, return_tensors='pt', add_special_tokens=False)\n",
    "test_input_ids = test_inputs['input_ids']\n",
    "test_input_ids.squeeze()\n",
    "test_tokens = tokenizer.convert_ids_to_tokens(test_input_ids.squeeze().tolist())\n",
    "test_token_type_ids = test_inputs['token_type_ids']\n",
    "test_tokens = format_special_chars(test_tokens)\n",
    "test_sentence_b_start = test_token_type_ids[0].tolist().index(1)\n",
    "test_slice_a = slice(0, test_sentence_b_start)\n",
    "test_slice_b = slice(test_sentence_b_start, len(test_tokens))\n",
    "test_sentence_a_tokens = test_tokens[test_slice_a]\n",
    "test_sentence_b_tokens = test_tokens[test_slice_b]\n",
    "test_pair = pair_match(test_sentence_a_tokens, test_sentence_b_tokens, attn_data=None)\n",
    "test_pair = unique_pair_without_score(test_pair)"
   ]
  }
 ],
 "metadata": {
  "kernelspec": {
   "display_name": "Python 3",
   "language": "python",
   "name": "python3"
  },
  "language_info": {
   "codemirror_mode": {
    "name": "ipython",
    "version": 3
   },
   "file_extension": ".py",
   "mimetype": "text/x-python",
   "name": "python",
   "nbconvert_exporter": "python",
   "pygments_lexer": "ipython3",
   "version": "3.7.4"
  }
 },
 "nbformat": 4,
 "nbformat_minor": 2
}
