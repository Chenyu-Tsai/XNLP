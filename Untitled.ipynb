{
 "cells": [
  {
   "cell_type": "code",
   "execution_count": 67,
   "metadata": {},
   "outputs": [],
   "source": [
    "import dataclasses\n",
    "from dataclasses import dataclass"
   ]
  },
  {
   "cell_type": "code",
   "execution_count": 72,
   "metadata": {},
   "outputs": [],
   "source": [
    "@dataclass\n",
    "class InventoryItem:\n",
    "    '''Class for keeping track of an item in inventory.'''\n",
    "    name: str\n",
    "    unit_price: float = 500\n",
    "    quantity_on_hand: int = 0\n"
   ]
  },
  {
   "cell_type": "code",
   "execution_count": null,
   "metadata": {},
   "outputs": [],
   "source": [
    "class Fruit:\n",
    "    name = 'Fruitas'\n",
    "\n",
    "    @classmethod\n",
    "    def printName(cls):\n",
    "        print('The name is:', cls.name)\n",
    "\n",
    "Fruit.printName()"
   ]
  },
  {
   "cell_type": "code",
   "execution_count": 90,
   "metadata": {},
   "outputs": [
    {
     "name": "stdout",
     "output_type": "stream",
     "text": [
      "*playing music*\n"
     ]
    }
   ],
   "source": [
    "class Music:\n",
    "    @staticmethod\n",
    "    def play():\n",
    "        print(\"*playing music*\")\n",
    "\n",
    "Music.play()"
   ]
  },
  {
   "cell_type": "code",
   "execution_count": 91,
   "metadata": {},
   "outputs": [
    {
     "name": "stdout",
     "output_type": "stream",
     "text": [
      "*playing music*\n"
     ]
    },
    {
     "ename": "TypeError",
     "evalue": "stop() missing 1 required positional argument: 'self'",
     "output_type": "error",
     "traceback": [
      "\u001b[1;31m---------------------------------------------------------------------------\u001b[0m",
      "\u001b[1;31mTypeError\u001b[0m                                 Traceback (most recent call last)",
      "\u001b[1;32m<ipython-input-91-dcc8799c61cd>\u001b[0m in \u001b[0;36m<module>\u001b[1;34m()\u001b[0m\n\u001b[0;32m      8\u001b[0m \u001b[1;33m\u001b[0m\u001b[0m\n\u001b[0;32m      9\u001b[0m \u001b[0mMusic\u001b[0m\u001b[1;33m.\u001b[0m\u001b[0mplay\u001b[0m\u001b[1;33m(\u001b[0m\u001b[1;33m)\u001b[0m\u001b[1;33m\u001b[0m\u001b[1;33m\u001b[0m\u001b[0m\n\u001b[1;32m---> 10\u001b[1;33m \u001b[0mMusic\u001b[0m\u001b[1;33m.\u001b[0m\u001b[0mstop\u001b[0m\u001b[1;33m(\u001b[0m\u001b[1;33m)\u001b[0m\u001b[1;33m\u001b[0m\u001b[1;33m\u001b[0m\u001b[0m\n\u001b[0m",
      "\u001b[1;31mTypeError\u001b[0m: stop() missing 1 required positional argument: 'self'"
     ]
    }
   ],
   "source": [
    "class Music:\n",
    "    @staticmethod\n",
    "    def play():\n",
    "        print(\"*playing music*\")\n",
    "\n",
    "    def stop(self):\n",
    "        print(\"stop playing\")\n",
    "\n",
    "Music.play()\n",
    "Music.stop()"
   ]
  },
  {
   "cell_type": "code",
   "execution_count": 92,
   "metadata": {},
   "outputs": [
    {
     "name": "stdout",
     "output_type": "stream",
     "text": [
      "*playing music*\n",
      "stop playing\n"
     ]
    }
   ],
   "source": [
    "class Music:\n",
    "    @staticmethod\n",
    "    def play():\n",
    "        print(\"*playing music*\")\n",
    "\n",
    "    def stop(self):\n",
    "        print(\"stop playing\")\n",
    "\n",
    "Music.play()\n",
    "\n",
    "obj = Music()\n",
    "obj.stop()"
   ]
  }
 ],
 "metadata": {
  "kernelspec": {
   "display_name": "Python 3",
   "language": "python",
   "name": "python3"
  },
  "language_info": {
   "codemirror_mode": {
    "name": "ipython",
    "version": 3
   },
   "file_extension": ".py",
   "mimetype": "text/x-python",
   "name": "python",
   "nbconvert_exporter": "python",
   "pygments_lexer": "ipython3",
   "version": "3.7.4"
  }
 },
 "nbformat": 4,
 "nbformat_minor": 2
}
