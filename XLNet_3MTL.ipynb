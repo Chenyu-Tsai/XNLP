{
 "cells": [
  {
   "cell_type": "code",
   "execution_count": 1,
   "metadata": {},
   "outputs": [],
   "source": [
    "import torch\n",
    "from torch import nn\n",
    "from torch.utils.data import DataLoader\n",
    "from torch.utils.data import Dataset\n",
    "from transformers.modeling_utils import (WEIGHTS_NAME, PretrainedConfig, PreTrainedModel,\n",
    "                             SequenceSummary, PoolerAnswerClass, PoolerEndLogits, PoolerStartLogits)\n",
    "from transformers import XLNetTokenizer, XLNetForSequenceClassification, XLNetPreTrainedModel, XLNetModel\n",
    "from torch.nn import CrossEntropyLoss, BCEWithLogitsLoss\n",
    "from transformers import get_linear_schedule_with_warmup\n",
    "from sklearn.metrics import f1_score, precision_score, recall_score, accuracy_score\n",
    "from torch.utils.data.dataset import ConcatDataset\n",
    "from XLNet import Dataset_3Way, Dataset_multi, Dataset_Span_Detection, XLNetForMultiSequenceClassification\n",
    "\n",
    "import pandas as pd\n",
    "import numpy as np\n",
    "import random\n",
    "from IPython.display import clear_output\n",
    "import re\n",
    "from tqdm.notebook import tqdm, trange"
   ]
  },
  {
   "cell_type": "code",
   "execution_count": 2,
   "metadata": {},
   "outputs": [],
   "source": [
    "tokenizer = XLNetTokenizer.from_pretrained('xlnet-base-cased')\n",
    "\n",
    "trainset_3way = Dataset_3Way(\"data/RTE5_train\", tokenizer=tokenizer)\n",
    "trainset_multi = Dataset_multi(\"data/train_multi_label\", tokenizer = tokenizer)\n",
    "trainset_span = Dataset_Span_Detection(\"data/train_span_detection\", tokenizer=tokenizer)\n",
    "trainset = ConcatDataset([trainset_span, trainset_multi, trainset_3way])\n",
    "# trainset = ConcatDataset([trainset_3way, trainset_multi])\n",
    "# trainset = Dataset_3Way(\"data/RTE5_train\", tokenizer=tokenizer)"
   ]
  },
  {
   "cell_type": "code",
   "execution_count": 3,
   "metadata": {},
   "outputs": [],
   "source": [
    "class Dataset_3Way_test(Dataset):\n",
    "    \n",
    "    def __init__(self, mode, tokenizer):\n",
    "        assert mode in [\"data/RTE5_train\", \"data/RTE5_test\"]\n",
    "        self.mode = mode\n",
    "        self.df = pd.read_csv(mode + \".tsv\", sep=\"\\t\").fillna(\"\")\n",
    "        self.len = len(self.df)\n",
    "        self.tokenizer = tokenizer\n",
    "        self.task = 0\n",
    "        \n",
    "    def __getitem__(self, idx):\n",
    "        if self.mode == \"data/RTE5_test\":\n",
    "            text_a, text_b = self.df.iloc[idx, :2].values\n",
    "            label_tensor = None\n",
    "        else:\n",
    "            text_a, text_b, label = self.df.iloc[idx, :].values\n",
    "            label_tensor = torch.tensor(label)\n",
    "            \n",
    "        inputs = tokenizer.encode_plus(text_a, text_b, return_tensors='pt', add_special_tokens=True)\n",
    "        tokens_tensor = inputs['input_ids']\n",
    "        segments_tensor = inputs['token_type_ids']\n",
    "        masks_tensor = inputs['attention_mask']\n",
    "            \n",
    "        return (tokens_tensor, segments_tensor, masks_tensor, label_tensor)\n",
    "    \n",
    "    def __len__(self):\n",
    "        return self.len"
   ]
  },
  {
   "cell_type": "code",
   "execution_count": 4,
   "metadata": {},
   "outputs": [],
   "source": [
    "from torch.utils.data import DataLoader\n",
    "from torch.nn.utils.rnn import pad_sequence\n",
    "\n",
    "def create_mini_batch(samples):\n",
    "    tokens_tensors = [s[0] for s in samples]\n",
    "    segments_tensors = [s[1] for s in samples]\n",
    "    masks_tensors = [s[2] for s in samples]\n",
    "    if samples[0][3] is not None:\n",
    "        label_ids = torch.stack([s[3] for s in samples])\n",
    "    else:\n",
    "        label_ids = None\n",
    "        \n",
    "    # zero pad 到同一序列長度\n",
    "    tokens_tensors = pad_sequence(tokens_tensors, \n",
    "                                  batch_first=True)\n",
    "    segments_tensors = pad_sequence(segments_tensors, \n",
    "                                    batch_first=True)\n",
    "    masks_tensors = pad_sequence(masks_tensors, \n",
    "                                    batch_first=True)\n",
    "\n",
    "    return tokens_tensors.squeeze(1), segments_tensors.squeeze(1), masks_tensors.squeeze(1), label_ids\n",
    "\n",
    "\n",
    "# 初始化回傳訓練樣本的 DataLoader\n",
    "# 利用 `collate_fn` 將 list of samples 合併成一個 mini-batch \n",
    "\n",
    "#trainloader = DataLoader(trainset, batch_size=1,collate_fn=create_mini_batch, shuffle=True)"
   ]
  },
  {
   "cell_type": "code",
   "execution_count": 5,
   "metadata": {},
   "outputs": [
    {
     "name": "stdout",
     "output_type": "stream",
     "text": [
      "device: cuda:0\n"
     ]
    }
   ],
   "source": [
    "device = torch.device(\"cuda:0\" if torch.cuda.is_available() else \"cpu\")\n",
    "print(\"device:\", device)\n",
    "def set_seed(seed):\n",
    "    random.seed(seed)\n",
    "    np.random.seed(seed)\n",
    "    torch.manual_seed(seed)\n",
    "    torch.cuda.manual_seed_all(seed)\n",
    "\n",
    "PRETRAINED_MODEL_NAME = \"xlnet-base-cased\"\n",
    "model = XLNetForMultiSequenceClassification.from_pretrained(PRETRAINED_MODEL_NAME,\n",
    "                                                            output_attentions=True,\n",
    "                                                            dropout=0.1)\n",
    "model = model.to(device)"
   ]
  },
  {
   "cell_type": "code",
   "execution_count": 6,
   "metadata": {},
   "outputs": [],
   "source": [
    "from torch.optim import AdamW\n",
    "\n",
    "param_optimizer = list(model.named_parameters())\n",
    "no_decay = ['bias', 'LayerNorm.weight']\n",
    "optimizer_grouped_parameters = [\n",
    "    {'params': [p for n, p in model.named_parameters() if not any(nd in n for nd in no_decay)], 'weight_decay': 0},\n",
    "    {'params': [p for n, p in model.named_parameters() if any(nd in n for nd in no_decay)], 'weight_decay': 0}\n",
    "]\n",
    "optimizer = AdamW(optimizer_grouped_parameters, lr=2e-5, eps=1e-8)"
   ]
  },
  {
   "cell_type": "code",
   "execution_count": 7,
   "metadata": {},
   "outputs": [],
   "source": [
    "def get_predictions(model, dataloader, compute_acc=False):\n",
    "    predictions = None\n",
    "    correct = 0\n",
    "    total = 0\n",
    "      \n",
    "    with torch.no_grad():\n",
    "        \n",
    "        for data in dataloader:\n",
    "            \n",
    "            if next(model.parameters()).is_cuda:\n",
    "                data = [t.to(\"cuda:0\") for t in data if t is not None]\n",
    "\n",
    "            tokens_tensors, segments_tensors, masks_tensors = data[:3]\n",
    "            outputs = model(input_ids=tokens_tensors, \n",
    "                            token_type_ids=segments_tensors, \n",
    "                            attention_mask=masks_tensors)\n",
    "            logits = outputs[0]\n",
    "            \n",
    "            _, pred = torch.max(logits.data, 1)\n",
    "            \n",
    "            if compute_acc:\n",
    "                labels = data[3]\n",
    "                total += labels.size(0)\n",
    "                correct += (pred == labels).sum().item()\n",
    "                \n",
    "            if predictions is None:\n",
    "                predictions = pred\n",
    "            else:\n",
    "                predictions = torch.cat((predictions, pred))\n",
    "    \n",
    "    if compute_acc:\n",
    "        acc = correct / total\n",
    "        return predictions, acc\n",
    "    return predictions"
   ]
  },
  {
   "cell_type": "code",
   "execution_count": 8,
   "metadata": {
    "scrolled": true
   },
   "outputs": [
    {
     "data": {
      "application/vnd.jupyter.widget-view+json": {
       "model_id": "7f024132a206410982580ec9cb7851a2",
       "version_major": 2,
       "version_minor": 0
      },
      "text/plain": [
       "HBox(children=(IntProgress(value=0, description='Epoch', max=20, style=ProgressStyle(description_width='initia…"
      ]
     },
     "metadata": {},
     "output_type": "display_data"
    },
    {
     "data": {
      "application/vnd.jupyter.widget-view+json": {
       "model_id": "c3e4b767a1dd48849989a5025bc33efa",
       "version_major": 2,
       "version_minor": 0
      },
      "text/plain": [
       "HBox(children=(IntProgress(value=0, description='Iteration', max=1318, style=ProgressStyle(description_width='…"
      ]
     },
     "metadata": {},
     "output_type": "display_data"
    },
    {
     "name": "stderr",
     "output_type": "stream",
     "text": [
      "C:\\Users\\cheny\\Anaconda3\\lib\\site-packages\\torch\\nn\\functional.py:1340: UserWarning: nn.functional.tanh is deprecated. Use torch.tanh instead.\n",
      "  warnings.warn(\"nn.functional.tanh is deprecated. Use torch.tanh instead.\")\n"
     ]
    },
    {
     "name": "stdout",
     "output_type": "stream",
     "text": [
      "\n"
     ]
    },
    {
     "name": "stderr",
     "output_type": "stream",
     "text": [
      "C:\\Users\\cheny\\Anaconda3\\lib\\site-packages\\sklearn\\metrics\\classification.py:1437: UndefinedMetricWarning: Precision is ill-defined and being set to 0.0 in labels with no predicted samples.\n",
      "  'precision', 'predicted', average, warn_for)\n",
      "C:\\Users\\cheny\\Anaconda3\\lib\\site-packages\\sklearn\\metrics\\classification.py:1437: UndefinedMetricWarning: F-score is ill-defined and being set to 0.0 in labels with no predicted samples.\n",
      "  'precision', 'predicted', average, warn_for)\n"
     ]
    },
    {
     "name": "stdout",
     "output_type": "stream",
     "text": [
      "Accuracy: 0.5\tPrecision: 0.166667\tRecall: 0.333333\tF-score: 0.222222 Loss: 198.679\n",
      "0.0\n",
      "------------------------------------------\n"
     ]
    },
    {
     "data": {
      "application/vnd.jupyter.widget-view+json": {
       "model_id": "beb506cd85384d12a38789c889a0e338",
       "version_major": 2,
       "version_minor": 0
      },
      "text/plain": [
       "HBox(children=(IntProgress(value=0, description='Iteration', max=1318, style=ProgressStyle(description_width='…"
      ]
     },
     "metadata": {},
     "output_type": "display_data"
    },
    {
     "name": "stdout",
     "output_type": "stream",
     "text": [
      "\n",
      "Accuracy: 0.5\tPrecision: 0.333333\tRecall: 0.33381\tF-score: 0.225119 Loss: 145.438\n",
      "0.0\n",
      "------------------------------------------\n"
     ]
    },
    {
     "data": {
      "application/vnd.jupyter.widget-view+json": {
       "model_id": "7779d2f1537e47fa96d5021f3e31a5be",
       "version_major": 2,
       "version_minor": 0
      },
      "text/plain": [
       "HBox(children=(IntProgress(value=0, description='Iteration', max=1318, style=ProgressStyle(description_width='…"
      ]
     },
     "metadata": {},
     "output_type": "display_data"
    },
    {
     "name": "stdout",
     "output_type": "stream",
     "text": [
      "\n",
      "Accuracy: 0.5\tPrecision: 0.166667\tRecall: 0.333333\tF-score: 0.222222 Loss: 118.995\n",
      "0.0\n",
      "------------------------------------------\n"
     ]
    },
    {
     "data": {
      "application/vnd.jupyter.widget-view+json": {
       "model_id": "4f5f931ea33c487f908a1ff562b4ae89",
       "version_major": 2,
       "version_minor": 0
      },
      "text/plain": [
       "HBox(children=(IntProgress(value=0, description='Iteration', max=1318, style=ProgressStyle(description_width='…"
      ]
     },
     "metadata": {},
     "output_type": "display_data"
    },
    {
     "name": "stdout",
     "output_type": "stream",
     "text": [
      "\n",
      "Accuracy: 0.511667\tPrecision: 0.378436\tRecall: 0.345873\tF-score: 0.253988 Loss: 99.3797\n",
      "0.0\n",
      "------------------------------------------\n"
     ]
    },
    {
     "data": {
      "application/vnd.jupyter.widget-view+json": {
       "model_id": "e7757cf760cc4109808c3c776055eb8e",
       "version_major": 2,
       "version_minor": 0
      },
      "text/plain": [
       "HBox(children=(IntProgress(value=0, description='Iteration', max=1318, style=ProgressStyle(description_width='…"
      ]
     },
     "metadata": {},
     "output_type": "display_data"
    },
    {
     "name": "stdout",
     "output_type": "stream",
     "text": [
      "\n",
      "Accuracy: 0.498333\tPrecision: 0.166388\tRecall: 0.332222\tF-score: 0.221728 Loss: 83.1581\n",
      "0.0\n",
      "------------------------------------------\n"
     ]
    },
    {
     "data": {
      "application/vnd.jupyter.widget-view+json": {
       "model_id": "1b01de9f3b764ddebca2afe264b8683a",
       "version_major": 2,
       "version_minor": 0
      },
      "text/plain": [
       "HBox(children=(IntProgress(value=0, description='Iteration', max=1318, style=ProgressStyle(description_width='…"
      ]
     },
     "metadata": {},
     "output_type": "display_data"
    },
    {
     "name": "stdout",
     "output_type": "stream",
     "text": [
      "\n",
      "Accuracy: 0.508333\tPrecision: 0.401695\tRecall: 0.342222\tF-score: 0.244433 Loss: 72.5086\n",
      "0.0\n",
      "------------------------------------------\n"
     ]
    },
    {
     "data": {
      "application/vnd.jupyter.widget-view+json": {
       "model_id": "992dac196753478b8a99e3d9f4414921",
       "version_major": 2,
       "version_minor": 0
      },
      "text/plain": [
       "HBox(children=(IntProgress(value=0, description='Iteration', max=1318, style=ProgressStyle(description_width='…"
      ]
     },
     "metadata": {},
     "output_type": "display_data"
    },
    {
     "name": "stdout",
     "output_type": "stream",
     "text": [
      "\n",
      "Accuracy: 0.561667\tPrecision: 0.42869\tRecall: 0.396825\tF-score: 0.345758 Loss: 58.5844\n",
      "0.0\n",
      "------------------------------------------\n"
     ]
    },
    {
     "data": {
      "application/vnd.jupyter.widget-view+json": {
       "model_id": "59ee030a60a24a5c800151bfdd7fd142",
       "version_major": 2,
       "version_minor": 0
      },
      "text/plain": [
       "HBox(children=(IntProgress(value=0, description='Iteration', max=1318, style=ProgressStyle(description_width='…"
      ]
     },
     "metadata": {},
     "output_type": "display_data"
    },
    {
     "name": "stdout",
     "output_type": "stream",
     "text": [
      "\n",
      "Accuracy: 0.58\tPrecision: 0.546894\tRecall: 0.418307\tF-score: 0.380577 Loss: 52.0531\n",
      "1.1\n",
      "------------------------------------------\n"
     ]
    },
    {
     "data": {
      "application/vnd.jupyter.widget-view+json": {
       "model_id": "9a598eaf255a4f54b50f2388f6465e53",
       "version_major": 2,
       "version_minor": 0
      },
      "text/plain": [
       "HBox(children=(IntProgress(value=0, description='Iteration', max=1318, style=ProgressStyle(description_width='…"
      ]
     },
     "metadata": {},
     "output_type": "display_data"
    },
    {
     "name": "stdout",
     "output_type": "stream",
     "text": [
      "\n",
      "Accuracy: 0.613333\tPrecision: 0.54977\tRecall: 0.459788\tF-score: 0.437483 Loss: 43.6172\n",
      "2.2\n",
      "------------------------------------------\n"
     ]
    },
    {
     "data": {
      "application/vnd.jupyter.widget-view+json": {
       "model_id": "71fc47488e9548b38e8f3c2ce1a33489",
       "version_major": 2,
       "version_minor": 0
      },
      "text/plain": [
       "HBox(children=(IntProgress(value=0, description='Iteration', max=1318, style=ProgressStyle(description_width='…"
      ]
     },
     "metadata": {},
     "output_type": "display_data"
    },
    {
     "name": "stdout",
     "output_type": "stream",
     "text": [
      "\n",
      "Accuracy: 0.615\tPrecision: 0.581625\tRecall: 0.464921\tF-score: 0.446751 Loss: 36.3989\n",
      "3.3\n",
      "------------------------------------------\n"
     ]
    },
    {
     "data": {
      "application/vnd.jupyter.widget-view+json": {
       "model_id": "037f7fbfafe043ab84b9538a8da0e815",
       "version_major": 2,
       "version_minor": 0
      },
      "text/plain": [
       "HBox(children=(IntProgress(value=0, description='Iteration', max=1318, style=ProgressStyle(description_width='…"
      ]
     },
     "metadata": {},
     "output_type": "display_data"
    },
    {
     "name": "stdout",
     "output_type": "stream",
     "text": [
      "\n",
      "Accuracy: 0.615\tPrecision: 0.475201\tRecall: 0.460212\tF-score: 0.436303 Loss: 31.4819\n",
      "1.1\n",
      "------------------------------------------\n"
     ]
    },
    {
     "data": {
      "application/vnd.jupyter.widget-view+json": {
       "model_id": "e9c9cb9bbd87462393a080c0a9ef78ab",
       "version_major": 2,
       "version_minor": 0
      },
      "text/plain": [
       "HBox(children=(IntProgress(value=0, description='Iteration', max=1318, style=ProgressStyle(description_width='…"
      ]
     },
     "metadata": {},
     "output_type": "display_data"
    },
    {
     "name": "stdout",
     "output_type": "stream",
     "text": [
      "\n",
      "Accuracy: 0.59\tPrecision: 0.552334\tRecall: 0.443651\tF-score: 0.430168 Loss: 27.2588\n",
      "6.7\n",
      "------------------------------------------\n"
     ]
    },
    {
     "data": {
      "application/vnd.jupyter.widget-view+json": {
       "model_id": "5eb5b89bb34a4031b7b0625d6fcaef4a",
       "version_major": 2,
       "version_minor": 0
      },
      "text/plain": [
       "HBox(children=(IntProgress(value=0, description='Iteration', max=1318, style=ProgressStyle(description_width='…"
      ]
     },
     "metadata": {},
     "output_type": "display_data"
    },
    {
     "name": "stdout",
     "output_type": "stream",
     "text": [
      "\n",
      "Accuracy: 0.588333\tPrecision: 0.574182\tRecall: 0.449577\tF-score: 0.440691 Loss: 24.6115\n",
      "11.1\n",
      "------------------------------------------\n"
     ]
    },
    {
     "data": {
      "application/vnd.jupyter.widget-view+json": {
       "model_id": "3c2392255280402ea22aa14e46e57e13",
       "version_major": 2,
       "version_minor": 0
      },
      "text/plain": [
       "HBox(children=(IntProgress(value=0, description='Iteration', max=1318, style=ProgressStyle(description_width='…"
      ]
     },
     "metadata": {},
     "output_type": "display_data"
    },
    {
     "name": "stdout",
     "output_type": "stream",
     "text": [
      "\n",
      "Accuracy: 0.605\tPrecision: 0.558974\tRecall: 0.469259\tF-score: 0.467332 Loss: 21.9055\n",
      "11.1\n",
      "------------------------------------------\n"
     ]
    },
    {
     "data": {
      "application/vnd.jupyter.widget-view+json": {
       "model_id": "7d67c574c49d4a4bbda88a435ec2b57a",
       "version_major": 2,
       "version_minor": 0
      },
      "text/plain": [
       "HBox(children=(IntProgress(value=0, description='Iteration', max=1318, style=ProgressStyle(description_width='…"
      ]
     },
     "metadata": {},
     "output_type": "display_data"
    },
    {
     "name": "stdout",
     "output_type": "stream",
     "text": [
      "\n"
     ]
    },
    {
     "name": "stderr",
     "output_type": "stream",
     "text": [
      "C:\\Users\\cheny\\Anaconda3\\lib\\site-packages\\torch\\serialization.py:292: UserWarning: Couldn't retrieve source code for container of type XLNetForMultiSequenceClassification. It won't be checked for correctness upon loading.\n",
      "  \"type \" + obj.__name__ + \". It won't be checked \"\n",
      "C:\\Users\\cheny\\Anaconda3\\lib\\site-packages\\torch\\serialization.py:292: UserWarning: Couldn't retrieve source code for container of type XLNetModel. It won't be checked for correctness upon loading.\n",
      "  \"type \" + obj.__name__ + \". It won't be checked \"\n",
      "C:\\Users\\cheny\\Anaconda3\\lib\\site-packages\\torch\\serialization.py:292: UserWarning: Couldn't retrieve source code for container of type Embedding. It won't be checked for correctness upon loading.\n",
      "  \"type \" + obj.__name__ + \". It won't be checked \"\n",
      "C:\\Users\\cheny\\Anaconda3\\lib\\site-packages\\torch\\serialization.py:292: UserWarning: Couldn't retrieve source code for container of type ModuleList. It won't be checked for correctness upon loading.\n",
      "  \"type \" + obj.__name__ + \". It won't be checked \"\n",
      "C:\\Users\\cheny\\Anaconda3\\lib\\site-packages\\torch\\serialization.py:292: UserWarning: Couldn't retrieve source code for container of type XLNetLayer. It won't be checked for correctness upon loading.\n",
      "  \"type \" + obj.__name__ + \". It won't be checked \"\n",
      "C:\\Users\\cheny\\Anaconda3\\lib\\site-packages\\torch\\serialization.py:292: UserWarning: Couldn't retrieve source code for container of type XLNetRelativeAttention. It won't be checked for correctness upon loading.\n",
      "  \"type \" + obj.__name__ + \". It won't be checked \"\n",
      "C:\\Users\\cheny\\Anaconda3\\lib\\site-packages\\torch\\serialization.py:292: UserWarning: Couldn't retrieve source code for container of type LayerNorm. It won't be checked for correctness upon loading.\n",
      "  \"type \" + obj.__name__ + \". It won't be checked \"\n",
      "C:\\Users\\cheny\\Anaconda3\\lib\\site-packages\\torch\\serialization.py:292: UserWarning: Couldn't retrieve source code for container of type Dropout. It won't be checked for correctness upon loading.\n",
      "  \"type \" + obj.__name__ + \". It won't be checked \"\n",
      "C:\\Users\\cheny\\Anaconda3\\lib\\site-packages\\torch\\serialization.py:292: UserWarning: Couldn't retrieve source code for container of type XLNetFeedForward. It won't be checked for correctness upon loading.\n",
      "  \"type \" + obj.__name__ + \". It won't be checked \"\n",
      "C:\\Users\\cheny\\Anaconda3\\lib\\site-packages\\torch\\serialization.py:292: UserWarning: Couldn't retrieve source code for container of type Linear. It won't be checked for correctness upon loading.\n",
      "  \"type \" + obj.__name__ + \". It won't be checked \"\n",
      "C:\\Users\\cheny\\Anaconda3\\lib\\site-packages\\torch\\serialization.py:292: UserWarning: Couldn't retrieve source code for container of type SequenceSummary. It won't be checked for correctness upon loading.\n",
      "  \"type \" + obj.__name__ + \". It won't be checked \"\n",
      "C:\\Users\\cheny\\Anaconda3\\lib\\site-packages\\torch\\serialization.py:292: UserWarning: Couldn't retrieve source code for container of type Identity. It won't be checked for correctness upon loading.\n",
      "  \"type \" + obj.__name__ + \". It won't be checked \"\n",
      "C:\\Users\\cheny\\Anaconda3\\lib\\site-packages\\torch\\serialization.py:292: UserWarning: Couldn't retrieve source code for container of type PoolerStartLogits. It won't be checked for correctness upon loading.\n",
      "  \"type \" + obj.__name__ + \". It won't be checked \"\n",
      "C:\\Users\\cheny\\Anaconda3\\lib\\site-packages\\torch\\serialization.py:292: UserWarning: Couldn't retrieve source code for container of type PoolerEndLogits. It won't be checked for correctness upon loading.\n",
      "  \"type \" + obj.__name__ + \". It won't be checked \"\n",
      "C:\\Users\\cheny\\Anaconda3\\lib\\site-packages\\torch\\serialization.py:292: UserWarning: Couldn't retrieve source code for container of type Tanh. It won't be checked for correctness upon loading.\n",
      "  \"type \" + obj.__name__ + \". It won't be checked \"\n",
      "C:\\Users\\cheny\\Anaconda3\\lib\\site-packages\\torch\\serialization.py:292: UserWarning: Couldn't retrieve source code for container of type PoolerAnswerClass. It won't be checked for correctness upon loading.\n",
      "  \"type \" + obj.__name__ + \". It won't be checked \"\n"
     ]
    },
    {
     "name": "stdout",
     "output_type": "stream",
     "text": [
      "Accuracy: 0.596667\tPrecision: 0.565953\tRecall: 0.491958\tF-score: 0.495594 Loss: 19.332\n",
      "24.4\n",
      "------------------------------------------\n"
     ]
    },
    {
     "data": {
      "application/vnd.jupyter.widget-view+json": {
       "model_id": "e4a915c63ac848ad8c187e7f4c493460",
       "version_major": 2,
       "version_minor": 0
      },
      "text/plain": [
       "HBox(children=(IntProgress(value=0, description='Iteration', max=1318, style=ProgressStyle(description_width='…"
      ]
     },
     "metadata": {},
     "output_type": "display_data"
    },
    {
     "name": "stdout",
     "output_type": "stream",
     "text": [
      "\n",
      "Accuracy: 0.583333\tPrecision: 0.549747\tRecall: 0.503386\tF-score: 0.506462 Loss: 17.4443\n",
      "31.1\n",
      "------------------------------------------\n"
     ]
    },
    {
     "data": {
      "application/vnd.jupyter.widget-view+json": {
       "model_id": "cf98a912ca6b47a6bbdbd8ea5ba83aa0",
       "version_major": 2,
       "version_minor": 0
      },
      "text/plain": [
       "HBox(children=(IntProgress(value=0, description='Iteration', max=1318, style=ProgressStyle(description_width='…"
      ]
     },
     "metadata": {},
     "output_type": "display_data"
    },
    {
     "name": "stdout",
     "output_type": "stream",
     "text": [
      "\n",
      "Accuracy: 0.593333\tPrecision: 0.56079\tRecall: 0.54381\tF-score: 0.5398 Loss: 16.4359\n",
      "43.3\n",
      "------------------------------------------\n"
     ]
    },
    {
     "data": {
      "application/vnd.jupyter.widget-view+json": {
       "model_id": "62cc35fd9ec94ace83a36635cecea052",
       "version_major": 2,
       "version_minor": 0
      },
      "text/plain": [
       "HBox(children=(IntProgress(value=0, description='Iteration', max=1318, style=ProgressStyle(description_width='…"
      ]
     },
     "metadata": {},
     "output_type": "display_data"
    },
    {
     "name": "stdout",
     "output_type": "stream",
     "text": [
      "\n",
      "Accuracy: 0.588333\tPrecision: 0.567723\tRecall: 0.554656\tF-score: 0.547091 Loss: 15.6487\n",
      "47.8\n",
      "------------------------------------------\n"
     ]
    },
    {
     "data": {
      "application/vnd.jupyter.widget-view+json": {
       "model_id": "a2981b66e80644348878dbb3a4a50969",
       "version_major": 2,
       "version_minor": 0
      },
      "text/plain": [
       "HBox(children=(IntProgress(value=0, description='Iteration', max=1318, style=ProgressStyle(description_width='…"
      ]
     },
     "metadata": {},
     "output_type": "display_data"
    },
    {
     "name": "stdout",
     "output_type": "stream",
     "text": [
      "\n",
      "Accuracy: 0.586667\tPrecision: 0.559403\tRecall: 0.545767\tF-score: 0.540276 Loss: 14.8807\n",
      "44.4\n",
      "------------------------------------------\n"
     ]
    },
    {
     "data": {
      "application/vnd.jupyter.widget-view+json": {
       "model_id": "53476c3b966b41f0846b588049cd5c33",
       "version_major": 2,
       "version_minor": 0
      },
      "text/plain": [
       "HBox(children=(IntProgress(value=0, description='Iteration', max=1318, style=ProgressStyle(description_width='…"
      ]
     },
     "metadata": {},
     "output_type": "display_data"
    },
    {
     "name": "stdout",
     "output_type": "stream",
     "text": [
      "\n",
      "Accuracy: 0.611667\tPrecision: 0.561779\tRecall: 0.541746\tF-score: 0.546856 Loss: 14.9197\n",
      "33.3\n",
      "------------------------------------------\n",
      "\n",
      "Wall time: 1h 37min 55s\n"
     ]
    }
   ],
   "source": [
    "%%time\n",
    "EPOCHS = 20\n",
    "batch_size = 16\n",
    "scheduler = get_linear_schedule_with_warmup(optimizer, num_warmup_steps=0, num_training_steps=EPOCHS * ((len(trainset)//batch_size)))\n",
    "epochs_trained = 0\n",
    "\n",
    "model.zero_grad()\n",
    "train_iterator = trange(epochs_trained, EPOCHS, desc=\"Epoch\")\n",
    "set_seed(42)\n",
    "idx = np.arange(len(trainset))\n",
    "np.random.shuffle(idx)\n",
    "\n",
    "for _ in train_iterator:\n",
    "    epoch_iterator = tqdm(idx, desc=\"Iteration\")\n",
    "    \n",
    "    model.train()\n",
    "    running_loss = 0.0\n",
    "    batch_cnt = 1\n",
    "    loss = torch.zeros(1).to(device)\n",
    "    \n",
    "    for index in epoch_iterator:\n",
    "        data = trainset[index]\n",
    "        if data[0] == 0 or data[0] ==1:\n",
    "            task = data[0]\n",
    "            input_ids, token_type_ids, attention_mask, labels = [t.to(device) for t in data[1:]]\n",
    "            outputs = model(input_ids=input_ids, \n",
    "                            token_type_ids=token_type_ids, \n",
    "                            attention_mask=attention_mask, \n",
    "                            labels=labels,\n",
    "                            task=task\n",
    "                           )\n",
    "        else:\n",
    "            task = data[0]\n",
    "            input_ids, attention_mask, token_type_ids, start_positions, end_positions, cls_index, p_mask = [t.to(device) for t in data[1:]]\n",
    "            outputs = model(input_ids=input_ids, \n",
    "                            token_type_ids=token_type_ids, \n",
    "                            attention_mask=attention_mask, \n",
    "                            start_positions=start_positions,\n",
    "                            end_positions=end_positions,\n",
    "                            cls_index=cls_index,\n",
    "                            p_mask=p_mask,\n",
    "                            task=task)\n",
    "        batch_cnt += 1\n",
    "        loss = outputs[0]/batch_size\n",
    "        loss.backward()\n",
    "        \n",
    "        if batch_cnt >= batch_size:\n",
    "            optimizer.step()\n",
    "            scheduler.step()\n",
    "            model.zero_grad()\n",
    "            batch_cnt = 0\n",
    "\n",
    "        # 紀錄當前 batch loss\n",
    "        running_loss += loss.item()\n",
    "    epochs_trained += 1\n",
    "        \n",
    "    testset = Dataset_3Way_test(\"data/RTE5_test\", tokenizer=tokenizer)\n",
    "    testloader = DataLoader(testset, batch_size=1, \n",
    "                     collate_fn=create_mini_batch)\n",
    "    predictions = get_predictions(model, testloader)\n",
    "\n",
    "    df_pred = pd.DataFrame({\"label\": predictions.tolist()})\n",
    "        \n",
    "    pred_Y = df_pred['label'].values\n",
    "    test_Y = pd.read_csv(\"data/RTE5_test.tsv\", sep='\\t').fillna(\"\")['label'].values\n",
    "\n",
    "    accuracy = accuracy_score(test_Y, np.array(pred_Y))\n",
    "    precision = precision_score(test_Y, pred_Y, average='macro')\n",
    "    recall = recall_score(test_Y, pred_Y, average='macro')\n",
    "    fscore = f1_score(test_Y, pred_Y, average='macro')\n",
    "    \n",
    "    CNT = 0\n",
    "    TOTAL = 0\n",
    "    for i in range(len(test_Y)):\n",
    "        if test_Y[i] == 2:\n",
    "            TOTAL += 1\n",
    "        else:\n",
    "            pass\n",
    "        if test_Y[i] == 2 and predictions[i] == 2:\n",
    "            CNT += 1\n",
    "    contra = round((CNT/TOTAL)*100,1)\n",
    "    if contra > 20 and accuracy > 0.58:\n",
    "        torch.save(model, \"multi_%g, %g, %g.pkl\" % (round(accuracy, 2), CNT, epochs_trained))\n",
    "    print(\"Accuracy: %g\\tPrecision: %g\\tRecall: %g\\tF-score: %g Loss: %g\" % (accuracy, precision, recall, fscore, running_loss))\n",
    "    print(contra)\n",
    "    print(\"------------------------------------------\")"
   ]
  },
  {
   "cell_type": "code",
   "execution_count": 10,
   "metadata": {},
   "outputs": [
    {
     "name": "stderr",
     "output_type": "stream",
     "text": [
      "C:\\Users\\cheny\\Anaconda3\\lib\\site-packages\\torch\\serialization.py:292: UserWarning: Couldn't retrieve source code for container of type XLNetForMultiSequenceClassification. It won't be checked for correctness upon loading.\n",
      "  \"type \" + obj.__name__ + \". It won't be checked \"\n",
      "C:\\Users\\cheny\\Anaconda3\\lib\\site-packages\\torch\\serialization.py:292: UserWarning: Couldn't retrieve source code for container of type XLNetModel. It won't be checked for correctness upon loading.\n",
      "  \"type \" + obj.__name__ + \". It won't be checked \"\n",
      "C:\\Users\\cheny\\Anaconda3\\lib\\site-packages\\torch\\serialization.py:292: UserWarning: Couldn't retrieve source code for container of type Embedding. It won't be checked for correctness upon loading.\n",
      "  \"type \" + obj.__name__ + \". It won't be checked \"\n",
      "C:\\Users\\cheny\\Anaconda3\\lib\\site-packages\\torch\\serialization.py:292: UserWarning: Couldn't retrieve source code for container of type ModuleList. It won't be checked for correctness upon loading.\n",
      "  \"type \" + obj.__name__ + \". It won't be checked \"\n",
      "C:\\Users\\cheny\\Anaconda3\\lib\\site-packages\\torch\\serialization.py:292: UserWarning: Couldn't retrieve source code for container of type XLNetLayer. It won't be checked for correctness upon loading.\n",
      "  \"type \" + obj.__name__ + \". It won't be checked \"\n",
      "C:\\Users\\cheny\\Anaconda3\\lib\\site-packages\\torch\\serialization.py:292: UserWarning: Couldn't retrieve source code for container of type XLNetRelativeAttention. It won't be checked for correctness upon loading.\n",
      "  \"type \" + obj.__name__ + \". It won't be checked \"\n",
      "C:\\Users\\cheny\\Anaconda3\\lib\\site-packages\\torch\\serialization.py:292: UserWarning: Couldn't retrieve source code for container of type LayerNorm. It won't be checked for correctness upon loading.\n",
      "  \"type \" + obj.__name__ + \". It won't be checked \"\n",
      "C:\\Users\\cheny\\Anaconda3\\lib\\site-packages\\torch\\serialization.py:292: UserWarning: Couldn't retrieve source code for container of type Dropout. It won't be checked for correctness upon loading.\n",
      "  \"type \" + obj.__name__ + \". It won't be checked \"\n",
      "C:\\Users\\cheny\\Anaconda3\\lib\\site-packages\\torch\\serialization.py:292: UserWarning: Couldn't retrieve source code for container of type XLNetFeedForward. It won't be checked for correctness upon loading.\n",
      "  \"type \" + obj.__name__ + \". It won't be checked \"\n",
      "C:\\Users\\cheny\\Anaconda3\\lib\\site-packages\\torch\\serialization.py:292: UserWarning: Couldn't retrieve source code for container of type Linear. It won't be checked for correctness upon loading.\n",
      "  \"type \" + obj.__name__ + \". It won't be checked \"\n",
      "C:\\Users\\cheny\\Anaconda3\\lib\\site-packages\\torch\\serialization.py:292: UserWarning: Couldn't retrieve source code for container of type SequenceSummary. It won't be checked for correctness upon loading.\n",
      "  \"type \" + obj.__name__ + \". It won't be checked \"\n",
      "C:\\Users\\cheny\\Anaconda3\\lib\\site-packages\\torch\\serialization.py:292: UserWarning: Couldn't retrieve source code for container of type Identity. It won't be checked for correctness upon loading.\n",
      "  \"type \" + obj.__name__ + \". It won't be checked \"\n",
      "C:\\Users\\cheny\\Anaconda3\\lib\\site-packages\\torch\\serialization.py:292: UserWarning: Couldn't retrieve source code for container of type PoolerStartLogits. It won't be checked for correctness upon loading.\n",
      "  \"type \" + obj.__name__ + \". It won't be checked \"\n",
      "C:\\Users\\cheny\\Anaconda3\\lib\\site-packages\\torch\\serialization.py:292: UserWarning: Couldn't retrieve source code for container of type PoolerEndLogits. It won't be checked for correctness upon loading.\n",
      "  \"type \" + obj.__name__ + \". It won't be checked \"\n",
      "C:\\Users\\cheny\\Anaconda3\\lib\\site-packages\\torch\\serialization.py:292: UserWarning: Couldn't retrieve source code for container of type Tanh. It won't be checked for correctness upon loading.\n",
      "  \"type \" + obj.__name__ + \". It won't be checked \"\n",
      "C:\\Users\\cheny\\Anaconda3\\lib\\site-packages\\torch\\serialization.py:292: UserWarning: Couldn't retrieve source code for container of type PoolerAnswerClass. It won't be checked for correctness upon loading.\n",
      "  \"type \" + obj.__name__ + \". It won't be checked \"\n"
     ]
    }
   ],
   "source": [
    "torch.save(model, \"multi_%g, %g.pkl\" % (round(accuracy, 2), CNT))"
   ]
  },
  {
   "cell_type": "code",
   "execution_count": 14,
   "metadata": {},
   "outputs": [],
   "source": [
    "predictions = get_predictions(model, dataloader_3way)"
   ]
  },
  {
   "cell_type": "code",
   "execution_count": 10,
   "metadata": {},
   "outputs": [
    {
     "name": "stdout",
     "output_type": "stream",
     "text": [
      "Wall time: 42.3 s\n"
     ]
    }
   ],
   "source": [
    "%%time\n",
    "# 測試集\n",
    "testset = Dataset_3Way(\"test\", tokenizer=tokenizer)\n",
    "testloader = DataLoader(testset, batch_size=1, \n",
    "                        collate_fn=create_mini_batch)\n",
    "\n",
    "predictions = get_predictions(model, testloader)\n",
    "\n",
    "# 將預測的 label id 轉回文字\n",
    "index_map = {v: k for k, v in testset.label_map.items()}\n",
    "\n",
    "df_pred = pd.DataFrame({\"label\": predictions.tolist()})"
   ]
  },
  {
   "cell_type": "code",
   "execution_count": 11,
   "metadata": {},
   "outputs": [
    {
     "name": "stdout",
     "output_type": "stream",
     "text": [
      "Accuracy: 0.575\tPrecision: 0.492086\tRecall: 0.489153\tF-score: 0.482597\n"
     ]
    }
   ],
   "source": [
    "from sklearn.metrics import f1_score, precision_score, recall_score, accuracy_score\n",
    "\n",
    "pred_Y = df_pred['label'].values\n",
    "test_Y = pd.read_csv('test.tsv', sep='\\t').fillna(\"\")['label'].values\n",
    "\n",
    "accuracy = accuracy_score(test_Y, np.array(pred_Y))\n",
    "precision = precision_score(test_Y, pred_Y, average='macro')\n",
    "recall = recall_score(test_Y, pred_Y, average='macro')\n",
    "fscore = f1_score(test_Y, pred_Y, average='macro')\n",
    "\n",
    "print(\"Accuracy: %g\\tPrecision: %g\\tRecall: %g\\tF-score: %g\" % (\n",
    "    accuracy, precision, recall, fscore))"
   ]
  },
  {
   "cell_type": "code",
   "execution_count": 1,
   "metadata": {},
   "outputs": [
    {
     "ename": "NameError",
     "evalue": "name 'torch' is not defined",
     "output_type": "error",
     "traceback": [
      "\u001b[1;31m---------------------------------------------------------------------------\u001b[0m",
      "\u001b[1;31mNameError\u001b[0m                                 Traceback (most recent call last)",
      "\u001b[1;32m<ipython-input-1-18c85840c052>\u001b[0m in \u001b[0;36m<module>\u001b[1;34m()\u001b[0m\n\u001b[1;32m----> 1\u001b[1;33m \u001b[0mtorch\u001b[0m\u001b[1;33m.\u001b[0m\u001b[0msave\u001b[0m\u001b[1;33m(\u001b[0m\u001b[0mmodel\u001b[0m\u001b[1;33m,\u001b[0m \u001b[1;34m'contra_61_28.pkl'\u001b[0m\u001b[1;33m)\u001b[0m\u001b[1;33m\u001b[0m\u001b[1;33m\u001b[0m\u001b[0m\n\u001b[0m",
      "\u001b[1;31mNameError\u001b[0m: name 'torch' is not defined"
     ]
    }
   ],
   "source": [
    "torch.save(model, 'contra_61_28.pkl')"
   ]
  },
  {
   "cell_type": "code",
   "execution_count": 5,
   "metadata": {},
   "outputs": [],
   "source": [
    "model2 = torch.load('test.pkl',map_location=torch.device('cpu'))"
   ]
  },
  {
   "cell_type": "code",
   "execution_count": 75,
   "metadata": {},
   "outputs": [
    {
     "ename": "AttributeError",
     "evalue": "Can't get attribute 'gelu' on <module 'transformers.modeling_xlnet' from '/Users/chenyutsai/opt/anaconda3/lib/python3.7/site-packages/transformers/modeling_xlnet.py'>",
     "output_type": "error",
     "traceback": [
      "\u001b[0;31m---------------------------------------------------------------------------\u001b[0m",
      "\u001b[0;31mAttributeError\u001b[0m                            Traceback (most recent call last)",
      "\u001b[0;32m<ipython-input-75-e2ee2fec08c6>\u001b[0m in \u001b[0;36m<module>\u001b[0;34m\u001b[0m\n\u001b[1;32m      4\u001b[0m \u001b[0;31m#model_multi = model\u001b[0m\u001b[0;34m\u001b[0m\u001b[0;34m\u001b[0m\u001b[0;34m\u001b[0m\u001b[0m\n\u001b[1;32m      5\u001b[0m \u001b[0mmodel_pretrained\u001b[0m \u001b[0;34m=\u001b[0m \u001b[0mXLNetModel\u001b[0m\u001b[0;34m.\u001b[0m\u001b[0mfrom_pretrained\u001b[0m\u001b[0;34m(\u001b[0m\u001b[0mmodel_version\u001b[0m\u001b[0;34m,\u001b[0m \u001b[0moutput_attentions\u001b[0m\u001b[0;34m=\u001b[0m\u001b[0;32mTrue\u001b[0m\u001b[0;34m)\u001b[0m\u001b[0;34m\u001b[0m\u001b[0;34m\u001b[0m\u001b[0m\n\u001b[0;32m----> 6\u001b[0;31m \u001b[0mmodel_single\u001b[0m \u001b[0;34m=\u001b[0m \u001b[0mtorch\u001b[0m\u001b[0;34m.\u001b[0m\u001b[0mload\u001b[0m\u001b[0;34m(\u001b[0m\u001b[0;34m'acc_0.52_complete.pkl'\u001b[0m\u001b[0;34m,\u001b[0m\u001b[0mmap_location\u001b[0m\u001b[0;34m=\u001b[0m\u001b[0mtorch\u001b[0m\u001b[0;34m.\u001b[0m\u001b[0mdevice\u001b[0m\u001b[0;34m(\u001b[0m\u001b[0;34m'cpu'\u001b[0m\u001b[0;34m)\u001b[0m\u001b[0;34m)\u001b[0m\u001b[0;34m\u001b[0m\u001b[0;34m\u001b[0m\u001b[0m\n\u001b[0m\u001b[1;32m      7\u001b[0m \u001b[0mtokenizer\u001b[0m \u001b[0;34m=\u001b[0m \u001b[0mXLNetTokenizer\u001b[0m\u001b[0;34m.\u001b[0m\u001b[0mfrom_pretrained\u001b[0m\u001b[0;34m(\u001b[0m\u001b[0;34m'xlnet-base-cased'\u001b[0m\u001b[0;34m)\u001b[0m\u001b[0;34m\u001b[0m\u001b[0;34m\u001b[0m\u001b[0m\n",
      "\u001b[0;32m~/opt/anaconda3/lib/python3.7/site-packages/torch/serialization.py\u001b[0m in \u001b[0;36mload\u001b[0;34m(f, map_location, pickle_module, **pickle_load_args)\u001b[0m\n\u001b[1;32m    424\u001b[0m         \u001b[0;32mif\u001b[0m \u001b[0msys\u001b[0m\u001b[0;34m.\u001b[0m\u001b[0mversion_info\u001b[0m \u001b[0;34m>=\u001b[0m \u001b[0;34m(\u001b[0m\u001b[0;36m3\u001b[0m\u001b[0;34m,\u001b[0m \u001b[0;36m0\u001b[0m\u001b[0;34m)\u001b[0m \u001b[0;32mand\u001b[0m \u001b[0;34m'encoding'\u001b[0m \u001b[0;32mnot\u001b[0m \u001b[0;32min\u001b[0m \u001b[0mpickle_load_args\u001b[0m\u001b[0;34m.\u001b[0m\u001b[0mkeys\u001b[0m\u001b[0;34m(\u001b[0m\u001b[0;34m)\u001b[0m\u001b[0;34m:\u001b[0m\u001b[0;34m\u001b[0m\u001b[0;34m\u001b[0m\u001b[0m\n\u001b[1;32m    425\u001b[0m             \u001b[0mpickle_load_args\u001b[0m\u001b[0;34m[\u001b[0m\u001b[0;34m'encoding'\u001b[0m\u001b[0;34m]\u001b[0m \u001b[0;34m=\u001b[0m \u001b[0;34m'utf-8'\u001b[0m\u001b[0;34m\u001b[0m\u001b[0;34m\u001b[0m\u001b[0m\n\u001b[0;32m--> 426\u001b[0;31m         \u001b[0;32mreturn\u001b[0m \u001b[0m_load\u001b[0m\u001b[0;34m(\u001b[0m\u001b[0mf\u001b[0m\u001b[0;34m,\u001b[0m \u001b[0mmap_location\u001b[0m\u001b[0;34m,\u001b[0m \u001b[0mpickle_module\u001b[0m\u001b[0;34m,\u001b[0m \u001b[0;34m**\u001b[0m\u001b[0mpickle_load_args\u001b[0m\u001b[0;34m)\u001b[0m\u001b[0;34m\u001b[0m\u001b[0;34m\u001b[0m\u001b[0m\n\u001b[0m\u001b[1;32m    427\u001b[0m     \u001b[0;32mfinally\u001b[0m\u001b[0;34m:\u001b[0m\u001b[0;34m\u001b[0m\u001b[0;34m\u001b[0m\u001b[0m\n\u001b[1;32m    428\u001b[0m         \u001b[0;32mif\u001b[0m \u001b[0mnew_fd\u001b[0m\u001b[0;34m:\u001b[0m\u001b[0;34m\u001b[0m\u001b[0;34m\u001b[0m\u001b[0m\n",
      "\u001b[0;32m~/opt/anaconda3/lib/python3.7/site-packages/torch/serialization.py\u001b[0m in \u001b[0;36m_load\u001b[0;34m(f, map_location, pickle_module, **pickle_load_args)\u001b[0m\n\u001b[1;32m    611\u001b[0m     \u001b[0munpickler\u001b[0m \u001b[0;34m=\u001b[0m \u001b[0mpickle_module\u001b[0m\u001b[0;34m.\u001b[0m\u001b[0mUnpickler\u001b[0m\u001b[0;34m(\u001b[0m\u001b[0mf\u001b[0m\u001b[0;34m,\u001b[0m \u001b[0;34m**\u001b[0m\u001b[0mpickle_load_args\u001b[0m\u001b[0;34m)\u001b[0m\u001b[0;34m\u001b[0m\u001b[0;34m\u001b[0m\u001b[0m\n\u001b[1;32m    612\u001b[0m     \u001b[0munpickler\u001b[0m\u001b[0;34m.\u001b[0m\u001b[0mpersistent_load\u001b[0m \u001b[0;34m=\u001b[0m \u001b[0mpersistent_load\u001b[0m\u001b[0;34m\u001b[0m\u001b[0;34m\u001b[0m\u001b[0m\n\u001b[0;32m--> 613\u001b[0;31m     \u001b[0mresult\u001b[0m \u001b[0;34m=\u001b[0m \u001b[0munpickler\u001b[0m\u001b[0;34m.\u001b[0m\u001b[0mload\u001b[0m\u001b[0;34m(\u001b[0m\u001b[0;34m)\u001b[0m\u001b[0;34m\u001b[0m\u001b[0;34m\u001b[0m\u001b[0m\n\u001b[0m\u001b[1;32m    614\u001b[0m \u001b[0;34m\u001b[0m\u001b[0m\n\u001b[1;32m    615\u001b[0m     \u001b[0mdeserialized_storage_keys\u001b[0m \u001b[0;34m=\u001b[0m \u001b[0mpickle_module\u001b[0m\u001b[0;34m.\u001b[0m\u001b[0mload\u001b[0m\u001b[0;34m(\u001b[0m\u001b[0mf\u001b[0m\u001b[0;34m,\u001b[0m \u001b[0;34m**\u001b[0m\u001b[0mpickle_load_args\u001b[0m\u001b[0;34m)\u001b[0m\u001b[0;34m\u001b[0m\u001b[0;34m\u001b[0m\u001b[0m\n",
      "\u001b[0;31mAttributeError\u001b[0m: Can't get attribute 'gelu' on <module 'transformers.modeling_xlnet' from '/Users/chenyutsai/opt/anaconda3/lib/python3.7/site-packages/transformers/modeling_xlnet.py'>"
     ]
    }
   ],
   "source": [
    "from bertviz import bertviz\n",
    "\n",
    "model_version = 'xlnet-base-cased'\n",
    "#model_multi = model \n",
    "model_pretrained = XLNetModel.from_pretrained(model_version, output_attentions=True)\n",
    "model_single = torch.load('acc_0.52_complete.pkl',map_location=torch.device('cpu'))\n",
    "tokenizer = XLNetTokenizer.from_pretrained('xlnet-base-cased') "
   ]
  },
  {
   "cell_type": "code",
   "execution_count": 29,
   "metadata": {},
   "outputs": [],
   "source": [
    "def explainability_compare(model, tokenizer, sentence_a, sentence_b, test_sentence_a, test_sentence_b):\n",
    "    inputs = tokenizer.encode_plus(sentence_a, sentence_b, return_tensors='pt', add_special_tokens=True)\n",
    "    input_ids = inputs['input_ids'].cuda()\n",
    "    input_ids.squeeze()\n",
    "    tokens = tokenizer.convert_ids_to_tokens(input_ids.squeeze().tolist())\n",
    "    token_type_ids = inputs['token_type_ids'].cuda()\n",
    "    \n",
    "    model.eval()\n",
    "    with torch.no_grad():\n",
    "        outputs = model(input_ids, token_type_ids=token_type_ids)[1]\n",
    "    attention = model(input_ids, token_type_ids=token_type_ids)[-1]\n",
    "    \n",
    "    attn = format_attention(attention, tokens)  \n",
    "    tokens = format_special_chars(tokens)\n",
    "    sentence_b_start = token_type_ids[0].tolist().index(1)\n",
    "    slice_a = slice(0, sentence_b_start)\n",
    "    slice_b = slice(sentence_b_start, len(tokens))\n",
    "    attn_data = attn[:, :, slice_a, slice_b]\n",
    "    sentence_a_tokens = tokens[slice_a]\n",
    "    sentence_b_tokens = tokens[slice_b]\n",
    "    pair = pair_match(sentence_a_tokens, sentence_b_tokens, attn_data=attn_data)\n",
    "    pair = sorted(pair, key=lambda pair: pair[2], reverse=True)\n",
    "    pair = pair_return(pair)\n",
    "    \n",
    "    test_inputs = tokenizer.encode_plus(test_sentence_a, test_sentence_b, return_tensors='pt', add_special_tokens=False)\n",
    "    test_input_ids = test_inputs['input_ids']\n",
    "    test_input_ids.squeeze()\n",
    "    test_tokens = tokenizer.convert_ids_to_tokens(test_input_ids.squeeze().tolist())\n",
    "    test_token_type_ids = test_inputs['token_type_ids']\n",
    "    test_tokens = format_special_chars(test_tokens)\n",
    "    test_sentence_b_start = test_token_type_ids[0].tolist().index(1)\n",
    "    test_slice_a = slice(0, test_sentence_b_start)\n",
    "    test_slice_b = slice(test_sentence_b_start, len(test_tokens))\n",
    "    test_sentence_a_tokens = test_tokens[test_slice_a]\n",
    "    test_sentence_b_tokens = test_tokens[test_slice_b]\n",
    "    test_pair = pair_match(test_sentence_a_tokens, test_sentence_b_tokens, attn_data=None)\n",
    "\n",
    "    return MRR_calculate(test_pair, pair)"
   ]
  },
  {
   "cell_type": "code",
   "execution_count": 10,
   "metadata": {},
   "outputs": [],
   "source": [
    "tokenizer = XLNetTokenizer.from_pretrained('xlnet-base-cased')\n",
    "inputs = tokenizer.encode_plus(sentence_a, sentence_b, return_tensors='pt', add_special_tokens=False)\n",
    "input_ids = inputs['input_ids']\n",
    "input_ids.squeeze()\n",
    "tokens = tokenizer.convert_ids_to_tokens(input_ids.squeeze().tolist())\n",
    "token_type_ids = inputs['token_type_ids']\n",
    "tokens = format_special_chars(tokens)"
   ]
  },
  {
   "cell_type": "code",
   "execution_count": 6,
   "metadata": {},
   "outputs": [],
   "source": [
    "# sentence_a = 'sentence 1'\n",
    "# sentence_b = 'sentence 2'\n",
    "sentence_a = \"\"\"a soyuz capsule carrying a russian cosmonaut, an american astronaut and u.s. billionaire tourist charles simonyi has docked at the international space station. russian cosmonaut gennady padalka manually guided the capsule to a stop ahead of schedule saturday two days after blasting off from the baikonur cosmodrome in kazakhstan. the crews of the capsule and the station will spend around three hours checking seals before opening the air locks and meeting up facetoface.\n",
    "\"\"\"\n",
    "sentence_b = \"charles simonyi is a russian cosmonaut.\""
   ]
  },
  {
   "cell_type": "code",
   "execution_count": 57,
   "metadata": {},
   "outputs": [],
   "source": [
    "testset = Dataset_3Way(\"test_2\", tokenizer=tokenizer)\n",
    "testloader = DataLoader(testset, batch_size=1, collate_fn=create_mini_batch)"
   ]
  },
  {
   "cell_type": "code",
   "execution_count": 60,
   "metadata": {},
   "outputs": [
    {
     "name": "stdout",
     "output_type": "stream",
     "text": [
      "tensor([[0.5723, 0.1841, 0.1501]])\n",
      "tensor([[ 0.7128, -1.1001, -0.2352]])\n",
      "tensor([[ 1.5935, -1.3127, -0.5411]])\n"
     ]
    }
   ],
   "source": [
    "predictions = get_predictions(model2, testloader)"
   ]
  },
  {
   "cell_type": "code",
   "execution_count": 67,
   "metadata": {},
   "outputs": [
    {
     "name": "stdout",
     "output_type": "stream",
     "text": [
      "tensor([[ 0.1305,  0.1911, -0.3580]])\n",
      "tensor([[ 0.5888, -0.6714, -0.3910]])\n",
      "tensor([[ 0.8907, -0.8635, -0.5242]])\n"
     ]
    }
   ],
   "source": [
    "testset = Dataset_3Way(\"test_2\", tokenizer=tokenizer)\n",
    "testloader = DataLoader(testset, batch_size=1, collate_fn=create_mini_batch)\n",
    "predictions = get_predictions(model2, testloader)"
   ]
  },
  {
   "cell_type": "code",
   "execution_count": 30,
   "metadata": {},
   "outputs": [
    {
     "name": "stdout",
     "output_type": "stream",
     "text": [
      "tensor([[ 2.3032, -1.0553, -0.4880]])\n"
     ]
    }
   ],
   "source": [
    "model2.eval()\n",
    "with torch.no_grad():\n",
    "    pred = model2(input_ids, token_type_ids=token_type_ids)[0]\n",
    "print(pred)"
   ]
  },
  {
   "cell_type": "code",
   "execution_count": 15,
   "metadata": {},
   "outputs": [],
   "source": [
    "inputs = tokenizer.encode_plus(sentence_a, sentence_b, return_tensors='pt', add_special_tokens=True)"
   ]
  },
  {
   "cell_type": "code",
   "execution_count": 16,
   "metadata": {},
   "outputs": [],
   "source": [
    "input_ids = inputs['input_ids'].cuda()\n",
    "input_ids.squeeze()\n",
    "tokens = tokenizer.convert_ids_to_tokens(input_ids.squeeze().tolist())\n",
    "token_type_ids = inputs['token_type_ids'].cuda()"
   ]
  },
  {
   "cell_type": "code",
   "execution_count": 29,
   "metadata": {},
   "outputs": [],
   "source": [
    "with torch.no_grad():\n",
    "    outputs = model_trained(input_ids, token_type_ids=token_type_ids)[1]"
   ]
  },
  {
   "cell_type": "code",
   "execution_count": 25,
   "metadata": {},
   "outputs": [],
   "source": [
    "attention_trained = model_trained(input_ids, token_type_ids=token_type_ids)[-1]"
   ]
  },
  {
   "cell_type": "code",
   "execution_count": 30,
   "metadata": {},
   "outputs": [],
   "source": [
    "input_ids = inputs['input_ids']\n",
    "input_ids.squeeze()\n",
    "tokens = tokenizer.convert_ids_to_tokens(input_ids.squeeze().tolist())\n",
    "token_type_ids = inputs['token_type_ids']"
   ]
  },
  {
   "cell_type": "code",
   "execution_count": 31,
   "metadata": {},
   "outputs": [],
   "source": [
    "attention = model(input_ids, token_type_ids=token_type_ids)[-1]"
   ]
  },
  {
   "cell_type": "code",
   "execution_count": 32,
   "metadata": {},
   "outputs": [],
   "source": [
    "input_id_list = input_ids[0].tolist() # Batch index 0\n",
    "input_id_list\n",
    "tokens = tokenizer.convert_ids_to_tokens(input_id_list) "
   ]
  },
  {
   "cell_type": "code",
   "execution_count": 9,
   "metadata": {},
   "outputs": [],
   "source": [
    "def format_attention(attention, tokens):\n",
    "    for i, t in enumerate(tokens):\n",
    "        if t in (\"<sep>\", \"<cls>\"):\n",
    "            for layer_attn in attention:\n",
    "                layer_attn[0, :, i, :] = 0\n",
    "                layer_attn[0, :, :, i] = 0\n",
    "    squeezed = []\n",
    "    for layer_attention in attention:\n",
    "        # 1 x num_heads x seq_len x seq_len\n",
    "        squeezed.append(layer_attention.squeeze(0))\n",
    "    # num_layers x num_heads x seq_len x seq_len\n",
    "    return torch.stack(squeezed)"
   ]
  },
  {
   "cell_type": "code",
   "execution_count": 8,
   "metadata": {},
   "outputs": [],
   "source": [
    "def format_special_chars(tokens):\n",
    "    return [t.replace('Ġ', '').replace('▁', '').replace('</w>', '') for t in tokens]"
   ]
  },
  {
   "cell_type": "code",
   "execution_count": 14,
   "metadata": {},
   "outputs": [],
   "source": [
    "def look_score(attn_data, index_a, index_b):\n",
    "    score = 0.\n",
    "    for layer in attn_data:\n",
    "        for head in layer:\n",
    "            score_individaul = head[index_a][index_b].tolist()\n",
    "            score += score_individaul\n",
    "    return round(score, 3)"
   ]
  },
  {
   "cell_type": "code",
   "execution_count": 15,
   "metadata": {},
   "outputs": [],
   "source": [
    "def pair_match(sentence_a_tokens, sentence_b_tokens, attn_data=None):\n",
    "    whole = []\n",
    "    for token_a in sentence_a_tokens:\n",
    "        index_a = sentence_a_tokens.index(token_a)\n",
    "        for token_b in sentence_b_tokens:\n",
    "            index_b = sentence_b_tokens.index(token_b)\n",
    "            if attn_data is not None:\n",
    "                score = look_score(attn_data, index_a, index_b)\n",
    "                pair = (token_a, token_b, score)\n",
    "                if score != 0:\n",
    "                    whole.append(pair)\n",
    "            else:\n",
    "                pair = (token_a, token_b)\n",
    "                whole.append(pair)\n",
    "    return whole"
   ]
  },
  {
   "cell_type": "code",
   "execution_count": 37,
   "metadata": {},
   "outputs": [],
   "source": [
    "attn = format_attention(attention, tokens)\n",
    "attn_trained = format_attention(attention_trained, tokens)"
   ]
  },
  {
   "cell_type": "code",
   "execution_count": 38,
   "metadata": {},
   "outputs": [],
   "source": [
    "tokens = format_special_chars(tokens)\n",
    "sentence_b_start = token_type_ids[0].tolist().index(1)\n",
    "slice_a = slice(0, sentence_b_start)\n",
    "slice_b = slice(sentence_b_start, len(tokens))\n",
    "attn_data = attn[:, :, slice_a, slice_b]\n",
    "attn_data_trained = attn_trained[:, :, slice_a, slice_b]\n",
    "sentence_a_tokens = tokens[slice_a]\n",
    "sentence_b_tokens = tokens[slice_b]\n",
    "pair = pair_match(sentence_a_tokens, sentence_b_tokens, attn_data=attn_data)\n",
    "pair = sorted(pair, key=lambda pair: pair[2], reverse=True) \n",
    "pair_trained = pair_match(sentence_a_tokens, sentence_b_tokens, attn_data_trained)\n",
    "pair_trained = sorted(pair_trained, key=lambda pair_trained: pair_trained[2], reverse=True) "
   ]
  },
  {
   "cell_type": "code",
   "execution_count": 17,
   "metadata": {},
   "outputs": [],
   "source": [
    "def pair_return(pair):\n",
    "    lst = []\n",
    "    for a, b, s in pair:\n",
    "        p = (a, b)\n",
    "        lst.append(p)\n",
    "    return lst"
   ]
  },
  {
   "cell_type": "code",
   "execution_count": null,
   "metadata": {},
   "outputs": [],
   "source": [
    "pair = pair_return(pair)\n",
    "pair_trained = pair_return(pair_trained)"
   ]
  },
  {
   "cell_type": "code",
   "execution_count": 374,
   "metadata": {},
   "outputs": [
    {
     "data": {
      "text/plain": [
       "[('A', 'a'), ('A', 'a'), ('game', 'sport'), ('soccer', 'sport')]"
      ]
     },
     "execution_count": 374,
     "metadata": {},
     "output_type": "execute_result"
    }
   ],
   "source": [
    "import random\n",
    "\n",
    "sampling = random.choices(pair_truth, k=4)\n",
    "sampling"
   ]
  },
  {
   "cell_type": "code",
   "execution_count": 45,
   "metadata": {},
   "outputs": [],
   "source": [
    "test_sentence_a = \"\"\"an american astronaut and u.s. billionaire tourist charles simonyi\"\"\"\n",
    "test_sentence_b = 'charles simonyi is a russian cosmonaut'\n",
    "\n",
    "inputs = tokenizer.encode_plus(test_sentence_a, test_sentence_b, return_tensors='pt', add_special_tokens=False)\n",
    "input_ids = inputs['input_ids']\n",
    "input_ids.squeeze()\n",
    "test_tokens = tokenizer.convert_ids_to_tokens(input_ids.squeeze().tolist())\n",
    "test_token_type_ids = inputs['token_type_ids']\n",
    "test_tokens = format_special_chars(test_tokens)\n",
    "test_sentence_b_start = test_token_type_ids[0].tolist().index(1)\n",
    "slice_a = slice(0, test_sentence_b_start)\n",
    "slice_b = slice(test_sentence_b_start, len(test_tokens))\n",
    "test_sentence_a_tokens = test_tokens[slice_a]\n",
    "test_sentence_b_tokens = test_tokens[slice_b]\n",
    "test_pair = pair_match(test_sentence_a_tokens, test_sentence_b_tokens, attn_data=None)"
   ]
  },
  {
   "cell_type": "code",
   "execution_count": 19,
   "metadata": {},
   "outputs": [],
   "source": [
    "def MRR_calculate(pair_truth, pair_all):\n",
    "    final_score = 0.\n",
    "    for query in pair_truth:\n",
    "        for response in range(len(pair_all)):\n",
    "            if pair_all[response] == query:\n",
    "                score = 1/(response+1)\n",
    "                final_score += score\n",
    "    final_score = final_score/len(pair_truth)\n",
    "    return final_score\n",
    "\n",
    "def MRR_mean(pair_truth, pair_all, top_k, times):\n",
    "    filtered = random.choices(pair_truth, k=top_k)\n",
    "    final = 0.\n",
    "    for i in range(times):\n",
    "        score = MRR_calculate(filtered, pair_all)\n",
    "        final += score\n",
    "    final = final/times\n",
    "    return final\n",
    "\n",
    "# first = MRR_mean(test_pair, pair, 6, 1000)\n",
    "# second = MRR_mean(test_pair, pair_trained, 6, 1000)\n",
    "# print(first, second)"
   ]
  },
  {
   "cell_type": "markdown",
   "metadata": {},
   "source": [
    "# Contradiction"
   ]
  },
  {
   "cell_type": "code",
   "execution_count": 33,
   "metadata": {},
   "outputs": [
    {
     "name": "stdout",
     "output_type": "stream",
     "text": [
      "Pretrained: 0.024615\n",
      "SingleTask: 0.015987\n",
      "MultiTask: 0.025282\n"
     ]
    }
   ],
   "source": [
    "sentence_a = \"\"\"a soyuz capsule carrying a russian cosmonaut, an american astronaut and u.s. billionaire tourist charles simonyi has docked at the international space station. russian cosmonaut gennady padalka manually guided the capsule to a stop ahead of schedule saturday two days after blasting off from the baikonur cosmodrome in kazakhstan. the crews of the capsule and the station will spend around three hours checking seals before opening the air locks and meeting up facetoface.\n",
    "\"\"\"\n",
    "sentence_b = \"charles simonyi is a russian cosmonaut.\"\n",
    "\n",
    "test_sentence_a = \"an american astronaut and u.s. billionaire tourist charles simonyi\"\n",
    "test_sentence_b = 'charles simonyi is a russian cosmonaut'\n",
    "\n",
    "model_pretrained.to(device)\n",
    "X_pretrained = explainability_compare(model_pretrained, tokenizer, sentence_a, sentence_b, test_sentence_a, test_sentence_b)\n",
    "X_single = explainability_compare(model_single, tokenizer, sentence_a, sentence_b, test_sentence_a, test_sentence_b)\n",
    "X_multi = explainability_compare(model_multi, tokenizer, sentence_a, sentence_b, test_sentence_a, test_sentence_b)\n",
    "\n",
    "print(\"Pretrained: %6f\\nSingleTask: %6f\\nMultiTask: %6f\" % (X_pretrained, X_single, X_multi))"
   ]
  },
  {
   "cell_type": "code",
   "execution_count": 34,
   "metadata": {},
   "outputs": [
    {
     "name": "stdout",
     "output_type": "stream",
     "text": [
      "Pretrained: 0.011633\n",
      "SingleTask: 0.012457\n",
      "MultiTask: 0.019987\n"
     ]
    }
   ],
   "source": [
    "sentence_a = \"\"\"bout who is generally believed to be a model for the arms dealer portrayed by nicolas cage in the 2005 movie 'lord of war'  has repeatedly denied any involvement in illicit activities. at a hearing earlier this month, he angrily accused the united states of framing him and pressuring thailand to extradite him. he has long been linked to some of the world's most notorious conflicts, allegedly supplying arms to former liberian dictator charles taylor and libyan leader colonel gaddafi.\n",
    "\"\"\"\n",
    "sentence_b = \"gaddafi is the liberian dictator.\"\n",
    "\n",
    "test_sentence_a = \"former liberian dictator charles taylor\"\n",
    "test_sentence_b = 'gaddafi is the liberian dictator'\n",
    "\n",
    "model_pretrained.to(device)\n",
    "X_pretrained = explainability_compare(model_pretrained, tokenizer, sentence_a, sentence_b, test_sentence_a, test_sentence_b)\n",
    "X_single = explainability_compare(model_single, tokenizer, sentence_a, sentence_b, test_sentence_a, test_sentence_b)\n",
    "X_multi = explainability_compare(model_multi, tokenizer, sentence_a, sentence_b, test_sentence_a, test_sentence_b)\n",
    "\n",
    "print(\"Pretrained: %6f\\nSingleTask: %6f\\nMultiTask: %6f\" % (X_pretrained, X_single, X_multi))"
   ]
  },
  {
   "cell_type": "code",
   "execution_count": 35,
   "metadata": {},
   "outputs": [
    {
     "name": "stdout",
     "output_type": "stream",
     "text": [
      "Pretrained: 0.022674\n",
      "SingleTask: 0.022773\n",
      "MultiTask: 0.024005\n"
     ]
    }
   ],
   "source": [
    "sentence_a = \"\"\"a man has hijacked a passenger plane in the jamaican resort of montego bay, and is still holding five crew members hostage, reports say. more than 150 passengers were on board when the man forced his way on board the canadabound charter plane but all have now been released. the man breached security and boarded as the plane was about to take off at around 2230 local time 0330 gmt. negotiations for the release of the hostages are said to be taking place.\"\"\"\n",
    "sentence_b = \"a plane crashed in the jamaican resort of montego bay.\"\n",
    "\n",
    "test_sentence_a = \"a man has hijacked a passenger plane in the jamaican resort of montego bay\"\n",
    "test_sentence_b = 'a plane crashed in the jamaican resort of montego bay'\n",
    "\n",
    "model_pretrained.to(device)\n",
    "X_pretrained = explainability_compare(model_pretrained, tokenizer, sentence_a, sentence_b, test_sentence_a, test_sentence_b)\n",
    "X_single = explainability_compare(model_single, tokenizer, sentence_a, sentence_b, test_sentence_a, test_sentence_b)\n",
    "X_multi = explainability_compare(model_multi, tokenizer, sentence_a, sentence_b, test_sentence_a, test_sentence_b)\n",
    "\n",
    "print(\"Pretrained: %6f\\nSingleTask: %6f\\nMultiTask: %6f\" % (X_pretrained, X_single, X_multi))"
   ]
  },
  {
   "cell_type": "code",
   "execution_count": 36,
   "metadata": {},
   "outputs": [
    {
     "name": "stdout",
     "output_type": "stream",
     "text": [
      "Pretrained: 0.017245\n",
      "SingleTask: 0.015898\n",
      "MultiTask: 0.017563\n"
     ]
    }
   ],
   "source": [
    "sentence_a = \"\"\"the hurricane caused severe destruction across the entire mississippi coast and into alabama, as far as 100 miles 160 km from the storm's center. katrina was the eleventh tropical storm, fifth hurricane, third major hurricane, and second category 5 hurricane of the 2005 atlantic season. it formed over the bahamas on august 23, 2005, and crossed southern florida as a moderate category 1 hurricane, causing some deaths and flooding there, before strengthening rapidly in the gulf of mexico and becoming one of the strongest hurricanes on record while at sea.\n",
    "\"\"\"\n",
    "sentence_b = \"hurricane katrina formed in august 2005 in the gulf of mexico.\"\n",
    "\n",
    "test_sentence_a = \"it formed over the bahamas on august 23, 2005\"\n",
    "test_sentence_b = 'hurricane katrina formed in august 2005 in the gulf of mexico.'\n",
    "\n",
    "model_pretrained.to(device)\n",
    "X_pretrained = explainability_compare(model_pretrained, tokenizer, sentence_a, sentence_b, test_sentence_a, test_sentence_b)\n",
    "X_single = explainability_compare(model_single, tokenizer, sentence_a, sentence_b, test_sentence_a, test_sentence_b)\n",
    "X_multi = explainability_compare(model_multi, tokenizer, sentence_a, sentence_b, test_sentence_a, test_sentence_b)\n",
    "\n",
    "print(\"Pretrained: %6f\\nSingleTask: %6f\\nMultiTask: %6f\" % (X_pretrained, X_single, X_multi))"
   ]
  },
  {
   "cell_type": "code",
   "execution_count": 37,
   "metadata": {},
   "outputs": [
    {
     "name": "stdout",
     "output_type": "stream",
     "text": [
      "Pretrained: 0.031021\n",
      "SingleTask: 0.027749\n",
      "MultiTask: 0.033714\n"
     ]
    }
   ],
   "source": [
    "sentence_a = \"\"\"north korea's rubberstamp parliament has reelected kim jongil as chairman of the national defence commission, the country's most powerful position. mr kim's reelection comes days after a rocket launch that was lauded at home but criticised at the un. analysts say the move will help cement mr kim's position, after rumours he lost some of his grip on power after suffering a stroke in august. observers have expressed concern about the apparent lack of a succession plan.\n",
    "\"\"\"\n",
    "sentence_b = \"kim jongil is the chairman of the un.\"\n",
    "\n",
    "test_sentence_a = \"kim jongil as chairman of the national defence commission\"\n",
    "test_sentence_b = 'kim jongil is the chairman of the un.'\n",
    "\n",
    "model_pretrained.to(device)\n",
    "X_pretrained = explainability_compare(model_pretrained, tokenizer, sentence_a, sentence_b, test_sentence_a, test_sentence_b)\n",
    "X_single = explainability_compare(model_single, tokenizer, sentence_a, sentence_b, test_sentence_a, test_sentence_b)\n",
    "X_multi = explainability_compare(model_multi, tokenizer, sentence_a, sentence_b, test_sentence_a, test_sentence_b)\n",
    "\n",
    "print(\"Pretrained: %6f\\nSingleTask: %6f\\nMultiTask: %6f\" % (X_pretrained, X_single, X_multi))"
   ]
  },
  {
   "cell_type": "code",
   "execution_count": 40,
   "metadata": {},
   "outputs": [
    {
     "name": "stdout",
     "output_type": "stream",
     "text": [
      "Pretrained: 0.015666\n",
      "SingleTask: 0.016491\n",
      "MultiTask: 0.013709\n"
     ]
    }
   ],
   "source": [
    "sentence_a = \"\"\"leftist mauricio funes of el salvador's former marxist rebel fmln party has won the country's presidential election. he defeated his conservative rival, the arena party's rodrigo avila, who has admitted defeat. arena had won every presidential election since the end of el salvador's civil war 18 years ago. addressing jubilant supporters, mr funes said it was the happiest day of his life and the beginning of a new chapter of peace for the country. branded by his opponents as a puppet of venezuala's president hugo chavez, mr funes vowed to respect all salvadorian democratic institutions.\n",
    "\"\"\"\n",
    "sentence_b = \"rodrigo avila has won el salvador's presidential election.\"\n",
    "\n",
    "test_sentence_a = \"\"\"leftist mauricio funes of el salvador's former marxist rebel fmln party has won the country's presidential election\"\"\"\n",
    "test_sentence_b = \"rodrigo avila has won el salvador's presidential election\"\n",
    "\n",
    "model_pretrained.to(device)\n",
    "X_pretrained = explainability_compare(model_pretrained, tokenizer, sentence_a, sentence_b, test_sentence_a, test_sentence_b)\n",
    "X_single = explainability_compare(model_single, tokenizer, sentence_a, sentence_b, test_sentence_a, test_sentence_b)\n",
    "X_multi = explainability_compare(model_multi, tokenizer, sentence_a, sentence_b, test_sentence_a, test_sentence_b)\n",
    "\n",
    "print(\"Pretrained: %6f\\nSingleTask: %6f\\nMultiTask: %6f\" % (X_pretrained, X_single, X_multi))"
   ]
  },
  {
   "cell_type": "markdown",
   "metadata": {},
   "source": [
    "# Entailment"
   ]
  },
  {
   "cell_type": "code",
   "execution_count": 41,
   "metadata": {},
   "outputs": [
    {
     "name": "stdout",
     "output_type": "stream",
     "text": [
      "Pretrained: 0.115151\n",
      "SingleTask: 0.062170\n",
      "MultiTask: 0.113543\n"
     ]
    }
   ],
   "source": [
    "sentence_a = \"\"\"us music producer phil spector has been convicted of murdering actress lana clarkson, after a fivemonth retrial. the 68yearold, famous for the \"wall of sound\" recording technique, faces between 15 years and life in prison. he had pleaded not guilty to the second degree murder of 40yearold ms clarkson, who was shot in the mouth at spector's home in los angeles. spector was remanded in custody until sentencing on 29 may. his lawyer has said he intends to appeal.\n",
    "\"\"\"\n",
    "sentence_b = \"phil spector was a music producer.\"\n",
    "\n",
    "test_sentence_a = \"us music producer phil spector\"\n",
    "test_sentence_b = \"phil spector was a music producer\"\n",
    "\n",
    "model_pretrained.to(device)\n",
    "X_pretrained = explainability_compare(model_pretrained, tokenizer, sentence_a, sentence_b, test_sentence_a, test_sentence_b)\n",
    "X_single = explainability_compare(model_single, tokenizer, sentence_a, sentence_b, test_sentence_a, test_sentence_b)\n",
    "X_multi = explainability_compare(model_multi, tokenizer, sentence_a, sentence_b, test_sentence_a, test_sentence_b)\n",
    "\n",
    "print(\"Pretrained: %6f\\nSingleTask: %6f\\nMultiTask: %6f\" % (X_pretrained, X_single, X_multi))"
   ]
  },
  {
   "cell_type": "code",
   "execution_count": 42,
   "metadata": {},
   "outputs": [
    {
     "name": "stdout",
     "output_type": "stream",
     "text": [
      "Pretrained: 0.015529\n",
      "SingleTask: 0.006583\n",
      "MultiTask: 0.016079\n"
     ]
    }
   ],
   "source": [
    "sentence_a = \"\"\"crippa died a week ago at santa barbara cottage hospital, seven days after he ate a heaping plate of the deadly amanita ocreata mushrooms, said his wife, joan crippa. known as \"death angel\" for its snowwhite appearance, the fungus has deadly toxins that worked their way through crippa's system, sickening him and eventually causing his liver to fail. family members had often warned crippa against indulging in his passion for hunting wild mushrooms, an activity he learned from his italian immigrant parents, his wife said.\n",
    "\"\"\"\n",
    "sentence_b = \"crippa was killed by a wild mushroom.\"\n",
    "\n",
    "test_sentence_a = \"crippa died a week ago at santa barbara cottage hospital, seven days after he ate a heaping plate of the deadly amanita ocreata mushrooms\"\n",
    "test_sentence_b = \"crippa was killed by a wild mushroom\"\n",
    "\n",
    "model_pretrained.to(device)\n",
    "X_pretrained = explainability_compare(model_pretrained, tokenizer, sentence_a, sentence_b, test_sentence_a, test_sentence_b)\n",
    "X_single = explainability_compare(model_single, tokenizer, sentence_a, sentence_b, test_sentence_a, test_sentence_b)\n",
    "X_multi = explainability_compare(model_multi, tokenizer, sentence_a, sentence_b, test_sentence_a, test_sentence_b)\n",
    "\n",
    "print(\"Pretrained: %6f\\nSingleTask: %6f\\nMultiTask: %6f\" % (X_pretrained, X_single, X_multi))"
   ]
  },
  {
   "cell_type": "code",
   "execution_count": 43,
   "metadata": {},
   "outputs": [
    {
     "name": "stdout",
     "output_type": "stream",
     "text": [
      "Pretrained: 0.017591\n",
      "SingleTask: 0.016502\n",
      "MultiTask: 0.023821\n"
     ]
    }
   ],
   "source": [
    "sentence_a = \"\"\"one man, who did not want to be named, said: \"there was a big fight  i heard it was some sort of retaliation after something else that happened earlier on.\" most of larkhall park has been sealed off following the incident. a 100metre stretch of wandsworth road, which runs along the western side of the park, has also been closed to traffic. the teenager's death brings the total number of young people to die in violent circumstances in london this year, to seven.\n",
    "\"\"\"\n",
    "sentence_b = \"seven young people died in violent situations this year in london.\"\n",
    "\n",
    "test_sentence_a = \"the teenager's death brings the total number of young people to die in violent circumstances in london this year, to seven\"\n",
    "test_sentence_b = \"seven young people died in violent situations this year in london\"\n",
    "\n",
    "model_pretrained.to(device)\n",
    "X_pretrained = explainability_compare(model_pretrained, tokenizer, sentence_a, sentence_b, test_sentence_a, test_sentence_b)\n",
    "X_single = explainability_compare(model_single, tokenizer, sentence_a, sentence_b, test_sentence_a, test_sentence_b)\n",
    "X_multi = explainability_compare(model_multi, tokenizer, sentence_a, sentence_b, test_sentence_a, test_sentence_b)\n",
    "\n",
    "print(\"Pretrained: %6f\\nSingleTask: %6f\\nMultiTask: %6f\" % (X_pretrained, X_single, X_multi))"
   ]
  },
  {
   "cell_type": "code",
   "execution_count": 44,
   "metadata": {},
   "outputs": [
    {
     "name": "stdout",
     "output_type": "stream",
     "text": [
      "Pretrained: 0.027014\n",
      "SingleTask: 0.028418\n",
      "MultiTask: 0.029012\n"
     ]
    }
   ],
   "source": [
    "sentence_a = \"\"\"a ugandan spy who set up a bogus charity and embezzled thousands of dollars of funding meant for aids patients has been jailed for 10 years. teddy sseezi cheeye, 51, took $56,000 38,000 from the global fund charity, which aims to prevent hiv, tuberculosis and malaria. he set up an ngo, the uganda centre for accountability, which received cash in 2005 to do hiv/aids community work. but the high court in kampala heard cheeye siphoned off the funds instead.\n",
    "\"\"\"\n",
    "sentence_b = \"teddy sseezi cheeye is an ugandan spy.\"\n",
    "\n",
    "test_sentence_a = \"a ugandan spy who set up a bogus charity and embezzled thousands of dollars of funding meant for aids patients has been jailed for 10 years. teddy sseezi cheeye\"\n",
    "test_sentence_b = \"teddy sseezi cheeye is an ugandan spy\"\n",
    "\n",
    "model_pretrained.to(device)\n",
    "X_pretrained = explainability_compare(model_pretrained, tokenizer, sentence_a, sentence_b, test_sentence_a, test_sentence_b)\n",
    "X_single = explainability_compare(model_single, tokenizer, sentence_a, sentence_b, test_sentence_a, test_sentence_b)\n",
    "X_multi = explainability_compare(model_multi, tokenizer, sentence_a, sentence_b, test_sentence_a, test_sentence_b)\n",
    "\n",
    "print(\"Pretrained: %6f\\nSingleTask: %6f\\nMultiTask: %6f\" % (X_pretrained, X_single, X_multi))"
   ]
  },
  {
   "cell_type": "code",
   "execution_count": 45,
   "metadata": {},
   "outputs": [
    {
     "name": "stdout",
     "output_type": "stream",
     "text": [
      "Pretrained: 0.012499\n",
      "SingleTask: 0.012254\n",
      "MultiTask: 0.022521\n"
     ]
    }
   ],
   "source": [
    "sentence_a = \"\"\"a japanese pop singer who was arrested for public indecency after being found drunk and naked in a tokyo park has apologised for his \"shameful\" conduct. \"i drank a lot and did not know what i was doing,\" tsuyoshi kusanagi said on friday after being released by police. \"i deeply apologise to fans for causing so much trouble and worry,\" he added. kusanagi, 34, shot to fame as a member of 1980s boy band smap. he has not been charged for the incident, which took place in the early hours of thursday.\n",
    "\"\"\"\n",
    "sentence_b = \"tsuyoshi kusanagi is a pop star.\"\n",
    "\n",
    "test_sentence_a = \"\"\"a japanese pop singer who was arrested for public indecency after being found drunk and naked in a tokyo park has apologised for his \"shameful\" conduct. \"i drank a lot and did not know what i was doing,\" tsuyoshi kusanagi said on friday after being released by police\"\"\"\n",
    "test_sentence_b = \"tsuyoshi kusanagi is a pop star\"\n",
    "\n",
    "model_pretrained.to(device)\n",
    "X_pretrained = explainability_compare(model_pretrained, tokenizer, sentence_a, sentence_b, test_sentence_a, test_sentence_b)\n",
    "X_single = explainability_compare(model_single, tokenizer, sentence_a, sentence_b, test_sentence_a, test_sentence_b)\n",
    "X_multi = explainability_compare(model_multi, tokenizer, sentence_a, sentence_b, test_sentence_a, test_sentence_b)\n",
    "\n",
    "print(\"Pretrained: %6f\\nSingleTask: %6f\\nMultiTask: %6f\" % (X_pretrained, X_single, X_multi))"
   ]
  },
  {
   "cell_type": "markdown",
   "metadata": {},
   "source": [
    "# Key span"
   ]
  },
  {
   "cell_type": "code",
   "execution_count": 46,
   "metadata": {},
   "outputs": [
    {
     "name": "stdout",
     "output_type": "stream",
     "text": [
      "Pretrained: 0.056409\n",
      "SingleTask: 0.057168\n",
      "MultiTask: 0.059053\n"
     ]
    }
   ],
   "source": [
    "sentence_a = \"\"\"a ugandan spy who set up a bogus charity and embezzled thousands of dollars of funding meant for aids patients has been jailed for 10 years. teddy sseezi cheeye, 51, took $56,000 38,000 from the global fund charity, which aims to prevent hiv, tuberculosis and malaria. he set up an ngo, the uganda centre for accountability, which received cash in 2005 to do hiv/aids community work. but the high court in kampala heard cheeye siphoned off the funds instead.\n",
    "\"\"\"\n",
    "sentence_b = \"teddy sseezi cheeye is an ugandan spy.\"\n",
    "\n",
    "test_sentence_a = \"a ugandan spy teddy sseezi cheeye\"\n",
    "test_sentence_b = \"teddy sseezi cheeye is an ugandan spy\"\n",
    "\n",
    "model_pretrained.to(device)\n",
    "X_pretrained = explainability_compare(model_pretrained, tokenizer, sentence_a, sentence_b, test_sentence_a, test_sentence_b)\n",
    "X_single = explainability_compare(model_single, tokenizer, sentence_a, sentence_b, test_sentence_a, test_sentence_b)\n",
    "X_multi = explainability_compare(model_multi, tokenizer, sentence_a, sentence_b, test_sentence_a, test_sentence_b)\n",
    "\n",
    "print(\"Pretrained: %6f\\nSingleTask: %6f\\nMultiTask: %6f\" % (X_pretrained, X_single, X_multi))"
   ]
  },
  {
   "cell_type": "code",
   "execution_count": 47,
   "metadata": {},
   "outputs": [
    {
     "name": "stdout",
     "output_type": "stream",
     "text": [
      "Pretrained: 0.037847\n",
      "SingleTask: 0.036912\n",
      "MultiTask: 0.062019\n"
     ]
    }
   ],
   "source": [
    "sentence_a = \"\"\"a japanese pop singer who was arrested for public indecency after being found drunk and naked in a tokyo park has apologised for his \"shameful\" conduct. \"i drank a lot and did not know what i was doing,\" tsuyoshi kusanagi said on friday after being released by police. \"i deeply apologise to fans for causing so much trouble and worry,\" he added. kusanagi, 34, shot to fame as a member of 1980s boy band smap. he has not been charged for the incident, which took place in the early hours of thursday.\n",
    "\"\"\"\n",
    "sentence_b = \"tsuyoshi kusanagi is a pop star.\"\n",
    "\n",
    "test_sentence_a = \"\"\"a japanese pop singer tsuyoshi kusanagi\"\"\"\n",
    "test_sentence_b = \"tsuyoshi kusanagi is a pop star\"\n",
    "\n",
    "model_pretrained.to(device)\n",
    "X_pretrained = explainability_compare(model_pretrained, tokenizer, sentence_a, sentence_b, test_sentence_a, test_sentence_b)\n",
    "X_single = explainability_compare(model_single, tokenizer, sentence_a, sentence_b, test_sentence_a, test_sentence_b)\n",
    "X_multi = explainability_compare(model_multi, tokenizer, sentence_a, sentence_b, test_sentence_a, test_sentence_b)\n",
    "\n",
    "print(\"Pretrained: %6f\\nSingleTask: %6f\\nMultiTask: %6f\" % (X_pretrained, X_single, X_multi))"
   ]
  },
  {
   "cell_type": "code",
   "execution_count": null,
   "metadata": {},
   "outputs": [],
   "source": []
  }
 ],
 "metadata": {
  "kernelspec": {
   "display_name": "Python 3",
   "language": "python",
   "name": "python3"
  },
  "language_info": {
   "codemirror_mode": {
    "name": "ipython",
    "version": 3
   },
   "file_extension": ".py",
   "mimetype": "text/x-python",
   "name": "python",
   "nbconvert_exporter": "python",
   "pygments_lexer": "ipython3",
   "version": "3.7.4"
  }
 },
 "nbformat": 4,
 "nbformat_minor": 2
}
