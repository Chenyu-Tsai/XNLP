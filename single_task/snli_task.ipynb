{
 "cells": [
  {
   "cell_type": "code",
   "execution_count": 13,
   "metadata": {},
   "outputs": [],
   "source": [
    "import os,sys,inspect\n",
    "current_dir = os.path.dirname(os.path.abspath(inspect.getfile(inspect.currentframe())))\n",
    "parent_dir = os.path.dirname(current_dir)\n",
    "sys.path.insert(0, parent_dir) \n",
    "import torch\n",
    "from torch import nn\n",
    "from torch.utils.data import DataLoader, RandomSampler, Dataset\n",
    "from transformers.modeling_utils import (WEIGHTS_NAME, PretrainedConfig, PreTrainedModel,\n",
    "                             SequenceSummary, PoolerAnswerClass, PoolerEndLogits, PoolerStartLogits)\n",
    "from transformers import XLNetTokenizer, XLNetForSequenceClassification, XLNetPreTrainedModel, XLNetModel\n",
    "from torch.nn import CrossEntropyLoss, BCEWithLogitsLoss\n",
    "from transformers import get_linear_schedule_with_warmup\n",
    "from sklearn.metrics import f1_score, precision_score, recall_score, accuracy_score\n",
    "from torch.utils.data.dataset import ConcatDataset\n",
    "from XLNet import XLNetForMultiSequenceClassification, Dataset_multi, Dataset_3Way, get_predictions\n",
    "\n",
    "import pandas as pd\n",
    "import numpy as np\n",
    "import random\n",
    "from IPython.display import clear_output\n",
    "from tqdm.notebook import tqdm, trange\n",
    "import logging\n",
    "import os\n",
    "from dataclasses import dataclass\n",
    "from enum import Enum\n",
    "from typing import List, Optional, Union\n",
    "import csv"
   ]
  },
  {
   "cell_type": "code",
   "execution_count": 2,
   "metadata": {},
   "outputs": [],
   "source": [
    "@dataclass\n",
    "class InputFeatures:\n",
    "\n",
    "    input_ids: List[int]\n",
    "    attention_mask: List[int]\n",
    "    token_type_ids: Optional[List[int]] = None\n",
    "    label_ids: Optional[List[int]] = None"
   ]
  },
  {
   "cell_type": "code",
   "execution_count": 29,
   "metadata": {},
   "outputs": [
    {
     "ename": "SyntaxError",
     "evalue": "invalid syntax (<ipython-input-29-52af46679745>, line 1)",
     "output_type": "error",
     "traceback": [
      "\u001b[1;36m  File \u001b[1;32m\"<ipython-input-29-52af46679745>\"\u001b[1;36m, line \u001b[1;32m1\u001b[0m\n\u001b[1;33m    from transformers import XLNetConfig.keys()\u001b[0m\n\u001b[1;37m                                        ^\u001b[0m\n\u001b[1;31mSyntaxError\u001b[0m\u001b[1;31m:\u001b[0m invalid syntax\n"
     ]
    }
   ],
   "source": [
    "from transformers import XLNetConfig"
   ]
  },
  {
   "cell_type": "code",
   "execution_count": 30,
   "metadata": {},
   "outputs": [
    {
     "data": {
      "text/plain": [
       "dict_keys(['xlnet-base-cased', 'xlnet-large-cased'])"
      ]
     },
     "execution_count": 30,
     "metadata": {},
     "output_type": "execute_result"
    }
   ],
   "source": [
    "model = XLNet"
   ]
  },
  {
   "cell_type": "code",
   "execution_count": 16,
   "metadata": {},
   "outputs": [],
   "source": [
    "@dataclass\n",
    "class InputExample:\n",
    "    \n",
    "    uid: str\n",
    "    text_a: str\n",
    "    text_b: Optional[str] = None\n",
    "    text_eval: Optional[str] = None\n",
    "    label: Optional[str] = None\n",
    "    multi_label: Optional[str] = None\n",
    "\n",
    "    def to_json_string(self):\n",
    "        \"\"\" Serialzes this instance to a Json string. \"\"\"\n",
    "        return json.dumps(dataclasses.asdict(self), indent=2) + \"\\n\""
   ]
  },
  {
   "cell_type": "code",
   "execution_count": 22,
   "metadata": {},
   "outputs": [
    {
     "data": {
      "text/plain": [
       "{'_additional_special_tokens': ['<eop>', '<eod>'],\n",
       " '_bos_token': '<s>',\n",
       " '_cls_token': '<cls>',\n",
       " '_eos_token': '</s>',\n",
       " '_mask_token': '<mask>',\n",
       " '_pad_token': '<pad>',\n",
       " '_pad_token_type_id': 3,\n",
       " '_sep_token': '<sep>',\n",
       " '_unk_token': '<unk>',\n",
       " 'added_tokens_decoder': {},\n",
       " 'added_tokens_encoder': {},\n",
       " 'do_lower_case': False,\n",
       " 'init_inputs': (),\n",
       " 'init_kwargs': {'vocab_file': 'C:\\\\Users\\\\cheny\\\\.cache\\\\torch\\\\transformers\\\\dad589d582573df0293448af5109cb6981ca77239ed314e15ca63b7b8a318ddd.8b10bd978b5d01c21303cc761fc9ecd464419b3bf921864a355ba807cfbfafa8'},\n",
       " 'keep_accents': False,\n",
       " 'max_len': 1000000000000,\n",
       " 'max_len_sentences_pair': 999999999997,\n",
       " 'max_len_single_sentence': 999999999998,\n",
       " 'model_input_names': ['token_type_ids', 'attention_mask'],\n",
       " 'padding_side': 'left',\n",
       " 'remove_space': True,\n",
       " 'sp_model': <sentencepiece.SentencePieceProcessor; proxy of <Swig Object of type 'sentencepiece::SentencePieceProcessor *' at 0x000001D7202C0EA0> >,\n",
       " 'unique_added_tokens_encoder': {'</s>',\n",
       "  '<cls>',\n",
       "  '<eod>',\n",
       "  '<eop>',\n",
       "  '<mask>',\n",
       "  '<pad>',\n",
       "  '<s>',\n",
       "  '<sep>',\n",
       "  '<unk>'},\n",
       " 'vocab_file': 'C:\\\\Users\\\\cheny\\\\.cache\\\\torch\\\\transformers\\\\dad589d582573df0293448af5109cb6981ca77239ed314e15ca63b7b8a318ddd.8b10bd978b5d01c21303cc761fc9ecd464419b3bf921864a355ba807cfbfafa8'}"
      ]
     },
     "execution_count": 22,
     "metadata": {},
     "output_type": "execute_result"
    }
   ],
   "source": [
    "tokenizer.__dict__"
   ]
  },
  {
   "cell_type": "code",
   "execution_count": 3,
   "metadata": {},
   "outputs": [],
   "source": [
    "tokenizer = XLNetTokenizer.from_pretrained('xlnet-base-cased')\n",
    "trainset = Dataset_3Way(\"snli_train\", tokenizer=tokenizer, three_tasks=False)\n",
    "#train_sampler = RandomSampler(trainset)\n",
    "#train_dataloader = DataLoader(trainset, sampler=train_sampler, batch_size=1)"
   ]
  },
  {
   "cell_type": "code",
   "execution_count": 5,
   "metadata": {},
   "outputs": [],
   "source": [
    "batch_encoding = tokenizer.batch_encode_plus(\n",
    "        [(data[0], data[1]) for data in trainset], max_length=128, pad_to_max_length=True,\n",
    ")"
   ]
  },
  {
   "cell_type": "code",
   "execution_count": 7,
   "metadata": {},
   "outputs": [],
   "source": [
    "features = []\n",
    "\n",
    "for idx, data in enumerate(trainset):\n",
    "    inputs = {k: batch_encoding[k][idx] for k in batch_encoding}\n",
    "    \n",
    "    feature = InputFeatures(**inputs, label_ids=data[2])\n",
    "    features.append(feature)"
   ]
  },
  {
   "cell_type": "code",
   "execution_count": 31,
   "metadata": {},
   "outputs": [],
   "source": [
    "def read_tsv(input_file, quotechar=None):\n",
    "    \"\"\" Read a tab separated file \"\"\"\n",
    "    with open(input_file, \"r\", encoding=\"utf-8-sig\") as f:\n",
    "        return list(csv.reader(f, delimiter=\"\\t\", quotechar=quotechar))"
   ]
  },
  {
   "cell_type": "code",
   "execution_count": 32,
   "metadata": {},
   "outputs": [],
   "source": [
    "lines = read_tsv('../data/snli_train.tsv')"
   ]
  },
  {
   "cell_type": "code",
   "execution_count": 38,
   "metadata": {},
   "outputs": [
    {
     "data": {
      "text/plain": [
       "5"
      ]
     },
     "execution_count": 38,
     "metadata": {},
     "output_type": "execute_result"
    }
   ],
   "source": [
    "len(tokenizer.encode('text_b'))"
   ]
  },
  {
   "cell_type": "code",
   "execution_count": 36,
   "metadata": {},
   "outputs": [
    {
     "data": {
      "text/plain": [
       "['A person on a horse jumps over a broken down airplane.',\n",
       " 'A person is training his horse for a competition.',\n",
       " '1']"
      ]
     },
     "execution_count": 36,
     "metadata": {},
     "output_type": "execute_result"
    }
   ],
   "source": [
    "lines[1]"
   ]
  },
  {
   "cell_type": "code",
   "execution_count": 39,
   "metadata": {},
   "outputs": [],
   "source": [
    "max_len = max([len(tokenizer.encode(line[0])) for line in lines])"
   ]
  },
  {
   "cell_type": "code",
   "execution_count": 40,
   "metadata": {},
   "outputs": [
    {
     "data": {
      "text/plain": [
       "90"
      ]
     },
     "execution_count": 40,
     "metadata": {},
     "output_type": "execute_result"
    }
   ],
   "source": [
    "max_len"
   ]
  },
  {
   "cell_type": "code",
   "execution_count": null,
   "metadata": {},
   "outputs": [],
   "source": []
  }
 ],
 "metadata": {
  "kernelspec": {
   "display_name": "Python 3",
   "language": "python",
   "name": "python3"
  },
  "language_info": {
   "codemirror_mode": {
    "name": "ipython",
    "version": 3
   },
   "file_extension": ".py",
   "mimetype": "text/x-python",
   "name": "python",
   "nbconvert_exporter": "python",
   "pygments_lexer": "ipython3",
   "version": "3.7.4"
  }
 },
 "nbformat": 4,
 "nbformat_minor": 2
}
